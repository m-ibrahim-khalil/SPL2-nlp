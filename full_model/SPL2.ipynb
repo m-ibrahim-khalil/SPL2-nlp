{
  "nbformat": 4,
  "nbformat_minor": 0,
  "metadata": {
    "colab": {
      "name": "SPL2.ipynb",
      "provenance": [],
      "collapsed_sections": [],
      "include_colab_link": true
    },
    "kernelspec": {
      "name": "python3",
      "display_name": "Python 3"
    },
    "accelerator": "GPU"
  },
  "cells": [
    {
      "cell_type": "markdown",
      "metadata": {
        "id": "view-in-github",
        "colab_type": "text"
      },
      "source": [
        "<a href=\"https://colab.research.google.com/github/bsse1009/SPL2-nlp/blob/master/full_model/SPL2.ipynb\" target=\"_parent\"><img src=\"https://colab.research.google.com/assets/colab-badge.svg\" alt=\"Open In Colab\"/></a>"
      ]
    },
    {
      "cell_type": "code",
      "metadata": {
        "colab": {
          "base_uri": "https://localhost:8080/"
        },
        "id": "GIZQNYP40Lrj",
        "outputId": "34459595-4c73-425d-d5f3-1f94971458bc"
      },
      "source": [
        "from google.colab import drive\n",
        "drive.mount('/content/drive')"
      ],
      "execution_count": 2,
      "outputs": [
        {
          "output_type": "stream",
          "text": [
            "Drive already mounted at /content/drive; to attempt to forcibly remount, call drive.mount(\"/content/drive\", force_remount=True).\n"
          ],
          "name": "stdout"
        }
      ]
    },
    {
      "cell_type": "code",
      "metadata": {
        "id": "kJQWsu8d0rXv"
      },
      "source": [
        "import tensorflow as tf\n",
        "with tf.device('/device:GPU:0'):\n",
        "  !cp \"drive/My Drive/app/models/bidaf.py\" .\n",
        "  !cp \"drive/My Drive/app/data/magnitude/wiki-news-300d-1M.magnitude\" .\n",
        "  !cp \"drive/My Drive/app/data/magnitude/glove_medium_glove.6B.50d.magnitude.tmp\" .\n",
        "  # !cp \"drive/My Drive/app/data/preproccess_squad/dev.answer\" .\n",
        "  # !cp \"drive/My Drive/app/data/preproccess_squad/dev.context\" .\n",
        "  # !cp \"drive/My Drive/app/data/preproccess_squad/dev.question\" .\n",
        "  # !cp \"drive/My Drive/app/data/preproccess_squad/dev.span\" .\n",
        "  # !cp \"drive/My Drive/app/data/preproccess_squad/train_3.answer\" .\n",
        "  !cp \"drive/My Drive/app/data/preproccess_squad/train_4.context\" .\n",
        "  !cp \"drive/My Drive/app/data/preproccess_squad/train_4.question\" .\n",
        "  !cp \"drive/My Drive/app/data/preproccess_squad/train_4.span\" .\n",
        "  !cp \"drive/My Drive/app/data/preproccess_squad/squad_preproccess.py\" .\n",
        "  !cp \"drive/My Drive/app/data/preproccess_squad/download_glove.py\" .\n",
        "  !cp \"drive/My Drive/app/layers/BiDAF.py\" .\n",
        "  !cp \"drive/My Drive/app/layers/Modelling.py\" .\n",
        "  !cp \"drive/My Drive/app/layers/contexual_embedding.py\" .\n",
        "  !cp \"drive/My Drive/app/layers/highway_layer.py\" .\n",
        "  !cp \"drive/My Drive/app/layers/output.py\" .\n",
        "  !cp \"drive/My Drive/app/scripts/magnitude.py\" .\n",
        "  !cp \"drive/My Drive/app/data/magnitude/glove-lemmatized.6B.100d.magnitude\" ."
      ],
      "execution_count": 3,
      "outputs": []
    },
    {
      "cell_type": "code",
      "metadata": {
        "colab": {
          "base_uri": "https://localhost:8080/"
        },
        "id": "8MOcfRyp0unn",
        "outputId": "eaefba81-5606-40fc-d7d3-d7e0cd427571"
      },
      "source": [
        "!pip install --upgrade pip\n",
        "!pip install --upgrade wheel\n",
        "!pip install --upgrade build\n",
        "!pip install pymagnitude"
      ],
      "execution_count": 4,
      "outputs": [
        {
          "output_type": "stream",
          "text": [
            "Requirement already satisfied: pip in /usr/local/lib/python3.7/dist-packages (21.2.4)\n",
            "\u001b[33mWARNING: Running pip as the 'root' user can result in broken permissions and conflicting behaviour with the system package manager. It is recommended to use a virtual environment instead: https://pip.pypa.io/warnings/venv\u001b[0m\n",
            "Requirement already satisfied: wheel in /usr/local/lib/python3.7/dist-packages (0.37.0)\n",
            "\u001b[33mWARNING: Running pip as the 'root' user can result in broken permissions and conflicting behaviour with the system package manager. It is recommended to use a virtual environment instead: https://pip.pypa.io/warnings/venv\u001b[0m\n",
            "Requirement already satisfied: build in /usr/local/lib/python3.7/dist-packages (0.6.0.post1)\n",
            "Requirement already satisfied: packaging>=19.0 in /usr/local/lib/python3.7/dist-packages (from build) (21.0)\n",
            "Requirement already satisfied: tomli>=1.0.0 in /usr/local/lib/python3.7/dist-packages (from build) (1.2.1)\n",
            "Requirement already satisfied: importlib-metadata>=0.22 in /usr/local/lib/python3.7/dist-packages (from build) (4.6.4)\n",
            "Requirement already satisfied: pep517>=0.9.1 in /usr/local/lib/python3.7/dist-packages (from build) (0.11.0)\n",
            "Requirement already satisfied: typing-extensions>=3.6.4 in /usr/local/lib/python3.7/dist-packages (from importlib-metadata>=0.22->build) (3.7.4.3)\n",
            "Requirement already satisfied: zipp>=0.5 in /usr/local/lib/python3.7/dist-packages (from importlib-metadata>=0.22->build) (3.5.0)\n",
            "Requirement already satisfied: pyparsing>=2.0.2 in /usr/local/lib/python3.7/dist-packages (from packaging>=19.0->build) (2.4.7)\n",
            "\u001b[33mWARNING: Running pip as the 'root' user can result in broken permissions and conflicting behaviour with the system package manager. It is recommended to use a virtual environment instead: https://pip.pypa.io/warnings/venv\u001b[0m\n",
            "Requirement already satisfied: pymagnitude in /usr/local/lib/python3.7/dist-packages (0.1.143)\n",
            "\u001b[33mWARNING: Running pip as the 'root' user can result in broken permissions and conflicting behaviour with the system package manager. It is recommended to use a virtual environment instead: https://pip.pypa.io/warnings/venv\u001b[0m\n"
          ],
          "name": "stdout"
        }
      ]
    },
    {
      "cell_type": "code",
      "metadata": {
        "id": "Jmv2Iq-k1ANs"
      },
      "source": [
        "from tensorflow.keras.layers import Input, TimeDistributed, LSTM, Bidirectional, Concatenate, Lambda, Reshape, Add, Activation, Multiply, Dense\n",
        "from tensorflow.keras.models import Model, load_model\n",
        "import tensorflow.keras.backend as K\n",
        "import tensorflow.keras as keras\n",
        "import numpy as np\n",
        "from tqdm import tqdm\n",
        "from highway_layer import Highway\n",
        "from contexual_embedding import C2VecLayer\n",
        "import os\n",
        "from pymagnitude import Magnitude, MagnitudeUtils\n"
      ],
      "execution_count": 5,
      "outputs": []
    },
    {
      "cell_type": "code",
      "metadata": {
        "id": "0p1QlGvqEEzW"
      },
      "source": [
        "from keras.layers import Layer\n",
        "import tensorflow as tf\n",
        "from keras import backend as K\n",
        "from keras.layers.advanced_activations import Softmax\n",
        "\n",
        "class SimilarityMatrix(Layer):\n",
        "  def __init__(self, **kwargs):\n",
        "    super(SimilarityMatrix, self).__init__(**kwargs)\n",
        "  \n",
        "  def build(self, input_shape):\n",
        "    self.context_shape = input_shape[0]\n",
        "    self.question_shape = input_shape[1]\n",
        "\n",
        "    self.kernel = self.add_weight(name=\"kernel\",\n",
        "                                  shape=(3 * input_shape[0][2], 1),\n",
        "                                  initializer='uniform',\n",
        "                                  trainable=True)\n",
        "\n",
        "    super(SimilarityMatrix, self).build(input_shape)\n",
        "\n",
        "  def compute_similarity(self, repeated_context_vectors, repeated_query_vectors):\n",
        "\n",
        "    element_wise_multiply = repeated_context_vectors * repeated_query_vectors\n",
        "    concatenated_tensor = tf.concat(\n",
        "    [repeated_context_vectors, repeated_query_vectors, element_wise_multiply], axis=-1)\n",
        "    dot_product = K.squeeze(K.dot(concatenated_tensor, self.kernel), axis=-1)\n",
        "\n",
        "    return dot_product\n",
        "\n",
        "  def build_similarity_matrix(self, context, question):\n",
        "\n",
        "    num_context_words = K.shape(context)[1]\n",
        "    num_query_words = K.shape(question)[1]\n",
        "\n",
        "    context_dim_repeat = K.concatenate([[1, 1], [num_query_words], [1]], 0)\n",
        "    query_dim_repeat = K.concatenate([[1], [num_context_words], [1, 1]], 0)\n",
        "    repeated_context_vectors = K.tile(K.expand_dims(context, axis=2), context_dim_repeat)\n",
        "    repeated_query_vectors = K.tile(K.expand_dims(question, axis=1), query_dim_repeat)\n",
        "    similarity_matrix = self.compute_similarity(repeated_context_vectors, repeated_query_vectors)\n",
        "    # similarity_matrix = tf.reshape(similarity_matrix, [self.context_shape[0],self.context_shape[1],self.question_shape[1]])\n",
        "\n",
        "    return similarity_matrix\n",
        "\n",
        "  def call(self, x):\n",
        "    context, question = x\n",
        "    self.similarity_matrix = self.build_similarity_matrix(context, question)\n",
        "    return self.similarity_matrix\n",
        "  \n",
        "  def compute_output_shape(self, input_shape):\n",
        "    return (input_shape[0][0],input_shape[0][1],input_shape[1][1])"
      ],
      "execution_count": 6,
      "outputs": []
    },
    {
      "cell_type": "code",
      "metadata": {
        "id": "GP3-D3_YERn-"
      },
      "source": [
        "from keras.layers import Layer\n",
        "import tensorflow as tf\n",
        "from keras import backend as K\n",
        "from keras.layers.advanced_activations import Softmax\n",
        "\n",
        "class C2Q_Layer(Layer):\n",
        "  def __init__(self, **kwargs):\n",
        "    super(C2Q_Layer, self).__init__(**kwargs)\n",
        "\n",
        "  def build(self, input_shape):\n",
        "    super(C2Q_Layer, self).build(input_shape)\n",
        "\n",
        "  def call(self,x):\n",
        "    similarity_matrix, question=x\n",
        "    attention = tf.nn.softmax(similarity_matrix)\n",
        "\n",
        "    self.U_A=K.sum(K.dot(attention,question),-2)\n",
        "\n",
        "    return self.U_A\n",
        "\n",
        "  def compute_output_shape(self, input_shape):\n",
        "    return self.U_A.shape;"
      ],
      "execution_count": 7,
      "outputs": []
    },
    {
      "cell_type": "code",
      "metadata": {
        "id": "-6fMd07sETMi"
      },
      "source": [
        "from keras.layers import Layer\n",
        "import tensorflow as tf\n",
        "from keras import backend as K\n",
        "from keras.layers.advanced_activations import Softmax\n",
        "\n",
        "class Q2C_Layer(Layer):\n",
        "  def __init__(self, **kwargs):\n",
        "    super(Q2C_Layer, self).__init__(**kwargs)\n",
        "\n",
        "  def build(self, input_shape):\n",
        "    super(Q2C_Layer, self).build(input_shape)\n",
        "\n",
        "  def call(self,x):\n",
        "    similarity_matrix, context=x\n",
        "    attention = tf.nn.softmax(K.max(similarity_matrix,axis=-1))\n",
        "\n",
        "    temp=K.expand_dims(K.sum(K.dot(attention,context),-2),1)\n",
        "\n",
        "    H_A=K.tile(temp,[1,similarity_matrix.shape[1],1])\n",
        "\n",
        "    return H_A\n",
        "  \n",
        "  def compute_output_shape(self, input_shape):\n",
        "    return self.H_A.shape;"
      ],
      "execution_count": 8,
      "outputs": []
    },
    {
      "cell_type": "code",
      "metadata": {
        "id": "egh_3e8LEWuS"
      },
      "source": [
        "from keras.layers import Layer\n",
        "import tensorflow as tf\n",
        "from keras import backend as K\n",
        "from keras.layers.advanced_activations import Softmax\n",
        "\n",
        "class MegaMerge(Layer):\n",
        "  def __init__(self, **kwargs):\n",
        "    super(MegaMerge, self).__init__(**kwargs)\n",
        "\n",
        "  def build(self, input_shape):\n",
        "    super(MegaMerge, self).build(input_shape)\n",
        "\n",
        "  def call(self,x):\n",
        "    context,c2q,q2c=x\n",
        "    self.G=K.concatenate([context,c2q,context*c2q,context*q2c],axis=-1)\n",
        "\n",
        "    return self.G;\n",
        "\n",
        "  def compute_output_shape(self, input_shape):\n",
        "    return self.G.shape;"
      ],
      "execution_count": 9,
      "outputs": []
    },
    {
      "cell_type": "code",
      "metadata": {
        "id": "IYrYcVlQEsiz"
      },
      "source": [
        "from keras.layers import Layer,LSTM,Bidirectional\n",
        "import numpy as np\n",
        "import tensorflow as tf\n",
        "\n",
        "class ModellingLayer(Layer):\n",
        "    def __init__(self,**kwargs):\n",
        "        super(ModellingLayer, self).__init__(**kwargs)\n",
        "\n",
        "    def build(self, input_shape):\n",
        "        self.shape=input_shape\n",
        "  \n",
        "        self.lstm1 = Bidirectional(LSTM(int(input_shape[2]//8),\n",
        "                                   activation='tanh',\n",
        "                                   input_shape=(input_shape[1],input_shape[2]),\n",
        "                                   return_sequences=True, trainable=True))\n",
        "        self.lstm2 = Bidirectional(LSTM(int(input_shape[2]//8),\n",
        "                                   activation='tanh',\n",
        "                                   input_shape=(input_shape[1], int(input_shape[2]//4)),\n",
        "                                   return_sequences=True, trainable=True))\n",
        "        super(ModellingLayer, self).build(input_shape)\n",
        "\n",
        "    def call(self, x):\n",
        "        \n",
        "        self.M1=self.lstm1(x)\n",
        "        \n",
        "        self.M2=self.lstm2(self.M1)\n",
        "        \n",
        "        self.temp1=tf.concat([x, self.M1], -1)\n",
        "        self.temp2=tf.concat([x, self.M2], -1)\n",
        "        \n",
        "        return self.temp1,self.temp2\n",
        "\n",
        "    def compute_output_shape(self, input_shape):\n",
        "        return self.temp1.shape,self.temp2.shape"
      ],
      "execution_count": 10,
      "outputs": []
    },
    {
      "cell_type": "code",
      "metadata": {
        "id": "5tCb_vpQEtow"
      },
      "source": [
        "from keras.layers import Layer\n",
        "import tensorflow as tf\n",
        "from keras import backend as K\n",
        "\n",
        "class OutputLayer(Layer):\n",
        "    def __init__(self,**kwargs):\n",
        "        super(OutputLayer, self).__init__(**kwargs)\n",
        "\n",
        "    def build(self,input_shape):\n",
        "  \n",
        "        self.w1=self.add_weight(name=\"w1\",\n",
        "                                shape=(input_shape[0][2],),\n",
        "                                initializer='uniform',\n",
        "                                trainable=True)\n",
        "        self.w2=self.add_weight(name=\"w2\",\n",
        "                                shape=(input_shape[0][2],),\n",
        "                                initializer='uniform',\n",
        "                                trainable=True)\n",
        "\n",
        "        super(OutputLayer, self).build(input_shape)\n",
        "\n",
        "    def call(self, x):\n",
        "\n",
        "        answer_span1=tf.tensordot(x[0],tf.transpose(self.w1),1)\n",
        "        answer_span2=tf.tensordot(x[1], tf.transpose(self.w2), 1)\n",
        "        \n",
        "        self.p1=tf.nn.softmax(answer_span1)\n",
        "        self.p2=tf.nn.softmax(answer_span2)\n",
        "        \n",
        "        \n",
        "        return self.p1,self.p2\n",
        "\n",
        "    def compute_output_shape(self, input_shape):\n",
        "        return self.p1.shape,self.p2.shape\n"
      ],
      "execution_count": 11,
      "outputs": []
    },
    {
      "cell_type": "code",
      "metadata": {
        "id": "FWrKQs-h1-5-"
      },
      "source": [
        "class MagnitudeVectors:\n",
        "\n",
        "    def __init__(self):\n",
        "        # print(\"heloo\")\n",
        "        # base_dir = \"F://Pycharm Projects//bidaf-keras-master//data//magnitude\"\n",
        "        glove = Magnitude(\"glove-lemmatized.6B.100d.magnitude\")\n",
        "        fasttext = Magnitude(\"wiki-news-300d-1M.magnitude\")\n",
        "        self.vectors = Magnitude(glove,fasttext)\n",
        "\n",
        "    def load_vectors(self):\n",
        "        return self.vectors\n"
      ],
      "execution_count": 12,
      "outputs": []
    },
    {
      "cell_type": "code",
      "metadata": {
        "id": "CVUTxmAA2ChA"
      },
      "source": [
        "from keras.callbacks import *\n",
        "class BidirectionalAttentionFlow():\n",
        "\n",
        "    def __init__(self, em_dim, max_passage_length=None, max_query_length=None):\n",
        "        self.em_dim = em_dim\n",
        "        self.max_passage_length = max_passage_length\n",
        "        self.max_query_length = max_query_length\n",
        "        with tf.device('/device:GPU:0'):\n",
        "            passage_input = Input(shape=(self.max_passage_length, em_dim), dtype='float32', name=\"passage_input\")\n",
        "            question_input = Input(shape=(self.max_query_length, em_dim), dtype='float32', name=\"question_input\")\n",
        "            question_embedding = question_input\n",
        "            passage_embedding = passage_input\n",
        "\n",
        "            highway_layers = Highway(name='highway_layer')\n",
        "            question_embedding = highway_layers(question_embedding)\n",
        "            passage_embedding = highway_layers(passage_embedding)\n",
        "\n",
        "            encoder_layer1 = Bidirectional(LSTM(em_dim, activation=\"tanh\", recurrent_activation=\"sigmoid\",\n",
        "                                                return_sequences=True), name='bidirectional_encoder')\n",
        "            encoded_question = encoder_layer1(question_embedding)\n",
        "            # encoder_layer2 = Bidirectional(LSTM(em_dim,\n",
        "            #                                   return_sequences=True), name='bidirectional_encoder1')\n",
        "            encoded_passage = encoder_layer1(passage_embedding)\n",
        "\n",
        "            sim = SimilarityMatrix(name=\"sm\")([encoded_passage, encoded_question])\n",
        "            c2q = C2Q_Layer(name=\"c2q\")([sim, encoded_question])\n",
        "            q2c = Q2C_Layer(name=\"q2c\")([sim, encoded_passage])\n",
        "            megamerge = MegaMerge(name=\"mega\")([encoded_passage, c2q, q2c])\n",
        "            t1, t2 = ModellingLayer(name=\"modelling\")(megamerge)\n",
        "            p1, p2 = OutputLayer(name=\"output\")([t1, t2])\n",
        "\n",
        "            model = Model(inputs=[passage_input, question_input], outputs=[p1, p2])\n",
        "            model.summary()\n",
        "            model.compile(loss='categorical_crossentropy', optimizer='sgd', metrics=['accuracy'])\n",
        "            for i, w in enumerate(model.weights): print(i, w.name)\n",
        "            self.model = model\n",
        "\n",
        "    def load_bidaf(self, path):\n",
        "        custom_objects = {\n",
        "            \"Highway\": Highway,\n",
        "            \"SimilarityMatrix\": SimilarityMatrix,\n",
        "            \"C2Q_Layer\": C2Q_Layer,\n",
        "            \"Q2C_Layer\": Q2C_Layer,\n",
        "            \"MegaMerge\": MegaMerge,\n",
        "            \"ModellingLayer\": ModellingLayer,\n",
        "            \"OutputLayer\": OutputLayer\n",
        "        }\n",
        "\n",
        "        self.model = load_model(path, custom_objects=custom_objects)\n",
        "\n",
        "    def predict(self, c, q):\n",
        "        p1, p2 = self.model.predict(x={\"passage_input\": c, \"question_input\": q}, batch_size=1)\n",
        "        return p1, p2\n",
        "\n",
        "    def train_model(self, x1, x2, y1, y2, epochs=1):\n",
        "        with tf.device('/device:GPU:0'):\n",
        "            filepath=\"drive/My Drive/app/bidaf_{epoch:03d}.h5\"\n",
        "            checkpoint = ModelCheckpoint(filepath, verbose=1)\n",
        "            callbacks_list = [checkpoint]\n",
        "            history = self.model.fit(x={\"passage_input\": x1, \"question_input\": x2}, y={\"output\": y1, \"output_1\": y2},\n",
        "                                     batch_size=10,\n",
        "                                     epochs=epochs, verbose=2,\n",
        "                                     callbacks=callbacks_list)\n",
        "            self.model.save('drive/My Drive/app/bidaf250_19.h5')\n",
        "            return history, self.model"
      ],
      "execution_count": 13,
      "outputs": []
    },
    {
      "cell_type": "code",
      "metadata": {
        "id": "cpCNaCQPMg8Q",
        "colab": {
          "base_uri": "https://localhost:8080/"
        },
        "outputId": "09f6c09a-bbbc-4d32-dd6b-c759b5251a98"
      },
      "source": [
        "    with tf.device('/device:GPU:0'):\n",
        "        context_data = []\n",
        "        question_data = []\n",
        "        output_data1 = []\n",
        "        output_data2 = []\n",
        "        i = 0\n",
        "        sample_size = 5000\n",
        "        vectors = MagnitudeVectors().load_vectors()\n",
        "        with open(\"train_4.context\", 'r', encoding='utf8') as context_file, \\\n",
        "                open(\"train_4.question\", 'r', encoding='utf8') as question_file, \\\n",
        "                open(\"train_4.span\", 'r', encoding='utf8') as span_file:\n",
        "\n",
        "            for context, question, span in zip(tqdm(context_file, total=sample_size),\n",
        "                                               tqdm(question_file, total=sample_size),\n",
        "                                               tqdm(span_file, total=sample_size)):\n",
        "\n",
        "                context = [context]\n",
        "                question = [question]\n",
        "                passage = [pas.strip() for pas in context]\n",
        "                cont = []\n",
        "                for pas in passage:\n",
        "                    context_tokens = pas.split(\" \")\n",
        "                    cont.append(context_tokens)\n",
        "                original_passage = [pas.lower() for pas in passage]\n",
        "                quest = []\n",
        "                for ques in question:\n",
        "                    question_tokens = ques.split(\" \")\n",
        "                    quest.append(question_tokens)\n",
        "                context_batch = vectors.query(cont)\n",
        "                question_batch = vectors.query(quest)\n",
        "                pad1 = np.zeros(shape=(1, 250 - len(cont[0]), 400))\n",
        "                context_batch = np.concatenate((context_batch, pad1), 1)\n",
        "\n",
        "                pad2 = np.zeros(shape=(1, 20 - len(quest[0]), 400))\n",
        "                question_batch = np.concatenate((question_batch, pad2), 1)\n",
        "                answer_span = span.split()\n",
        "                output1 = np.zeros(shape=(1, 250), dtype=float)\n",
        "                output2 = np.zeros(shape=(1, 250), dtype=float)\n",
        "                output1[0][int(answer_span[0])] = 1\n",
        "                output2[0][int(answer_span[1])] = 1\n",
        "                # context_batch = tf.convert_to_tensor(context_batch, tf.float32)\n",
        "                # question_batch = tf.convert_to_tensor(question_batch, tf.float32)\n",
        "                # output1 = tf.convert_to_tensor(output1, tf.float32)\n",
        "                # output2 = tf.convert_to_tensor(output2, tf.float32)\n",
        "\n",
        "                context_data.append(context_batch)\n",
        "                question_data.append(question_batch)\n",
        "                output_data1.append(output1)\n",
        "                output_data2.append(output2)\n",
        "                # bidef.train_model(context_batch, question_batch, output, 5)\n",
        "                i = i + 1\n",
        "                if i == sample_size:\n",
        "                    break\n",
        "                print(i)\n",
        "\n",
        "        context_data = np.array(context_data)\n",
        "        context_data = np.reshape(context_data, (sample_size, 250, 400))\n",
        "        question_data = np.array(question_data)\n",
        "        question_data = np.reshape(question_data, (sample_size, 20, 400))\n",
        "        output_data1 = np.array(output_data1)\n",
        "        output_data1 = np.reshape(output_data1, (sample_size, 250))\n",
        "        output_data2 = np.array(output_data2)\n",
        "        output_data2 = np.reshape(output_data2, (sample_size, 250))"
      ],
      "execution_count": null,
      "outputs": [
        {
          "output_type": "stream",
          "text": [
            "  0%|          | 0/5000 [00:00<?, ?it/s]\n",
            "  0%|          | 0/5000 [00:00<?, ?it/s]\u001b[A\n",
            "\n",
            "  0%|          | 1/5000 [00:00<27:57,  2.98it/s]\n",
            "  0%|          | 1/5000 [00:00<27:21,  3.04it/s]\u001b[A\n",
            "\n",
            "  0%|          | 2/5000 [00:00<19:26,  4.29it/s]\n",
            "  0%|          | 2/5000 [00:00<19:10,  4.34it/s]\u001b[A\n",
            "\n",
            "  0%|          | 2/5000 [00:00<19:03,  4.37it/s]\u001b[A\u001b[A"
          ],
          "name": "stderr"
        },
        {
          "output_type": "stream",
          "text": [
            "1\n",
            "2\n"
          ],
          "name": "stdout"
        },
        {
          "output_type": "stream",
          "text": [
            "  0%|          | 3/5000 [00:00<16:36,  5.01it/s]\n",
            "  0%|          | 3/5000 [00:00<16:34,  5.03it/s]\u001b[A\n",
            "\n",
            "  0%|          | 3/5000 [00:00<16:27,  5.06it/s]\u001b[A\u001b[A"
          ],
          "name": "stderr"
        },
        {
          "output_type": "stream",
          "text": [
            "3\n"
          ],
          "name": "stdout"
        },
        {
          "output_type": "stream",
          "text": [
            "  0%|          | 4/5000 [00:00<17:11,  4.84it/s]\n",
            "  0%|          | 4/5000 [00:00<17:09,  4.85it/s]\u001b[A\n",
            "\n",
            "  0%|          | 6/5000 [00:01<12:15,  6.79it/s]\n",
            "  0%|          | 6/5000 [00:01<12:11,  6.83it/s]\u001b[A\n",
            "\n"
          ],
          "name": "stderr"
        },
        {
          "output_type": "stream",
          "text": [
            "4\n",
            "5\n",
            "6\n"
          ],
          "name": "stdout"
        },
        {
          "output_type": "stream",
          "text": [
            "  0%|          | 7/5000 [00:01<11:15,  7.39it/s]\n",
            "  0%|          | 7/5000 [00:01<11:12,  7.42it/s]\u001b[A\n",
            "\n",
            "  0%|          | 7/5000 [00:01<11:14,  7.40it/s]\u001b[A\u001b[A"
          ],
          "name": "stderr"
        },
        {
          "output_type": "stream",
          "text": [
            "7\n",
            "8\n"
          ],
          "name": "stdout"
        },
        {
          "output_type": "stream",
          "text": [
            "  0%|          | 9/5000 [00:01<11:03,  7.53it/s]\n",
            "  0%|          | 9/5000 [00:01<11:01,  7.54it/s]\u001b[A\n",
            "\n",
            "  0%|          | 10/5000 [00:01<10:56,  7.60it/s]\n",
            "  0%|          | 10/5000 [00:01<10:55,  7.61it/s]\u001b[A\n",
            "\n",
            "  0%|          | 10/5000 [00:01<10:54,  7.62it/s]\u001b[A\u001b[A"
          ],
          "name": "stderr"
        },
        {
          "output_type": "stream",
          "text": [
            "9\n",
            "10\n"
          ],
          "name": "stdout"
        },
        {
          "output_type": "stream",
          "text": [
            "  0%|          | 11/5000 [00:01<11:38,  7.14it/s]\n",
            "  0%|          | 11/5000 [00:01<11:40,  7.12it/s]\u001b[A\n",
            "\n",
            "  0%|          | 12/5000 [00:01<11:50,  7.02it/s]\n",
            "  0%|          | 12/5000 [00:01<11:51,  7.01it/s]\u001b[A\n",
            "\n",
            "  0%|          | 12/5000 [00:01<11:44,  7.08it/s]\u001b[A\u001b[A"
          ],
          "name": "stderr"
        },
        {
          "output_type": "stream",
          "text": [
            "11\n",
            "12\n"
          ],
          "name": "stdout"
        },
        {
          "output_type": "stream",
          "text": [
            "  0%|          | 14/5000 [00:02<09:38,  8.63it/s]\n",
            "  0%|          | 14/5000 [00:02<09:38,  8.62it/s]\u001b[A\n",
            "\n",
            "  0%|          | 14/5000 [00:02<09:36,  8.65it/s]\u001b[A\u001b[A"
          ],
          "name": "stderr"
        },
        {
          "output_type": "stream",
          "text": [
            "13\n",
            "14\n"
          ],
          "name": "stdout"
        },
        {
          "output_type": "stream",
          "text": [
            "  0%|          | 15/5000 [00:02<10:05,  8.23it/s]\n",
            "  0%|          | 15/5000 [00:02<10:03,  8.26it/s]\u001b[A\n",
            "\n",
            "  0%|          | 15/5000 [00:02<10:04,  8.25it/s]\u001b[A\u001b[A"
          ],
          "name": "stderr"
        },
        {
          "output_type": "stream",
          "text": [
            "15\n"
          ],
          "name": "stdout"
        },
        {
          "output_type": "stream",
          "text": [
            "  0%|          | 16/5000 [00:02<11:56,  6.95it/s]\n",
            "  0%|          | 16/5000 [00:02<11:57,  6.95it/s]\u001b[A\n",
            "\n",
            "  0%|          | 16/5000 [00:02<11:53,  6.98it/s]\u001b[A\u001b[A"
          ],
          "name": "stderr"
        },
        {
          "output_type": "stream",
          "text": [
            "16\n",
            "17\n"
          ],
          "name": "stdout"
        },
        {
          "output_type": "stream",
          "text": [
            "  0%|          | 18/5000 [00:02<10:53,  7.62it/s]\n",
            "  0%|          | 18/5000 [00:02<10:52,  7.63it/s]\u001b[A\n",
            "\n",
            "  0%|          | 19/5000 [00:02<12:00,  6.91it/s]\n",
            "  0%|          | 19/5000 [00:02<11:59,  6.92it/s]\u001b[A\n",
            "\n",
            "  0%|          | 19/5000 [00:02<11:59,  6.93it/s]"
          ],
          "name": "stderr"
        },
        {
          "output_type": "stream",
          "text": [
            "18\n",
            "19\n"
          ],
          "name": "stdout"
        },
        {
          "output_type": "stream",
          "text": [
            "  0%|          | 20/5000 [00:02<11:31,  7.20it/s]\n",
            "  0%|          | 20/5000 [00:02<11:31,  7.20it/s]\u001b[A\n",
            "\n",
            "  0%|          | 20/5000 [00:02<11:27,  7.25it/s]\u001b[A\u001b[A"
          ],
          "name": "stderr"
        },
        {
          "output_type": "stream",
          "text": [
            "20\n",
            "21\n"
          ],
          "name": "stdout"
        },
        {
          "output_type": "stream",
          "text": [
            "  0%|          | 22/5000 [00:03<10:19,  8.04it/s]\n",
            "  0%|          | 22/5000 [00:03<10:18,  8.05it/s]\u001b[A\n",
            "\n",
            "  0%|          | 23/5000 [00:03<10:40,  7.77it/s]\n",
            "  0%|          | 23/5000 [00:03<10:41,  7.76it/s]\u001b[A\n",
            "\n",
            "  0%|          | 23/5000 [00:03<10:40,  7.77it/s]\u001b[A\u001b[A"
          ],
          "name": "stderr"
        },
        {
          "output_type": "stream",
          "text": [
            "22\n",
            "23\n"
          ],
          "name": "stdout"
        },
        {
          "output_type": "stream",
          "text": [
            "  0%|          | 24/5000 [00:03<11:17,  7.35it/s]\n",
            "  0%|          | 24/5000 [00:03<11:15,  7.36it/s]\u001b[A\n",
            "\n",
            "  0%|          | 24/5000 [00:03<11:17,  7.35it/s]\u001b[A\u001b[A"
          ],
          "name": "stderr"
        },
        {
          "output_type": "stream",
          "text": [
            "24\n",
            "25\n"
          ],
          "name": "stdout"
        },
        {
          "output_type": "stream",
          "text": [
            "  1%|          | 26/5000 [00:03<10:12,  8.12it/s]\n",
            "  1%|          | 26/5000 [00:03<10:11,  8.13it/s]\u001b[A\n",
            "\n",
            "  1%|          | 27/5000 [00:03<10:19,  8.03it/s]\n",
            "  1%|          | 27/5000 [00:03<10:19,  8.03it/s]\u001b[A\n",
            "\n",
            "  1%|          | 27/5000 [00:03<10:26,  7.94it/s]\u001b[A\u001b[A"
          ],
          "name": "stderr"
        },
        {
          "output_type": "stream",
          "text": [
            "26\n",
            "27\n"
          ],
          "name": "stdout"
        },
        {
          "output_type": "stream",
          "text": [
            "  1%|          | 28/5000 [00:03<10:18,  8.03it/s]\n",
            "  1%|          | 28/5000 [00:03<10:18,  8.04it/s]\u001b[A\n",
            "\n",
            "  1%|          | 29/5000 [00:04<10:32,  7.86it/s]\n",
            "  1%|          | 29/5000 [00:04<10:34,  7.83it/s]\u001b[A\n",
            "\n",
            "  1%|          | 29/5000 [00:04<10:31,  7.87it/s]\u001b[A\u001b[A"
          ],
          "name": "stderr"
        },
        {
          "output_type": "stream",
          "text": [
            "28\n",
            "29\n"
          ],
          "name": "stdout"
        },
        {
          "output_type": "stream",
          "text": [
            "  1%|          | 30/5000 [00:04<12:03,  6.87it/s]\n",
            "  1%|          | 30/5000 [00:04<12:02,  6.88it/s]\u001b[A\n",
            "\n",
            "  1%|          | 30/5000 [00:04<12:03,  6.86it/s]\u001b[A\u001b[A"
          ],
          "name": "stderr"
        },
        {
          "output_type": "stream",
          "text": [
            "30\n",
            "31\n"
          ],
          "name": "stdout"
        },
        {
          "output_type": "stream",
          "text": [
            "  1%|          | 32/5000 [00:04<11:25,  7.25it/s]\n",
            "  1%|          | 32/5000 [00:04<11:24,  7.26it/s]\u001b[A\n",
            "\n",
            "  1%|          | 33/5000 [00:04<11:17,  7.33it/s]\n",
            "  1%|          | 33/5000 [00:04<11:19,  7.31it/s]\u001b[A\n",
            "\n",
            "  1%|          | 33/5000 [00:04<11:15,  7.35it/s]\u001b[A\u001b[A"
          ],
          "name": "stderr"
        },
        {
          "output_type": "stream",
          "text": [
            "32\n",
            "33\n"
          ],
          "name": "stdout"
        },
        {
          "output_type": "stream",
          "text": [
            "  1%|          | 34/5000 [00:04<12:51,  6.44it/s]\n",
            "  1%|          | 34/5000 [00:04<12:53,  6.42it/s]\u001b[A\n",
            "\n",
            "  1%|          | 35/5000 [00:04<12:53,  6.42it/s]\n",
            "  1%|          | 35/5000 [00:04<12:54,  6.41it/s]\u001b[A\n",
            "\n",
            "  1%|          | 35/5000 [00:04<12:53,  6.42it/s]\u001b[A\u001b[A"
          ],
          "name": "stderr"
        },
        {
          "output_type": "stream",
          "text": [
            "34\n",
            "35\n"
          ],
          "name": "stdout"
        },
        {
          "output_type": "stream",
          "text": [
            "  1%|          | 36/5000 [00:05<12:34,  6.58it/s]\n",
            "  1%|          | 36/5000 [00:05<12:36,  6.56it/s]\u001b[A\n",
            "\n",
            "  1%|          | 37/5000 [00:05<12:42,  6.51it/s]\n",
            "  1%|          | 37/5000 [00:05<12:39,  6.54it/s]\u001b[A\n",
            "\n",
            "  1%|          | 37/5000 [00:05<12:43,  6.50it/s]\u001b[A\u001b[A"
          ],
          "name": "stderr"
        },
        {
          "output_type": "stream",
          "text": [
            "36\n",
            "37\n"
          ],
          "name": "stdout"
        },
        {
          "output_type": "stream",
          "text": [
            "  1%|          | 38/5000 [00:05<12:29,  6.62it/s]\n",
            "  1%|          | 38/5000 [00:05<12:27,  6.64it/s]\u001b[A\n",
            "\n",
            "  1%|          | 39/5000 [00:05<11:48,  7.00it/s]\n",
            "  1%|          | 39/5000 [00:05<11:47,  7.01it/s]\u001b[A\n",
            "\n",
            "  1%|          | 39/5000 [00:05<11:50,  6.99it/s]\u001b[A\u001b[A"
          ],
          "name": "stderr"
        },
        {
          "output_type": "stream",
          "text": [
            "38\n",
            "39\n"
          ],
          "name": "stdout"
        },
        {
          "output_type": "stream",
          "text": [
            "  1%|          | 40/5000 [00:05<12:11,  6.78it/s]\n",
            "  1%|          | 40/5000 [00:05<12:10,  6.79it/s]\u001b[A\n",
            "\n",
            "  1%|          | 41/5000 [00:05<11:25,  7.23it/s]\n",
            "  1%|          | 41/5000 [00:05<11:26,  7.22it/s]\u001b[A\n",
            "\n",
            "  1%|          | 41/5000 [00:05<11:25,  7.23it/s]\u001b[A\u001b[A"
          ],
          "name": "stderr"
        },
        {
          "output_type": "stream",
          "text": [
            "40\n",
            "41\n",
            "42\n"
          ],
          "name": "stdout"
        },
        {
          "output_type": "stream",
          "text": [
            "  1%|          | 43/5000 [00:06<10:45,  7.68it/s]\n",
            "  1%|          | 43/5000 [00:06<10:48,  7.65it/s]\u001b[A\n",
            "\n",
            "  1%|          | 44/5000 [00:06<11:09,  7.40it/s]\n",
            "  1%|          | 44/5000 [00:06<11:12,  7.37it/s]\u001b[A\n",
            "\n",
            "  1%|          | 44/5000 [00:06<11:12,  7.37it/s]\u001b[A\u001b[A"
          ],
          "name": "stderr"
        },
        {
          "output_type": "stream",
          "text": [
            "43\n",
            "44\n"
          ],
          "name": "stdout"
        },
        {
          "output_type": "stream",
          "text": [
            "  1%|          | 45/5000 [00:06<11:14,  7.35it/s]\n",
            "  1%|          | 45/5000 [00:06<11:13,  7.36it/s]\u001b[A\n",
            "\n",
            "  1%|          | 46/5000 [00:06<11:23,  7.25it/s]\n",
            "  1%|          | 46/5000 [00:06<11:21,  7.27it/s]\u001b[A\n",
            "\n",
            "  1%|          | 46/5000 [00:06<11:25,  7.22it/s]\u001b[A\u001b[A"
          ],
          "name": "stderr"
        },
        {
          "output_type": "stream",
          "text": [
            "45\n",
            "46\n"
          ],
          "name": "stdout"
        },
        {
          "output_type": "stream",
          "text": [
            "  1%|          | 47/5000 [00:06<10:47,  7.65it/s]\n",
            "  1%|          | 47/5000 [00:06<10:45,  7.67it/s]\u001b[A\n",
            "\n",
            "  1%|          | 48/5000 [00:06<11:05,  7.44it/s]\n",
            "  1%|          | 48/5000 [00:06<11:04,  7.45it/s]\u001b[A\n",
            "\n",
            "  1%|          | 48/5000 [00:06<11:07,  7.41it/s]\u001b[A\u001b[A"
          ],
          "name": "stderr"
        },
        {
          "output_type": "stream",
          "text": [
            "47\n",
            "48\n"
          ],
          "name": "stdout"
        },
        {
          "output_type": "stream",
          "text": [
            "  1%|          | 50/5000 [00:06<09:05,  9.07it/s]\n",
            "  1%|          | 50/5000 [00:06<09:05,  9.07it/s]\u001b[A\n",
            "\n",
            "  1%|          | 51/5000 [00:07<08:57,  9.20it/s]\n",
            "  1%|          | 51/5000 [00:07<08:56,  9.22it/s]\u001b[A\n",
            "\n"
          ],
          "name": "stderr"
        },
        {
          "output_type": "stream",
          "text": [
            "49\n",
            "50\n",
            "51\n"
          ],
          "name": "stdout"
        },
        {
          "output_type": "stream",
          "text": [
            "  1%|          | 53/5000 [00:07<09:19,  8.84it/s]\n",
            "  1%|          | 53/5000 [00:07<09:22,  8.80it/s]\u001b[A\n",
            "\n",
            "  1%|          | 53/5000 [00:07<09:22,  8.80it/s]\u001b[A\u001b[A"
          ],
          "name": "stderr"
        },
        {
          "output_type": "stream",
          "text": [
            "52\n",
            "53\n"
          ],
          "name": "stdout"
        },
        {
          "output_type": "stream",
          "text": [
            "  1%|          | 55/5000 [00:07<09:02,  9.11it/s]\n",
            "  1%|          | 55/5000 [00:07<09:02,  9.11it/s]\u001b[A\n",
            "\n",
            "  1%|          | 55/5000 [00:07<09:01,  9.14it/s]\u001b[A\u001b[A"
          ],
          "name": "stderr"
        },
        {
          "output_type": "stream",
          "text": [
            "54\n",
            "55\n"
          ],
          "name": "stdout"
        },
        {
          "output_type": "stream",
          "text": [
            "  1%|          | 56/5000 [00:07<09:24,  8.75it/s]\n",
            "  1%|          | 56/5000 [00:07<09:23,  8.77it/s]\u001b[A\n",
            "\n",
            "  1%|          | 57/5000 [00:07<09:41,  8.51it/s]\n",
            "  1%|          | 57/5000 [00:07<09:40,  8.51it/s]\u001b[A\n",
            "\n",
            "  1%|          | 57/5000 [00:07<09:38,  8.54it/s]\u001b[A\u001b[A"
          ],
          "name": "stderr"
        },
        {
          "output_type": "stream",
          "text": [
            "56\n",
            "57\n"
          ],
          "name": "stdout"
        },
        {
          "output_type": "stream",
          "text": [
            "  1%|          | 58/5000 [00:07<09:21,  8.80it/s]\n",
            "  1%|          | 58/5000 [00:07<09:21,  8.80it/s]\u001b[A\n",
            "\n",
            "  1%|          | 58/5000 [00:07<09:21,  8.80it/s]\u001b[A\u001b[A"
          ],
          "name": "stderr"
        },
        {
          "output_type": "stream",
          "text": [
            "58\n",
            "59\n"
          ],
          "name": "stdout"
        },
        {
          "output_type": "stream",
          "text": [
            "  1%|          | 60/5000 [00:08<11:12,  7.35it/s]\n",
            "  1%|          | 60/5000 [00:08<11:11,  7.36it/s]\u001b[A\n",
            "\n",
            "  1%|          | 61/5000 [00:08<11:18,  7.28it/s]\n",
            "  1%|          | 61/5000 [00:08<11:25,  7.20it/s]\u001b[A\n",
            "\n",
            "  1%|          | 61/5000 [00:08<11:22,  7.23it/s]\u001b[A\u001b[A"
          ],
          "name": "stderr"
        },
        {
          "output_type": "stream",
          "text": [
            "60\n",
            "61\n"
          ],
          "name": "stdout"
        },
        {
          "output_type": "stream",
          "text": [
            "  1%|          | 62/5000 [00:08<11:56,  6.89it/s]\n",
            "  1%|          | 62/5000 [00:08<11:58,  6.87it/s]\u001b[A\n",
            "\n",
            "  1%|▏         | 63/5000 [00:08<11:26,  7.19it/s]\n",
            "  1%|▏         | 63/5000 [00:08<11:23,  7.22it/s]\u001b[A\n",
            "\n",
            "  1%|▏         | 63/5000 [00:08<11:26,  7.19it/s]\u001b[A\u001b[A"
          ],
          "name": "stderr"
        },
        {
          "output_type": "stream",
          "text": [
            "62\n",
            "63\n"
          ],
          "name": "stdout"
        },
        {
          "output_type": "stream",
          "text": [
            "  1%|▏         | 64/5000 [00:08<10:52,  7.56it/s]\n",
            "  1%|▏         | 64/5000 [00:08<10:49,  7.60it/s]\u001b[A\n",
            "\n",
            "  1%|▏         | 64/5000 [00:08<10:52,  7.56it/s]\u001b[A\u001b[A"
          ],
          "name": "stderr"
        },
        {
          "output_type": "stream",
          "text": [
            "64\n",
            "65\n"
          ],
          "name": "stdout"
        },
        {
          "output_type": "stream",
          "text": [
            "  1%|▏         | 66/5000 [00:08<10:12,  8.06it/s]\n",
            "  1%|▏         | 66/5000 [00:08<10:13,  8.04it/s]\u001b[A\n",
            "\n",
            "  1%|▏         | 68/5000 [00:09<08:29,  9.68it/s]\n",
            "  1%|▏         | 68/5000 [00:09<08:27,  9.72it/s]\u001b[A\n",
            "\n",
            "  1%|▏         | 68/5000 [00:09<08:21,  9.83it/s]\u001b[A\u001b[A"
          ],
          "name": "stderr"
        },
        {
          "output_type": "stream",
          "text": [
            "66\n",
            "67\n",
            "68\n"
          ],
          "name": "stdout"
        },
        {
          "output_type": "stream",
          "text": [
            "  1%|▏         | 69/5000 [00:09<10:25,  7.89it/s]\n",
            "  1%|▏         | 70/5000 [00:09<09:45,  8.41it/s]\u001b[A\n",
            "\n",
            "  1%|▏         | 71/5000 [00:09<08:51,  9.27it/s]\n",
            "  1%|▏         | 72/5000 [00:09<07:54, 10.39it/s]\u001b[A\n",
            "\n",
            "  1%|▏         | 72/5000 [00:09<07:51, 10.45it/s]\u001b[A\u001b[A"
          ],
          "name": "stderr"
        },
        {
          "output_type": "stream",
          "text": [
            "69\n",
            "70\n",
            "71\n",
            "72\n"
          ],
          "name": "stdout"
        },
        {
          "output_type": "stream",
          "text": [
            "  1%|▏         | 73/5000 [00:09<07:50, 10.46it/s]\n",
            "  1%|▏         | 74/5000 [00:09<08:46,  9.36it/s]\u001b[A\n",
            "\n",
            "  1%|▏         | 74/5000 [00:09<08:47,  9.33it/s]\u001b[A\u001b[A"
          ],
          "name": "stderr"
        },
        {
          "output_type": "stream",
          "text": [
            "73\n",
            "74\n"
          ],
          "name": "stdout"
        },
        {
          "output_type": "stream",
          "text": [
            "  2%|▏         | 76/5000 [00:09<08:59,  9.12it/s]\n",
            "  2%|▏         | 76/5000 [00:09<09:05,  9.03it/s]\u001b[A\n",
            "\n",
            "  2%|▏         | 76/5000 [00:09<09:05,  9.02it/s]\u001b[A\u001b[A"
          ],
          "name": "stderr"
        },
        {
          "output_type": "stream",
          "text": [
            "75\n",
            "76\n"
          ],
          "name": "stdout"
        },
        {
          "output_type": "stream",
          "text": [
            "  2%|▏         | 77/5000 [00:10<09:45,  8.41it/s]\n",
            "  2%|▏         | 78/5000 [00:10<09:00,  9.11it/s]\u001b[A\n",
            "\n",
            "  2%|▏         | 78/5000 [00:10<09:00,  9.11it/s]\u001b[A\u001b[A"
          ],
          "name": "stderr"
        },
        {
          "output_type": "stream",
          "text": [
            "77\n",
            "78\n"
          ],
          "name": "stdout"
        },
        {
          "output_type": "stream",
          "text": [
            "  2%|▏         | 79/5000 [00:10<10:33,  7.77it/s]\n",
            "  2%|▏         | 79/5000 [00:10<10:45,  7.62it/s]\u001b[A\n",
            "\n",
            "  2%|▏         | 80/5000 [00:10<11:20,  7.23it/s]\n",
            "  2%|▏         | 80/5000 [00:10<11:27,  7.15it/s]\u001b[A\n",
            "\n",
            "  2%|▏         | 80/5000 [00:10<11:33,  7.10it/s]\u001b[A\u001b[A"
          ],
          "name": "stderr"
        },
        {
          "output_type": "stream",
          "text": [
            "79\n",
            "80\n"
          ],
          "name": "stdout"
        },
        {
          "output_type": "stream",
          "text": [
            "  2%|▏         | 81/5000 [00:10<10:43,  7.64it/s]\n",
            "  2%|▏         | 81/5000 [00:10<10:58,  7.47it/s]\u001b[A\n",
            "\n",
            "  2%|▏         | 82/5000 [00:10<10:17,  7.96it/s]\n",
            "  2%|▏         | 82/5000 [00:10<10:19,  7.93it/s]\u001b[A\n",
            "\n",
            "  2%|▏         | 82/5000 [00:10<10:22,  7.90it/s]\u001b[A\u001b[A"
          ],
          "name": "stderr"
        },
        {
          "output_type": "stream",
          "text": [
            "81\n",
            "82\n"
          ],
          "name": "stdout"
        },
        {
          "output_type": "stream",
          "text": [
            "  2%|▏         | 83/5000 [00:10<10:24,  7.87it/s]\n",
            "  2%|▏         | 83/5000 [00:10<10:24,  7.87it/s]\u001b[A\n",
            "\n",
            "  2%|▏         | 84/5000 [00:11<10:31,  7.78it/s]\n",
            "  2%|▏         | 84/5000 [00:11<10:31,  7.78it/s]\u001b[A\n",
            "\n",
            "  2%|▏         | 84/5000 [00:11<10:29,  7.81it/s]\u001b[A\u001b[A"
          ],
          "name": "stderr"
        },
        {
          "output_type": "stream",
          "text": [
            "83\n",
            "84\n"
          ],
          "name": "stdout"
        },
        {
          "output_type": "stream",
          "text": [
            "  2%|▏         | 85/5000 [00:11<10:33,  7.76it/s]\n",
            "  2%|▏         | 85/5000 [00:11<10:33,  7.76it/s]\u001b[A\n",
            "\n",
            "  2%|▏         | 86/5000 [00:11<10:10,  8.05it/s]\n",
            "  2%|▏         | 86/5000 [00:11<10:11,  8.03it/s]\u001b[A\n",
            "\n",
            "  2%|▏         | 86/5000 [00:11<10:06,  8.10it/s]\u001b[A\u001b[A"
          ],
          "name": "stderr"
        },
        {
          "output_type": "stream",
          "text": [
            "85\n",
            "86\n"
          ],
          "name": "stdout"
        },
        {
          "output_type": "stream",
          "text": [
            "  2%|▏         | 87/5000 [00:11<09:41,  8.45it/s]\n",
            "  2%|▏         | 87/5000 [00:11<09:43,  8.42it/s]\u001b[A\n",
            "\n",
            "  2%|▏         | 89/5000 [00:11<08:11, 10.00it/s]\n",
            "  2%|▏         | 89/5000 [00:11<08:12,  9.98it/s]\u001b[A\n",
            "\n",
            "  2%|▏         | 89/5000 [00:11<08:14,  9.94it/s]\u001b[A\u001b[A"
          ],
          "name": "stderr"
        },
        {
          "output_type": "stream",
          "text": [
            "87\n",
            "88\n",
            "89\n"
          ],
          "name": "stdout"
        },
        {
          "output_type": "stream",
          "text": [
            "  2%|▏         | 90/5000 [00:11<09:14,  8.85it/s]\n",
            "  2%|▏         | 90/5000 [00:11<09:16,  8.83it/s]\u001b[A\n",
            "\n",
            "  2%|▏         | 91/5000 [00:11<10:28,  7.81it/s]\n",
            "  2%|▏         | 91/5000 [00:11<10:29,  7.80it/s]\u001b[A\n",
            "\n",
            "  2%|▏         | 91/5000 [00:11<10:31,  7.78it/s]\u001b[A\u001b[A"
          ],
          "name": "stderr"
        },
        {
          "output_type": "stream",
          "text": [
            "90\n",
            "91\n"
          ],
          "name": "stdout"
        },
        {
          "output_type": "stream",
          "text": [
            "  2%|▏         | 92/5000 [00:12<10:22,  7.88it/s]\n",
            "  2%|▏         | 92/5000 [00:12<10:23,  7.87it/s]\u001b[A\n",
            "\n",
            "  2%|▏         | 93/5000 [00:12<10:29,  7.80it/s]\n",
            "  2%|▏         | 93/5000 [00:12<10:27,  7.82it/s]\u001b[A\n",
            "\n",
            "  2%|▏         | 93/5000 [00:12<10:28,  7.80it/s]\u001b[A\u001b[A"
          ],
          "name": "stderr"
        },
        {
          "output_type": "stream",
          "text": [
            "92\n",
            "93\n"
          ],
          "name": "stdout"
        },
        {
          "output_type": "stream",
          "text": [
            "  2%|▏         | 94/5000 [00:12<11:31,  7.09it/s]\n",
            "  2%|▏         | 94/5000 [00:12<11:33,  7.08it/s]\u001b[A\n",
            "\n",
            "  2%|▏         | 95/5000 [00:12<10:36,  7.71it/s]\n",
            "  2%|▏         | 95/5000 [00:12<10:36,  7.70it/s]\u001b[A\n",
            "\n"
          ],
          "name": "stderr"
        },
        {
          "output_type": "stream",
          "text": [
            "94\n",
            "95\n",
            "96\n"
          ],
          "name": "stdout"
        },
        {
          "output_type": "stream",
          "text": [
            "  2%|▏         | 97/5000 [00:12<09:34,  8.53it/s]\n",
            "  2%|▏         | 97/5000 [00:12<09:33,  8.55it/s]\u001b[A\n",
            "\n",
            "  2%|▏         | 98/5000 [00:12<09:27,  8.64it/s]\n",
            "  2%|▏         | 98/5000 [00:12<09:26,  8.65it/s]\u001b[A\n",
            "\n",
            "  2%|▏         | 98/5000 [00:12<09:31,  8.57it/s]\u001b[A\u001b[A"
          ],
          "name": "stderr"
        },
        {
          "output_type": "stream",
          "text": [
            "97\n",
            "98\n"
          ],
          "name": "stdout"
        },
        {
          "output_type": "stream",
          "text": [
            "  2%|▏         | 99/5000 [00:12<09:53,  8.25it/s]\n",
            "  2%|▏         | 99/5000 [00:12<09:54,  8.25it/s]\u001b[A\n",
            "\n",
            "  2%|▏         | 100/5000 [00:13<10:37,  7.68it/s]\n",
            "  2%|▏         | 100/5000 [00:13<10:38,  7.67it/s]\u001b[A\n",
            "\n",
            "  2%|▏         | 100/5000 [00:13<10:44,  7.61it/s]\u001b[A\u001b[A"
          ],
          "name": "stderr"
        },
        {
          "output_type": "stream",
          "text": [
            "99\n",
            "100\n"
          ],
          "name": "stdout"
        },
        {
          "output_type": "stream",
          "text": [
            "  2%|▏         | 101/5000 [00:13<12:09,  6.72it/s]\n",
            "  2%|▏         | 101/5000 [00:13<12:07,  6.73it/s]\u001b[A\n",
            "\n",
            "  2%|▏         | 103/5000 [00:13<09:37,  8.47it/s]\n",
            "  2%|▏         | 103/5000 [00:13<09:37,  8.47it/s]\u001b[A\n",
            "\n",
            "  2%|▏         | 103/5000 [00:13<09:35,  8.51it/s]\u001b[A\u001b[A"
          ],
          "name": "stderr"
        },
        {
          "output_type": "stream",
          "text": [
            "101\n",
            "102\n",
            "103\n"
          ],
          "name": "stdout"
        },
        {
          "output_type": "stream",
          "text": [
            "  2%|▏         | 104/5000 [00:13<09:43,  8.39it/s]\n",
            "  2%|▏         | 104/5000 [00:13<09:43,  8.40it/s]\u001b[A\n",
            "\n",
            "  2%|▏         | 105/5000 [00:13<10:59,  7.42it/s]\n",
            "  2%|▏         | 105/5000 [00:13<10:59,  7.43it/s]\u001b[A\n",
            "\n",
            "  2%|▏         | 105/5000 [00:13<11:05,  7.36it/s]\u001b[A\u001b[A"
          ],
          "name": "stderr"
        },
        {
          "output_type": "stream",
          "text": [
            "104\n",
            "105\n"
          ],
          "name": "stdout"
        },
        {
          "output_type": "stream",
          "text": [
            "  2%|▏         | 106/5000 [00:13<11:03,  7.38it/s]\n",
            "  2%|▏         | 106/5000 [00:13<11:05,  7.36it/s]\u001b[A\n",
            "\n",
            "  2%|▏         | 107/5000 [00:13<10:15,  7.94it/s]\n",
            "  2%|▏         | 108/5000 [00:13<09:33,  8.53it/s]\u001b[A\n",
            "\n",
            "  2%|▏         | 108/5000 [00:13<09:30,  8.57it/s]\u001b[A\u001b[A"
          ],
          "name": "stderr"
        },
        {
          "output_type": "stream",
          "text": [
            "106\n",
            "107\n",
            "108\n"
          ],
          "name": "stdout"
        },
        {
          "output_type": "stream",
          "text": [
            "  2%|▏         | 109/5000 [00:14<09:08,  8.91it/s]\n",
            "  2%|▏         | 109/5000 [00:14<09:17,  8.77it/s]\u001b[A\n",
            "\n",
            "  2%|▏         | 110/5000 [00:14<09:08,  8.92it/s]\n",
            "  2%|▏         | 110/5000 [00:14<09:15,  8.81it/s]\u001b[A\n",
            "\n",
            "  2%|▏         | 110/5000 [00:14<09:11,  8.86it/s]\u001b[A\u001b[A"
          ],
          "name": "stderr"
        },
        {
          "output_type": "stream",
          "text": [
            "109\n",
            "110\n"
          ],
          "name": "stdout"
        },
        {
          "output_type": "stream",
          "text": [
            "  2%|▏         | 111/5000 [00:14<10:36,  7.68it/s]\n",
            "  2%|▏         | 111/5000 [00:14<10:44,  7.58it/s]\u001b[A\n",
            "\n",
            "  2%|▏         | 112/5000 [00:14<10:07,  8.04it/s]\n",
            "  2%|▏         | 112/5000 [00:14<10:11,  7.99it/s]\u001b[A\n",
            "\n",
            "  2%|▏         | 112/5000 [00:14<10:16,  7.93it/s]\u001b[A\u001b[A"
          ],
          "name": "stderr"
        },
        {
          "output_type": "stream",
          "text": [
            "111\n",
            "112\n"
          ],
          "name": "stdout"
        },
        {
          "output_type": "stream",
          "text": [
            "  2%|▏         | 113/5000 [00:14<10:02,  8.11it/s]\n",
            "  2%|▏         | 113/5000 [00:14<10:09,  8.01it/s]\u001b[A\n",
            "\n",
            "  2%|▏         | 115/5000 [00:14<08:32,  9.54it/s]\n",
            "  2%|▏         | 115/5000 [00:14<08:32,  9.54it/s]\u001b[A\n",
            "\n",
            "  2%|▏         | 115/5000 [00:14<08:37,  9.44it/s]\u001b[A\u001b[A"
          ],
          "name": "stderr"
        },
        {
          "output_type": "stream",
          "text": [
            "113\n",
            "114\n",
            "115\n"
          ],
          "name": "stdout"
        },
        {
          "output_type": "stream",
          "text": [
            "  2%|▏         | 116/5000 [00:14<08:41,  9.37it/s]\n",
            "  2%|▏         | 116/5000 [00:14<08:40,  9.38it/s]\u001b[A\n",
            "\n",
            "  2%|▏         | 117/5000 [00:15<09:40,  8.41it/s]\n",
            "  2%|▏         | 117/5000 [00:15<09:43,  8.37it/s]\u001b[A\n",
            "\n",
            "  2%|▏         | 117/5000 [00:15<09:42,  8.38it/s]\u001b[A\u001b[A"
          ],
          "name": "stderr"
        },
        {
          "output_type": "stream",
          "text": [
            "116\n",
            "117\n"
          ],
          "name": "stdout"
        },
        {
          "output_type": "stream",
          "text": [
            "  2%|▏         | 118/5000 [00:15<10:07,  8.03it/s]\n",
            "  2%|▏         | 118/5000 [00:15<10:11,  7.98it/s]\u001b[A\n",
            "\n",
            "  2%|▏         | 120/5000 [00:15<08:18,  9.79it/s]\n",
            "  2%|▏         | 120/5000 [00:15<08:17,  9.80it/s]\u001b[A\n",
            "\n",
            "  2%|▏         | 120/5000 [00:15<08:15,  9.85it/s]\u001b[A\u001b[A"
          ],
          "name": "stderr"
        },
        {
          "output_type": "stream",
          "text": [
            "118\n",
            "119\n",
            "120\n"
          ],
          "name": "stdout"
        },
        {
          "output_type": "stream",
          "text": [
            "  2%|▏         | 121/5000 [00:15<10:01,  8.12it/s]\n",
            "  2%|▏         | 121/5000 [00:15<10:00,  8.13it/s]\u001b[A\n",
            "\n",
            "  2%|▏         | 122/5000 [00:15<09:39,  8.42it/s]\n",
            "  2%|▏         | 122/5000 [00:15<09:38,  8.43it/s]\u001b[A\n",
            "\n",
            "  2%|▏         | 122/5000 [00:15<09:38,  8.44it/s]\u001b[A\u001b[A"
          ],
          "name": "stderr"
        },
        {
          "output_type": "stream",
          "text": [
            "121\n",
            "122\n",
            "123\n"
          ],
          "name": "stdout"
        },
        {
          "output_type": "stream",
          "text": [
            "  2%|▏         | 124/5000 [00:15<07:43, 10.51it/s]\n",
            "  2%|▏         | 124/5000 [00:15<07:42, 10.53it/s]\u001b[A\n",
            "\n",
            "  2%|▏         | 124/5000 [00:15<07:43, 10.53it/s]\u001b[A\u001b[A"
          ],
          "name": "stderr"
        },
        {
          "output_type": "stream",
          "text": [
            "124\n",
            "125\n"
          ],
          "name": "stdout"
        },
        {
          "output_type": "stream",
          "text": [
            "  3%|▎         | 126/5000 [00:15<08:00, 10.14it/s]\n",
            "  3%|▎         | 126/5000 [00:15<08:00, 10.15it/s]\u001b[A\n",
            "\n",
            "  3%|▎         | 128/5000 [00:16<07:13, 11.24it/s]\n",
            "  3%|▎         | 128/5000 [00:16<07:13, 11.25it/s]\u001b[A\n",
            "\n",
            "  3%|▎         | 128/5000 [00:16<07:08, 11.37it/s]\u001b[A\u001b[A"
          ],
          "name": "stderr"
        },
        {
          "output_type": "stream",
          "text": [
            "126\n",
            "127\n",
            "128\n"
          ],
          "name": "stdout"
        },
        {
          "output_type": "stream",
          "text": [
            "  3%|▎         | 130/5000 [00:16<07:48, 10.39it/s]\n",
            "  3%|▎         | 130/5000 [00:16<07:49, 10.38it/s]\u001b[A\n",
            "\n",
            "  3%|▎         | 130/5000 [00:16<07:48, 10.40it/s]\u001b[A\u001b[A"
          ],
          "name": "stderr"
        },
        {
          "output_type": "stream",
          "text": [
            "129\n",
            "130\n"
          ],
          "name": "stdout"
        },
        {
          "output_type": "stream",
          "text": [
            "  3%|▎         | 132/5000 [00:16<07:21, 11.03it/s]\n",
            "  3%|▎         | 132/5000 [00:16<07:20, 11.04it/s]\u001b[A\n",
            "\n",
            "  3%|▎         | 132/5000 [00:16<07:22, 11.01it/s]\u001b[A\u001b[A"
          ],
          "name": "stderr"
        },
        {
          "output_type": "stream",
          "text": [
            "131\n",
            "132\n"
          ],
          "name": "stdout"
        },
        {
          "output_type": "stream",
          "text": [
            "  3%|▎         | 134/5000 [00:16<08:05, 10.02it/s]\n",
            "  3%|▎         | 134/5000 [00:16<08:05, 10.03it/s]\u001b[A\n",
            "\n",
            "  3%|▎         | 134/5000 [00:16<08:06, 10.01it/s]\u001b[A\u001b[A"
          ],
          "name": "stderr"
        },
        {
          "output_type": "stream",
          "text": [
            "133\n",
            "134\n",
            "135\n"
          ],
          "name": "stdout"
        },
        {
          "output_type": "stream",
          "text": [
            "  3%|▎         | 136/5000 [00:16<07:31, 10.77it/s]\n",
            "  3%|▎         | 136/5000 [00:16<07:34, 10.71it/s]\u001b[A\n",
            "\n",
            "  3%|▎         | 136/5000 [00:16<07:32, 10.74it/s]\u001b[A\u001b[A"
          ],
          "name": "stderr"
        },
        {
          "output_type": "stream",
          "text": [
            "136\n",
            "137\n"
          ],
          "name": "stdout"
        },
        {
          "output_type": "stream",
          "text": [
            "  3%|▎         | 138/5000 [00:17<07:49, 10.35it/s]\n",
            "  3%|▎         | 138/5000 [00:17<07:48, 10.38it/s]\u001b[A\n",
            "\n",
            "  3%|▎         | 138/5000 [00:17<07:51, 10.32it/s]\u001b[A\u001b[A"
          ],
          "name": "stderr"
        },
        {
          "output_type": "stream",
          "text": [
            "138\n",
            "139\n"
          ],
          "name": "stdout"
        },
        {
          "output_type": "stream",
          "text": [
            "  3%|▎         | 140/5000 [00:17<08:08,  9.95it/s]\n",
            "  3%|▎         | 140/5000 [00:17<08:08,  9.94it/s]\u001b[A\n",
            "\n",
            "  3%|▎         | 142/5000 [00:17<07:43, 10.47it/s]\n",
            "  3%|▎         | 142/5000 [00:17<07:43, 10.48it/s]\u001b[A\n",
            "\n",
            "  3%|▎         | 142/5000 [00:17<07:43, 10.49it/s]\u001b[A\u001b[A"
          ],
          "name": "stderr"
        },
        {
          "output_type": "stream",
          "text": [
            "140\n",
            "141\n",
            "142\n"
          ],
          "name": "stdout"
        },
        {
          "output_type": "stream",
          "text": [
            "  3%|▎         | 144/5000 [00:17<07:49, 10.33it/s]\n",
            "  3%|▎         | 144/5000 [00:17<07:49, 10.34it/s]\u001b[A\n",
            "\n",
            "  3%|▎         | 144/5000 [00:17<07:52, 10.28it/s]\u001b[A\u001b[A"
          ],
          "name": "stderr"
        },
        {
          "output_type": "stream",
          "text": [
            "143\n",
            "144\n"
          ],
          "name": "stdout"
        },
        {
          "output_type": "stream",
          "text": [
            "  3%|▎         | 146/5000 [00:17<07:29, 10.79it/s]\n",
            "  3%|▎         | 146/5000 [00:17<07:29, 10.79it/s]\u001b[A\n",
            "\n",
            "  3%|▎         | 146/5000 [00:17<07:27, 10.85it/s]\u001b[A\u001b[A"
          ],
          "name": "stderr"
        },
        {
          "output_type": "stream",
          "text": [
            "145\n",
            "146\n",
            "147\n"
          ],
          "name": "stdout"
        },
        {
          "output_type": "stream",
          "text": [
            "  3%|▎         | 148/5000 [00:18<07:24, 10.93it/s]\n",
            "  3%|▎         | 148/5000 [00:18<07:23, 10.93it/s]\u001b[A\n",
            "\n",
            "  3%|▎         | 148/5000 [00:18<07:25, 10.89it/s]\u001b[A\u001b[A"
          ],
          "name": "stderr"
        },
        {
          "output_type": "stream",
          "text": [
            "148\n",
            "149\n"
          ],
          "name": "stdout"
        },
        {
          "output_type": "stream",
          "text": [
            "  3%|▎         | 150/5000 [00:18<08:43,  9.27it/s]\n",
            "  3%|▎         | 150/5000 [00:18<08:42,  9.27it/s]\u001b[A\n",
            "\n",
            "  3%|▎         | 150/5000 [00:18<08:44,  9.25it/s]\u001b[A\u001b[A"
          ],
          "name": "stderr"
        },
        {
          "output_type": "stream",
          "text": [
            "150\n",
            "151\n"
          ],
          "name": "stdout"
        },
        {
          "output_type": "stream",
          "text": [
            "  3%|▎         | 152/5000 [00:18<08:53,  9.09it/s]\n",
            "  3%|▎         | 152/5000 [00:18<08:53,  9.09it/s]\u001b[A\n",
            "\n",
            "  3%|▎         | 154/5000 [00:18<08:24,  9.61it/s]\n",
            "  3%|▎         | 154/5000 [00:18<08:23,  9.62it/s]\u001b[A\n",
            "\n",
            "  3%|▎         | 154/5000 [00:18<08:27,  9.54it/s]"
          ],
          "name": "stderr"
        },
        {
          "output_type": "stream",
          "text": [
            "152\n",
            "153\n",
            "154\n"
          ],
          "name": "stdout"
        },
        {
          "output_type": "stream",
          "text": [
            "  3%|▎         | 156/5000 [00:18<07:46, 10.38it/s]\n",
            "  3%|▎         | 156/5000 [00:18<07:46, 10.39it/s]\u001b[A\n",
            "\n",
            "  3%|▎         | 156/5000 [00:18<07:48, 10.34it/s]\u001b[A\u001b[A"
          ],
          "name": "stderr"
        },
        {
          "output_type": "stream",
          "text": [
            "155\n",
            "156\n",
            "157\n"
          ],
          "name": "stdout"
        },
        {
          "output_type": "stream",
          "text": [
            "  3%|▎         | 158/5000 [00:19<09:13,  8.75it/s]\n",
            "  3%|▎         | 158/5000 [00:19<09:13,  8.75it/s]\u001b[A\n",
            "\n",
            "  3%|▎         | 160/5000 [00:19<08:31,  9.47it/s]\n",
            "  3%|▎         | 160/5000 [00:19<08:32,  9.44it/s]\u001b[A\n",
            "\n",
            "  3%|▎         | 160/5000 [00:19<08:28,  9.52it/s]\u001b[A\u001b[A"
          ],
          "name": "stderr"
        },
        {
          "output_type": "stream",
          "text": [
            "158\n",
            "159\n",
            "160\n"
          ],
          "name": "stdout"
        },
        {
          "output_type": "stream",
          "text": [
            "  3%|▎         | 162/5000 [00:19<08:49,  9.13it/s]\n",
            "  3%|▎         | 162/5000 [00:19<08:52,  9.08it/s]\u001b[A\n",
            "\n",
            "  3%|▎         | 162/5000 [00:19<08:53,  9.07it/s]\u001b[A\u001b[A"
          ],
          "name": "stderr"
        },
        {
          "output_type": "stream",
          "text": [
            "161\n",
            "162\n"
          ],
          "name": "stdout"
        },
        {
          "output_type": "stream",
          "text": [
            "  3%|▎         | 163/5000 [00:19<09:40,  8.33it/s]\n",
            "  3%|▎         | 163/5000 [00:19<09:42,  8.30it/s]\u001b[A\n",
            "\n",
            "  3%|▎         | 164/5000 [00:19<10:28,  7.70it/s]\n",
            "  3%|▎         | 164/5000 [00:19<10:26,  7.72it/s]\u001b[A\n",
            "\n",
            "  3%|▎         | 164/5000 [00:19<10:22,  7.77it/s]\u001b[A\u001b[A"
          ],
          "name": "stderr"
        },
        {
          "output_type": "stream",
          "text": [
            "163\n",
            "164\n"
          ],
          "name": "stdout"
        },
        {
          "output_type": "stream",
          "text": [
            "  3%|▎         | 165/5000 [00:20<10:22,  7.77it/s]\n",
            "  3%|▎         | 165/5000 [00:20<10:21,  7.78it/s]\u001b[A\n",
            "\n",
            "  3%|▎         | 166/5000 [00:20<10:57,  7.35it/s]\n",
            "  3%|▎         | 166/5000 [00:20<10:59,  7.33it/s]\u001b[A\n",
            "\n",
            "  3%|▎         | 166/5000 [00:20<10:56,  7.37it/s]\u001b[A\u001b[A"
          ],
          "name": "stderr"
        },
        {
          "output_type": "stream",
          "text": [
            "165\n",
            "166\n"
          ],
          "name": "stdout"
        },
        {
          "output_type": "stream",
          "text": [
            "  3%|▎         | 167/5000 [00:20<11:12,  7.19it/s]\n",
            "  3%|▎         | 167/5000 [00:20<11:11,  7.19it/s]\u001b[A\n",
            "\n",
            "  3%|▎         | 167/5000 [00:20<11:19,  7.12it/s]\u001b[A\u001b[A"
          ],
          "name": "stderr"
        },
        {
          "output_type": "stream",
          "text": [
            "167\n"
          ],
          "name": "stdout"
        },
        {
          "output_type": "stream",
          "text": [
            "  3%|▎         | 168/5000 [00:20<12:52,  6.26it/s]\n",
            "  3%|▎         | 168/5000 [00:20<12:49,  6.28it/s]\u001b[A\n",
            "\n",
            "  3%|▎         | 170/5000 [00:20<09:34,  8.41it/s]\n",
            "  3%|▎         | 170/5000 [00:20<09:32,  8.44it/s]\u001b[A\n",
            "\n",
            "  3%|▎         | 170/5000 [00:20<09:34,  8.41it/s]\u001b[A\u001b[A"
          ],
          "name": "stderr"
        },
        {
          "output_type": "stream",
          "text": [
            "168\n",
            "169\n",
            "170\n"
          ],
          "name": "stdout"
        },
        {
          "output_type": "stream",
          "text": [
            "  3%|▎         | 171/5000 [00:20<09:13,  8.73it/s]\n",
            "  3%|▎         | 171/5000 [00:20<09:12,  8.75it/s]\u001b[A\n",
            "\n",
            "  3%|▎         | 173/5000 [00:20<07:55, 10.16it/s]\n",
            "  3%|▎         | 173/5000 [00:20<07:54, 10.17it/s]\u001b[A\n",
            "\n",
            "  3%|▎         | 173/5000 [00:20<07:52, 10.22it/s]\u001b[A\u001b[A"
          ],
          "name": "stderr"
        },
        {
          "output_type": "stream",
          "text": [
            "171\n",
            "172\n",
            "173\n"
          ],
          "name": "stdout"
        },
        {
          "output_type": "stream",
          "text": [
            "  4%|▎         | 175/5000 [00:21<07:55, 10.15it/s]\n",
            "  4%|▎         | 175/5000 [00:21<07:55, 10.16it/s]\u001b[A\n",
            "\n",
            "  4%|▎         | 175/5000 [00:21<07:52, 10.21it/s]\u001b[A\u001b[A"
          ],
          "name": "stderr"
        },
        {
          "output_type": "stream",
          "text": [
            "174\n",
            "175\n",
            "176\n"
          ],
          "name": "stdout"
        },
        {
          "output_type": "stream",
          "text": [
            "  4%|▎         | 177/5000 [00:21<07:53, 10.19it/s]\n",
            "  4%|▎         | 177/5000 [00:21<07:53, 10.19it/s]\u001b[A\n",
            "\n",
            "  4%|▎         | 177/5000 [00:21<07:50, 10.26it/s]\u001b[A\u001b[A"
          ],
          "name": "stderr"
        },
        {
          "output_type": "stream",
          "text": [
            "177\n",
            "178\n"
          ],
          "name": "stdout"
        },
        {
          "output_type": "stream",
          "text": [
            "  4%|▎         | 179/5000 [00:21<08:02,  9.99it/s]\n",
            "  4%|▎         | 179/5000 [00:21<08:02, 10.00it/s]\u001b[A\n",
            "\n",
            "  4%|▎         | 181/5000 [00:21<07:22, 10.89it/s]\n",
            "  4%|▎         | 181/5000 [00:21<07:23, 10.87it/s]\u001b[A\n",
            "\n",
            "  4%|▎         | 181/5000 [00:21<07:23, 10.87it/s]\u001b[A\u001b[A"
          ],
          "name": "stderr"
        },
        {
          "output_type": "stream",
          "text": [
            "179\n",
            "180\n",
            "181\n"
          ],
          "name": "stdout"
        },
        {
          "output_type": "stream",
          "text": [
            "  4%|▎         | 183/5000 [00:21<07:25, 10.81it/s]\n",
            "  4%|▎         | 183/5000 [00:21<07:25, 10.81it/s]\u001b[A\n",
            "\n",
            "  4%|▎         | 183/5000 [00:21<07:25, 10.82it/s]\u001b[A\u001b[A"
          ],
          "name": "stderr"
        },
        {
          "output_type": "stream",
          "text": [
            "182\n",
            "183\n"
          ],
          "name": "stdout"
        },
        {
          "output_type": "stream",
          "text": [
            "  4%|▎         | 185/5000 [00:22<07:48, 10.29it/s]\n",
            "  4%|▎         | 185/5000 [00:22<07:48, 10.28it/s]\u001b[A\n",
            "\n",
            "  4%|▎         | 185/5000 [00:22<07:49, 10.25it/s]\u001b[A\u001b[A"
          ],
          "name": "stderr"
        },
        {
          "output_type": "stream",
          "text": [
            "184\n",
            "185\n",
            "186\n"
          ],
          "name": "stdout"
        },
        {
          "output_type": "stream",
          "text": [
            "  4%|▎         | 187/5000 [00:22<08:07,  9.88it/s]\n",
            "  4%|▎         | 187/5000 [00:22<08:06,  9.89it/s]\u001b[A\n",
            "\n",
            "  4%|▍         | 189/5000 [00:22<07:16, 11.02it/s]\n",
            "  4%|▍         | 189/5000 [00:22<07:17, 11.00it/s]\u001b[A\n",
            "\n",
            "  4%|▍         | 189/5000 [00:22<07:15, 11.06it/s]\u001b[A\u001b[A"
          ],
          "name": "stderr"
        },
        {
          "output_type": "stream",
          "text": [
            "187\n",
            "188\n",
            "189\n"
          ],
          "name": "stdout"
        },
        {
          "output_type": "stream",
          "text": [
            "  4%|▍         | 191/5000 [00:22<08:16,  9.69it/s]\n",
            "  4%|▍         | 191/5000 [00:22<08:15,  9.71it/s]\u001b[A\n",
            "\n",
            "  4%|▍         | 191/5000 [00:22<08:14,  9.73it/s]\u001b[A\u001b[A"
          ],
          "name": "stderr"
        },
        {
          "output_type": "stream",
          "text": [
            "190\n",
            "191\n"
          ],
          "name": "stdout"
        },
        {
          "output_type": "stream",
          "text": [
            "  4%|▍         | 193/5000 [00:23<11:18,  7.09it/s]\n",
            "  4%|▍         | 193/5000 [00:23<11:18,  7.08it/s]\u001b[A\n",
            "\n",
            "  4%|▍         | 194/5000 [00:23<11:03,  7.25it/s]\n",
            "  4%|▍         | 194/5000 [00:23<11:02,  7.25it/s]\u001b[A\n",
            "\n"
          ],
          "name": "stderr"
        },
        {
          "output_type": "stream",
          "text": [
            "192\n",
            "193\n",
            "194\n"
          ],
          "name": "stdout"
        },
        {
          "output_type": "stream",
          "text": [
            "  4%|▍         | 195/5000 [00:23<11:32,  6.94it/s]\n",
            "  4%|▍         | 195/5000 [00:23<11:31,  6.94it/s]\u001b[A\n",
            "\n",
            "  4%|▍         | 196/5000 [00:23<11:19,  7.07it/s]\n",
            "  4%|▍         | 196/5000 [00:23<11:20,  7.06it/s]\u001b[A\n",
            "\n",
            "  4%|▍         | 196/5000 [00:23<11:20,  7.06it/s]\u001b[A\u001b[A"
          ],
          "name": "stderr"
        },
        {
          "output_type": "stream",
          "text": [
            "195\n",
            "196\n"
          ],
          "name": "stdout"
        },
        {
          "output_type": "stream",
          "text": [
            "  4%|▍         | 197/5000 [00:23<11:16,  7.10it/s]\n",
            "  4%|▍         | 197/5000 [00:23<11:17,  7.09it/s]\u001b[A\n",
            "\n",
            "  4%|▍         | 197/5000 [00:23<11:14,  7.12it/s]\u001b[A\u001b[A"
          ],
          "name": "stderr"
        },
        {
          "output_type": "stream",
          "text": [
            "197\n",
            "198\n"
          ],
          "name": "stdout"
        },
        {
          "output_type": "stream",
          "text": [
            "  4%|▍         | 199/5000 [00:23<10:21,  7.73it/s]\n",
            "  4%|▍         | 199/5000 [00:23<10:20,  7.74it/s]\u001b[A\n",
            "\n",
            "  4%|▍         | 201/5000 [00:24<08:43,  9.17it/s]\n",
            "  4%|▍         | 201/5000 [00:24<08:44,  9.14it/s]\u001b[A\n",
            "\n",
            "  4%|▍         | 201/5000 [00:24<08:47,  9.10it/s]\u001b[A\u001b[A"
          ],
          "name": "stderr"
        },
        {
          "output_type": "stream",
          "text": [
            "199\n",
            "200\n",
            "201\n"
          ],
          "name": "stdout"
        },
        {
          "output_type": "stream",
          "text": [
            "  4%|▍         | 202/5000 [00:24<08:54,  8.97it/s]\n",
            "  4%|▍         | 202/5000 [00:24<08:53,  8.99it/s]\u001b[A\n",
            "\n",
            "  4%|▍         | 204/5000 [00:24<08:13,  9.71it/s]\n",
            "  4%|▍         | 204/5000 [00:24<08:13,  9.72it/s]\u001b[A\n",
            "\n",
            "  4%|▍         | 204/5000 [00:24<08:20,  9.59it/s]\u001b[A\u001b[A"
          ],
          "name": "stderr"
        },
        {
          "output_type": "stream",
          "text": [
            "202\n",
            "203\n",
            "204\n"
          ],
          "name": "stdout"
        },
        {
          "output_type": "stream",
          "text": [
            "  4%|▍         | 205/5000 [00:24<10:11,  7.84it/s]\n",
            "  4%|▍         | 205/5000 [00:24<10:10,  7.85it/s]\u001b[A\n",
            "\n",
            "  4%|▍         | 206/5000 [00:24<10:18,  7.75it/s]\n",
            "  4%|▍         | 206/5000 [00:24<10:21,  7.71it/s]\u001b[A\n",
            "\n",
            "  4%|▍         | 206/5000 [00:24<10:24,  7.68it/s]\u001b[A\u001b[A"
          ],
          "name": "stderr"
        },
        {
          "output_type": "stream",
          "text": [
            "205\n",
            "206\n"
          ],
          "name": "stdout"
        },
        {
          "output_type": "stream",
          "text": [
            "  4%|▍         | 207/5000 [00:24<10:15,  7.79it/s]\n",
            "  4%|▍         | 207/5000 [00:24<10:14,  7.80it/s]\u001b[A\n",
            "\n",
            "  4%|▍         | 208/5000 [00:25<09:57,  8.03it/s]\n",
            "  4%|▍         | 208/5000 [00:25<09:57,  8.02it/s]\u001b[A\n",
            "\n",
            "  4%|▍         | 208/5000 [00:25<09:50,  8.11it/s]\u001b[A\u001b[A"
          ],
          "name": "stderr"
        },
        {
          "output_type": "stream",
          "text": [
            "207\n",
            "208\n"
          ],
          "name": "stdout"
        },
        {
          "output_type": "stream",
          "text": [
            "  4%|▍         | 209/5000 [00:25<09:25,  8.46it/s]\n",
            "  4%|▍         | 210/5000 [00:25<08:23,  9.50it/s]\u001b[A\n",
            "\n",
            "  4%|▍         | 211/5000 [00:25<07:58, 10.01it/s]"
          ],
          "name": "stderr"
        },
        {
          "output_type": "stream",
          "text": [
            "209\n",
            "210\n",
            "211\n"
          ],
          "name": "stdout"
        },
        {
          "output_type": "stream",
          "text": [
            "\n",
            "  4%|▍         | 212/5000 [00:25<08:01,  9.94it/s]\u001b[A\n",
            "\n",
            "  4%|▍         | 213/5000 [00:25<07:47, 10.23it/s]\n",
            "  4%|▍         | 214/5000 [00:25<07:28, 10.67it/s]\u001b[A\n",
            "\n",
            "  4%|▍         | 214/5000 [00:25<07:24, 10.76it/s]\u001b[A\u001b[A"
          ],
          "name": "stderr"
        },
        {
          "output_type": "stream",
          "text": [
            "212\n",
            "213\n",
            "214\n"
          ],
          "name": "stdout"
        },
        {
          "output_type": "stream",
          "text": [
            "  4%|▍         | 215/5000 [00:25<07:05, 11.24it/s]\n",
            "  4%|▍         | 216/5000 [00:25<07:15, 11.00it/s]\u001b[A\n",
            "\n",
            "  4%|▍         | 217/5000 [00:25<07:21, 10.83it/s]"
          ],
          "name": "stderr"
        },
        {
          "output_type": "stream",
          "text": [
            "215\n",
            "216\n",
            "217\n"
          ],
          "name": "stdout"
        },
        {
          "output_type": "stream",
          "text": [
            "\n",
            "  4%|▍         | 218/5000 [00:25<07:51, 10.14it/s]\u001b[A\n",
            "\n",
            "  4%|▍         | 219/5000 [00:26<07:43, 10.31it/s]\n",
            "  4%|▍         | 220/5000 [00:26<07:42, 10.33it/s]\u001b[A\n",
            "\n",
            "  4%|▍         | 220/5000 [00:26<07:46, 10.24it/s]"
          ],
          "name": "stderr"
        },
        {
          "output_type": "stream",
          "text": [
            "218\n",
            "219\n",
            "220\n"
          ],
          "name": "stdout"
        },
        {
          "output_type": "stream",
          "text": [
            "  4%|▍         | 221/5000 [00:26<07:21, 10.82it/s]\n",
            "  4%|▍         | 222/5000 [00:26<06:50, 11.63it/s]\u001b[A\n",
            "\n",
            "  4%|▍         | 223/5000 [00:26<06:59, 11.39it/s]"
          ],
          "name": "stderr"
        },
        {
          "output_type": "stream",
          "text": [
            "221\n",
            "222\n",
            "223\n"
          ],
          "name": "stdout"
        },
        {
          "output_type": "stream",
          "text": [
            "\n",
            "  4%|▍         | 224/5000 [00:26<07:08, 11.15it/s]\u001b[A\n",
            "\n",
            "  4%|▍         | 225/5000 [00:26<07:27, 10.68it/s]"
          ],
          "name": "stderr"
        },
        {
          "output_type": "stream",
          "text": [
            "224\n",
            "225\n"
          ],
          "name": "stdout"
        },
        {
          "output_type": "stream",
          "text": [
            "\n",
            "  5%|▍         | 226/5000 [00:26<07:41, 10.34it/s]\u001b[A\n",
            "\n",
            "  5%|▍         | 227/5000 [00:26<07:55, 10.03it/s]\n",
            "  5%|▍         | 228/5000 [00:26<07:38, 10.41it/s]\u001b[A\n",
            "\n"
          ],
          "name": "stderr"
        },
        {
          "output_type": "stream",
          "text": [
            "226\n",
            "227\n",
            "228\n"
          ],
          "name": "stdout"
        },
        {
          "output_type": "stream",
          "text": [
            "  5%|▍         | 229/5000 [00:26<07:12, 11.02it/s]\n",
            "  5%|▍         | 230/5000 [00:27<07:05, 11.22it/s]\u001b[A\n",
            "\n",
            "  5%|▍         | 230/5000 [00:27<07:05, 11.22it/s]\u001b[A\u001b[A"
          ],
          "name": "stderr"
        },
        {
          "output_type": "stream",
          "text": [
            "229\n",
            "230\n"
          ],
          "name": "stdout"
        },
        {
          "output_type": "stream",
          "text": [
            "  5%|▍         | 231/5000 [00:27<07:35, 10.46it/s]\n",
            "  5%|▍         | 232/5000 [00:27<07:16, 10.92it/s]\u001b[A\n",
            "\n",
            "  5%|▍         | 233/5000 [00:27<07:20, 10.83it/s]\n",
            "  5%|▍         | 234/5000 [00:27<06:47, 11.71it/s]"
          ],
          "name": "stderr"
        },
        {
          "output_type": "stream",
          "text": [
            "231\n",
            "232\n",
            "233\n",
            "234\n"
          ],
          "name": "stdout"
        },
        {
          "output_type": "stream",
          "text": [
            "\u001b[A\n",
            "\n",
            "  5%|▍         | 235/5000 [00:27<06:35, 12.05it/s]\n",
            "  5%|▍         | 236/5000 [00:27<06:30, 12.19it/s]\u001b[A\n",
            "\n",
            "  5%|▍         | 237/5000 [00:27<06:03, 13.11it/s]"
          ],
          "name": "stderr"
        },
        {
          "output_type": "stream",
          "text": [
            "235\n",
            "236\n",
            "237\n"
          ],
          "name": "stdout"
        },
        {
          "output_type": "stream",
          "text": [
            "\n",
            "  5%|▍         | 238/5000 [00:27<06:36, 12.02it/s]\u001b[A\n",
            "\n",
            "  5%|▍         | 239/5000 [00:27<07:05, 11.19it/s]\n",
            "  5%|▍         | 240/5000 [00:27<06:45, 11.75it/s]\u001b[A\n",
            "\n",
            "  5%|▍         | 240/5000 [00:27<06:42, 11.83it/s]\u001b[A\u001b[A"
          ],
          "name": "stderr"
        },
        {
          "output_type": "stream",
          "text": [
            "238\n",
            "239\n",
            "240\n"
          ],
          "name": "stdout"
        },
        {
          "output_type": "stream",
          "text": [
            "  5%|▍         | 241/5000 [00:27<06:29, 12.22it/s]\n",
            "  5%|▍         | 242/5000 [00:27<06:27, 12.28it/s]\u001b[A\n",
            "\n",
            "  5%|▍         | 243/5000 [00:28<06:28, 12.24it/s]"
          ],
          "name": "stderr"
        },
        {
          "output_type": "stream",
          "text": [
            "241\n",
            "242\n",
            "243\n"
          ],
          "name": "stdout"
        },
        {
          "output_type": "stream",
          "text": [
            "\n",
            "  5%|▍         | 244/5000 [00:28<06:16, 12.63it/s]\u001b[A\n",
            "\n",
            "  5%|▍         | 245/5000 [00:28<06:02, 13.12it/s]"
          ],
          "name": "stderr"
        },
        {
          "output_type": "stream",
          "text": [
            "244\n",
            "245\n"
          ],
          "name": "stdout"
        },
        {
          "output_type": "stream",
          "text": [
            "\n",
            "  5%|▍         | 246/5000 [00:28<07:22, 10.74it/s]\u001b[A\n",
            "\n",
            "  5%|▍         | 247/5000 [00:28<07:50, 10.11it/s]"
          ],
          "name": "stderr"
        },
        {
          "output_type": "stream",
          "text": [
            "246\n",
            "247\n"
          ],
          "name": "stdout"
        },
        {
          "output_type": "stream",
          "text": [
            "\n",
            "  5%|▍         | 248/5000 [00:28<07:46, 10.19it/s]\u001b[A\n",
            "\n",
            "  5%|▍         | 249/5000 [00:28<07:59,  9.91it/s]\n",
            "  5%|▌         | 250/5000 [00:28<07:25, 10.65it/s]\u001b[A\n",
            "\n",
            "  5%|▌         | 250/5000 [00:28<07:27, 10.61it/s]\u001b[A\u001b[A"
          ],
          "name": "stderr"
        },
        {
          "output_type": "stream",
          "text": [
            "248\n",
            "249\n",
            "250\n"
          ],
          "name": "stdout"
        },
        {
          "output_type": "stream",
          "text": [
            "  5%|▌         | 251/5000 [00:28<07:33, 10.47it/s]\n",
            "  5%|▌         | 252/5000 [00:28<07:40, 10.32it/s]\u001b[A\n",
            "\n",
            "  5%|▌         | 253/5000 [00:29<07:27, 10.60it/s]"
          ],
          "name": "stderr"
        },
        {
          "output_type": "stream",
          "text": [
            "251\n",
            "252\n",
            "253\n"
          ],
          "name": "stdout"
        },
        {
          "output_type": "stream",
          "text": [
            "\n",
            "  5%|▌         | 254/5000 [00:29<07:25, 10.65it/s]\u001b[A\n",
            "\n",
            "  5%|▌         | 255/5000 [00:29<07:24, 10.67it/s]"
          ],
          "name": "stderr"
        },
        {
          "output_type": "stream",
          "text": [
            "254\n",
            "255\n"
          ],
          "name": "stdout"
        },
        {
          "output_type": "stream",
          "text": [
            "\n",
            "  5%|▌         | 256/5000 [00:29<07:57,  9.94it/s]\u001b[A\n",
            "\n",
            "  5%|▌         | 257/5000 [00:29<08:01,  9.85it/s]\n",
            "  5%|▌         | 258/5000 [00:29<07:43, 10.23it/s]\u001b[A\n",
            "\n",
            "  5%|▌         | 258/5000 [00:29<07:46, 10.16it/s]\u001b[A\u001b[A"
          ],
          "name": "stderr"
        },
        {
          "output_type": "stream",
          "text": [
            "256\n",
            "257\n",
            "258\n"
          ],
          "name": "stdout"
        },
        {
          "output_type": "stream",
          "text": [
            "  5%|▌         | 259/5000 [00:29<08:05,  9.76it/s]\n",
            "  5%|▌         | 260/5000 [00:29<08:12,  9.62it/s]\u001b[A\n",
            "\n",
            "  5%|▌         | 261/5000 [00:29<07:54,  9.99it/s]"
          ],
          "name": "stderr"
        },
        {
          "output_type": "stream",
          "text": [
            "259\n",
            "260\n",
            "261\n"
          ],
          "name": "stdout"
        },
        {
          "output_type": "stream",
          "text": [
            "\n",
            "  5%|▌         | 262/5000 [00:29<07:47, 10.14it/s]\u001b[A\n",
            "\n",
            "  5%|▌         | 262/5000 [00:29<07:48, 10.10it/s]\u001b[A\u001b[A"
          ],
          "name": "stderr"
        },
        {
          "output_type": "stream",
          "text": [
            "262\n"
          ],
          "name": "stdout"
        },
        {
          "output_type": "stream",
          "text": [
            "  5%|▌         | 263/5000 [00:30<09:44,  8.10it/s]\n",
            "  5%|▌         | 264/5000 [00:30<09:42,  8.14it/s]\u001b[A\n",
            "\n",
            "  5%|▌         | 265/5000 [00:30<08:48,  8.96it/s]"
          ],
          "name": "stderr"
        },
        {
          "output_type": "stream",
          "text": [
            "263\n",
            "264\n",
            "265\n"
          ],
          "name": "stdout"
        },
        {
          "output_type": "stream",
          "text": [
            "\n",
            "  5%|▌         | 266/5000 [00:30<08:35,  9.19it/s]\u001b[A\n",
            "\n",
            "  5%|▌         | 267/5000 [00:30<08:01,  9.82it/s]\n",
            "  5%|▌         | 268/5000 [00:30<08:12,  9.60it/s]\u001b[A\n",
            "\n",
            "  5%|▌         | 268/5000 [00:30<08:13,  9.58it/s]\u001b[A\u001b[A"
          ],
          "name": "stderr"
        },
        {
          "output_type": "stream",
          "text": [
            "266\n",
            "267\n",
            "268\n"
          ],
          "name": "stdout"
        },
        {
          "output_type": "stream",
          "text": [
            "  5%|▌         | 269/5000 [00:30<08:17,  9.51it/s]\n",
            "  5%|▌         | 270/5000 [00:30<07:56,  9.92it/s]\u001b[A\n",
            "\n",
            "  5%|▌         | 271/5000 [00:30<07:25, 10.61it/s]"
          ],
          "name": "stderr"
        },
        {
          "output_type": "stream",
          "text": [
            "269\n",
            "270\n",
            "271\n"
          ],
          "name": "stdout"
        },
        {
          "output_type": "stream",
          "text": [
            "\n",
            "  5%|▌         | 272/5000 [00:31<07:39, 10.28it/s]\u001b[A\n",
            "\n",
            "  5%|▌         | 273/5000 [00:31<07:37, 10.34it/s]\n",
            "  5%|▌         | 274/5000 [00:31<07:40, 10.25it/s]\u001b[A\n",
            "\n"
          ],
          "name": "stderr"
        },
        {
          "output_type": "stream",
          "text": [
            "272\n",
            "273\n",
            "274\n"
          ],
          "name": "stdout"
        },
        {
          "output_type": "stream",
          "text": [
            "  6%|▌         | 275/5000 [00:31<07:40, 10.25it/s]\n",
            "  6%|▌         | 276/5000 [00:31<07:48, 10.08it/s]\u001b[A\n",
            "\n",
            "  6%|▌         | 276/5000 [00:31<07:47, 10.10it/s]\u001b[A\u001b[A"
          ],
          "name": "stderr"
        },
        {
          "output_type": "stream",
          "text": [
            "275\n",
            "276\n"
          ],
          "name": "stdout"
        },
        {
          "output_type": "stream",
          "text": [
            "  6%|▌         | 277/5000 [00:31<07:51, 10.01it/s]\n",
            "  6%|▌         | 278/5000 [00:31<07:58,  9.86it/s]\u001b[A\n",
            "\n",
            "  6%|▌         | 278/5000 [00:31<08:03,  9.76it/s]\u001b[A\u001b[A"
          ],
          "name": "stderr"
        },
        {
          "output_type": "stream",
          "text": [
            "277\n",
            "278\n"
          ],
          "name": "stdout"
        },
        {
          "output_type": "stream",
          "text": [
            "\r  6%|▌         | 279/5000 [00:31<07:59,  9.85it/s]\n",
            "\n",
            "  6%|▌         | 279/5000 [00:31<08:06,  9.70it/s]\u001b[A\u001b[A\n",
            "  6%|▌         | 280/5000 [00:31<08:53,  8.85it/s]\u001b[A\n",
            "\n",
            "  6%|▌         | 280/5000 [00:31<09:07,  8.62it/s]\u001b[A\u001b[A"
          ],
          "name": "stderr"
        },
        {
          "output_type": "stream",
          "text": [
            "279\n",
            "280\n"
          ],
          "name": "stdout"
        },
        {
          "output_type": "stream",
          "text": [
            "  6%|▌         | 281/5000 [00:32<08:41,  9.05it/s]\n",
            "  6%|▌         | 282/5000 [00:32<07:47, 10.10it/s]\u001b[A\n",
            "\n",
            "  6%|▌         | 283/5000 [00:32<07:24, 10.62it/s]"
          ],
          "name": "stderr"
        },
        {
          "output_type": "stream",
          "text": [
            "281\n",
            "282\n",
            "283\n"
          ],
          "name": "stdout"
        },
        {
          "output_type": "stream",
          "text": [
            "\n",
            "  6%|▌         | 284/5000 [00:32<09:25,  8.34it/s]\u001b[A\n",
            "\n",
            "  6%|▌         | 285/5000 [00:32<08:52,  8.85it/s]\n",
            "  6%|▌         | 286/5000 [00:32<08:13,  9.55it/s]\u001b[A\n",
            "\n",
            "  6%|▌         | 286/5000 [00:32<08:15,  9.52it/s]\u001b[A\u001b[A"
          ],
          "name": "stderr"
        },
        {
          "output_type": "stream",
          "text": [
            "284\n",
            "285\n",
            "286\n"
          ],
          "name": "stdout"
        },
        {
          "output_type": "stream",
          "text": [
            "  6%|▌         | 287/5000 [00:32<10:07,  7.76it/s]\n",
            "  6%|▌         | 288/5000 [00:32<09:44,  8.06it/s]\u001b[A\n",
            "\n",
            "  6%|▌         | 288/5000 [00:32<09:48,  8.01it/s]\u001b[A\u001b[A"
          ],
          "name": "stderr"
        },
        {
          "output_type": "stream",
          "text": [
            "287\n",
            "288\n"
          ],
          "name": "stdout"
        },
        {
          "output_type": "stream",
          "text": [
            "  6%|▌         | 289/5000 [00:33<09:41,  8.10it/s]\n",
            "  6%|▌         | 289/5000 [00:33<09:51,  7.97it/s]\u001b[A\n",
            "\n",
            "  6%|▌         | 291/5000 [00:33<08:31,  9.20it/s]\n",
            "  6%|▌         | 291/5000 [00:33<08:30,  9.23it/s]\u001b[A\n",
            "\n",
            "  6%|▌         | 291/5000 [00:33<08:38,  9.08it/s]\u001b[A\u001b[A"
          ],
          "name": "stderr"
        },
        {
          "output_type": "stream",
          "text": [
            "289\n",
            "290\n",
            "291\n"
          ],
          "name": "stdout"
        },
        {
          "output_type": "stream",
          "text": [
            "\n",
            "\n",
            "  6%|▌         | 293/5000 [00:33<08:42,  9.01it/s]\n",
            "  6%|▌         | 293/5000 [00:33<08:41,  9.03it/s]\u001b[A\n",
            "\n",
            "  6%|▌         | 293/5000 [00:33<08:48,  8.90it/s]\u001b[A\u001b[A"
          ],
          "name": "stderr"
        },
        {
          "output_type": "stream",
          "text": [
            "292\n",
            "293\n"
          ],
          "name": "stdout"
        },
        {
          "output_type": "stream",
          "text": [
            "  6%|▌         | 294/5000 [00:33<09:09,  8.56it/s]\n",
            "  6%|▌         | 294/5000 [00:33<09:10,  8.54it/s]\u001b[A\n",
            "\n",
            "  6%|▌         | 294/5000 [00:33<09:24,  8.34it/s]\u001b[A\u001b[A"
          ],
          "name": "stderr"
        },
        {
          "output_type": "stream",
          "text": [
            "294\n",
            "295\n"
          ],
          "name": "stdout"
        },
        {
          "output_type": "stream",
          "text": [
            "  6%|▌         | 296/5000 [00:33<08:45,  8.96it/s]\n",
            "  6%|▌         | 296/5000 [00:33<08:51,  8.86it/s]\u001b[A\n",
            "\n",
            "  6%|▌         | 297/5000 [00:33<10:00,  7.83it/s]\n",
            "  6%|▌         | 297/5000 [00:33<10:02,  7.81it/s]"
          ],
          "name": "stderr"
        },
        {
          "output_type": "stream",
          "text": [
            "296\n",
            "297\n"
          ],
          "name": "stdout"
        },
        {
          "output_type": "stream",
          "text": [
            "\u001b[A\n",
            "\n",
            "  6%|▌         | 299/5000 [00:34<08:32,  9.18it/s]\n",
            "  6%|▌         | 299/5000 [00:34<08:30,  9.22it/s]\u001b[A\n",
            "\n",
            "  6%|▌         | 299/5000 [00:34<08:23,  9.33it/s]\u001b[A\u001b[A"
          ],
          "name": "stderr"
        },
        {
          "output_type": "stream",
          "text": [
            "298\n",
            "299\n",
            "300\n"
          ],
          "name": "stdout"
        },
        {
          "output_type": "stream",
          "text": [
            "  6%|▌         | 301/5000 [00:34<07:32, 10.39it/s]\n",
            "  6%|▌         | 301/5000 [00:34<07:30, 10.42it/s]\u001b[A\n",
            "\n",
            "  6%|▌         | 303/5000 [00:34<07:05, 11.04it/s]\n",
            "  6%|▌         | 303/5000 [00:34<07:05, 11.04it/s]\u001b[A\n",
            "\n",
            "  6%|▌         | 303/5000 [00:34<07:01, 11.14it/s]\u001b[A\u001b[A"
          ],
          "name": "stderr"
        },
        {
          "output_type": "stream",
          "text": [
            "301\n",
            "302\n",
            "303\n"
          ],
          "name": "stdout"
        },
        {
          "output_type": "stream",
          "text": [
            "  6%|▌         | 305/5000 [00:34<07:41, 10.18it/s]\n",
            "  6%|▌         | 305/5000 [00:34<07:40, 10.20it/s]\u001b[A\n",
            "\n",
            "  6%|▌         | 305/5000 [00:34<07:37, 10.26it/s]\u001b[A\u001b[A"
          ],
          "name": "stderr"
        },
        {
          "output_type": "stream",
          "text": [
            "304\n",
            "305\n",
            "306\n"
          ],
          "name": "stdout"
        },
        {
          "output_type": "stream",
          "text": [
            "  6%|▌         | 307/5000 [00:34<07:14, 10.79it/s]\n",
            "  6%|▌         | 307/5000 [00:34<07:14, 10.80it/s]\u001b[A\n",
            "\n",
            "  6%|▌         | 309/5000 [00:34<06:56, 11.27it/s]\n",
            "  6%|▌         | 309/5000 [00:34<06:54, 11.31it/s]\u001b[A\n",
            "\n",
            "  6%|▌         | 309/5000 [00:34<06:52, 11.37it/s]\u001b[A\u001b[A"
          ],
          "name": "stderr"
        },
        {
          "output_type": "stream",
          "text": [
            "307\n",
            "308\n",
            "309\n"
          ],
          "name": "stdout"
        },
        {
          "output_type": "stream",
          "text": [
            "  6%|▌         | 311/5000 [00:35<06:13, 12.54it/s]\n",
            "  6%|▌         | 311/5000 [00:35<06:12, 12.59it/s]\u001b[A\n",
            "\n",
            "  6%|▌         | 311/5000 [00:35<06:16, 12.47it/s]\u001b[A\u001b[A"
          ],
          "name": "stderr"
        },
        {
          "output_type": "stream",
          "text": [
            "310\n",
            "311\n",
            "312\n"
          ],
          "name": "stdout"
        },
        {
          "output_type": "stream",
          "text": [
            "  6%|▋         | 313/5000 [00:35<06:15, 12.48it/s]\n",
            "  6%|▋         | 313/5000 [00:35<06:16, 12.44it/s]\u001b[A\n",
            "\n",
            "  6%|▋         | 315/5000 [00:35<05:47, 13.49it/s]\n",
            "  6%|▋         | 315/5000 [00:35<05:46, 13.54it/s]\u001b[A\n",
            "\n",
            "  6%|▋         | 315/5000 [00:35<05:48, 13.44it/s]\u001b[A\u001b[A"
          ],
          "name": "stderr"
        },
        {
          "output_type": "stream",
          "text": [
            "313\n",
            "314\n",
            "315\n",
            "316\n"
          ],
          "name": "stdout"
        },
        {
          "output_type": "stream",
          "text": [
            "  6%|▋         | 317/5000 [00:35<05:55, 13.18it/s]\n",
            "  6%|▋         | 317/5000 [00:35<05:55, 13.18it/s]\u001b[A\n",
            "\n",
            "  6%|▋         | 317/5000 [00:35<05:51, 13.32it/s]\u001b[A\u001b[A"
          ],
          "name": "stderr"
        },
        {
          "output_type": "stream",
          "text": [
            "317\n",
            "318\n"
          ],
          "name": "stdout"
        },
        {
          "output_type": "stream",
          "text": [
            "  6%|▋         | 319/5000 [00:35<07:25, 10.51it/s]\n",
            "  6%|▋         | 319/5000 [00:35<07:26, 10.49it/s]\u001b[A\n",
            "\n",
            "  6%|▋         | 321/5000 [00:35<06:57, 11.21it/s]\n",
            "  6%|▋         | 321/5000 [00:35<06:56, 11.24it/s]\u001b[A\n",
            "\n",
            "  6%|▋         | 321/5000 [00:35<06:54, 11.29it/s]\u001b[A\u001b[A"
          ],
          "name": "stderr"
        },
        {
          "output_type": "stream",
          "text": [
            "319\n",
            "320\n",
            "321\n"
          ],
          "name": "stdout"
        },
        {
          "output_type": "stream",
          "text": [
            "  6%|▋         | 323/5000 [00:36<06:46, 11.49it/s]\n",
            "  6%|▋         | 323/5000 [00:36<06:47, 11.48it/s]\u001b[A\n",
            "\n",
            "  6%|▋         | 323/5000 [00:36<06:47, 11.48it/s]\u001b[A\u001b[A"
          ],
          "name": "stderr"
        },
        {
          "output_type": "stream",
          "text": [
            "322\n",
            "323\n",
            "324\n"
          ],
          "name": "stdout"
        },
        {
          "output_type": "stream",
          "text": [
            "  6%|▋         | 325/5000 [00:36<06:42, 11.61it/s]\n",
            "  6%|▋         | 325/5000 [00:36<06:41, 11.64it/s]\u001b[A\n",
            "\n",
            "  6%|▋         | 325/5000 [00:36<06:49, 11.43it/s]\u001b[A\u001b[A"
          ],
          "name": "stderr"
        },
        {
          "output_type": "stream",
          "text": [
            "325\n"
          ],
          "name": "stdout"
        },
        {
          "output_type": "stream",
          "text": [
            "  7%|▋         | 327/5000 [00:36<08:02,  9.69it/s]\n",
            "  7%|▋         | 327/5000 [00:36<08:01,  9.71it/s]\u001b[A\n",
            "\n",
            "  7%|▋         | 327/5000 [00:36<08:02,  9.69it/s]\u001b[A\u001b[A"
          ],
          "name": "stderr"
        },
        {
          "output_type": "stream",
          "text": [
            "326\n",
            "327\n",
            "328\n"
          ],
          "name": "stdout"
        },
        {
          "output_type": "stream",
          "text": [
            "  7%|▋         | 329/5000 [00:36<08:02,  9.68it/s]\n",
            "  7%|▋         | 329/5000 [00:36<08:02,  9.69it/s]\u001b[A\n",
            "\n",
            "  7%|▋         | 329/5000 [00:36<08:07,  9.58it/s]\u001b[A\u001b[A"
          ],
          "name": "stderr"
        },
        {
          "output_type": "stream",
          "text": [
            "329\n",
            "330\n"
          ],
          "name": "stdout"
        },
        {
          "output_type": "stream",
          "text": [
            "  7%|▋         | 331/5000 [00:36<08:12,  9.48it/s]\n",
            "  7%|▋         | 331/5000 [00:36<08:13,  9.45it/s]\u001b[A\n",
            "\n",
            "  7%|▋         | 332/5000 [00:37<08:29,  9.16it/s]\n",
            "  7%|▋         | 332/5000 [00:37<08:31,  9.13it/s]\u001b[A\n",
            "\n",
            "  7%|▋         | 332/5000 [00:37<08:24,  9.26it/s]\u001b[A\u001b[A"
          ],
          "name": "stderr"
        },
        {
          "output_type": "stream",
          "text": [
            "331\n",
            "332\n"
          ],
          "name": "stdout"
        },
        {
          "output_type": "stream",
          "text": [
            "  7%|▋         | 334/5000 [00:37<07:58,  9.74it/s]\n",
            "  7%|▋         | 334/5000 [00:37<07:57,  9.77it/s]\u001b[A\n",
            "\n",
            "  7%|▋         | 334/5000 [00:37<08:02,  9.67it/s]\u001b[A\u001b[A"
          ],
          "name": "stderr"
        },
        {
          "output_type": "stream",
          "text": [
            "333\n",
            "334\n"
          ],
          "name": "stdout"
        },
        {
          "output_type": "stream",
          "text": [
            "  7%|▋         | 335/5000 [00:37<08:20,  9.33it/s]\n",
            "  7%|▋         | 335/5000 [00:37<08:19,  9.34it/s]\u001b[A\n",
            "\n",
            "  7%|▋         | 336/5000 [00:37<08:26,  9.21it/s]\n",
            "  7%|▋         | 336/5000 [00:37<08:27,  9.20it/s]\u001b[A\n",
            "\n",
            "  7%|▋         | 336/5000 [00:37<08:18,  9.36it/s]\u001b[A\u001b[A"
          ],
          "name": "stderr"
        },
        {
          "output_type": "stream",
          "text": [
            "335\n",
            "336\n",
            "337\n"
          ],
          "name": "stdout"
        },
        {
          "output_type": "stream",
          "text": [
            "  7%|▋         | 338/5000 [00:37<07:10, 10.84it/s]\n",
            "  7%|▋         | 338/5000 [00:37<07:09, 10.86it/s]\u001b[A\n",
            "\n",
            "  7%|▋         | 340/5000 [00:37<07:03, 11.00it/s]\n",
            "  7%|▋         | 340/5000 [00:37<07:04, 10.99it/s]\u001b[A\n",
            "\n",
            "  7%|▋         | 340/5000 [00:37<07:02, 11.04it/s]\u001b[A\u001b[A"
          ],
          "name": "stderr"
        },
        {
          "output_type": "stream",
          "text": [
            "338\n",
            "339\n",
            "340\n"
          ],
          "name": "stdout"
        },
        {
          "output_type": "stream",
          "text": [
            "  7%|▋         | 342/5000 [00:38<06:55, 11.20it/s]\n",
            "  7%|▋         | 342/5000 [00:38<06:56, 11.20it/s]\u001b[A\n",
            "\n",
            "  7%|▋         | 342/5000 [00:38<06:53, 11.26it/s]\u001b[A\u001b[A"
          ],
          "name": "stderr"
        },
        {
          "output_type": "stream",
          "text": [
            "341\n",
            "342\n",
            "343\n"
          ],
          "name": "stdout"
        },
        {
          "output_type": "stream",
          "text": [
            "  7%|▋         | 344/5000 [00:38<06:31, 11.89it/s]\n",
            "  7%|▋         | 344/5000 [00:38<06:30, 11.91it/s]\u001b[A\n",
            "\n",
            "  7%|▋         | 346/5000 [00:38<06:39, 11.66it/s]\n",
            "  7%|▋         | 346/5000 [00:38<06:39, 11.64it/s]\u001b[A\n",
            "\n",
            "  7%|▋         | 346/5000 [00:38<06:35, 11.77it/s]\u001b[A\u001b[A"
          ],
          "name": "stderr"
        },
        {
          "output_type": "stream",
          "text": [
            "344\n",
            "345\n",
            "346\n"
          ],
          "name": "stdout"
        },
        {
          "output_type": "stream",
          "text": [
            "  7%|▋         | 348/5000 [00:38<06:22, 12.17it/s]\n",
            "  7%|▋         | 348/5000 [00:38<06:21, 12.19it/s]\u001b[A\n",
            "\n",
            "  7%|▋         | 348/5000 [00:38<06:17, 12.32it/s]\u001b[A\u001b[A"
          ],
          "name": "stderr"
        },
        {
          "output_type": "stream",
          "text": [
            "347\n",
            "348\n",
            "349\n"
          ],
          "name": "stdout"
        },
        {
          "output_type": "stream",
          "text": [
            "  7%|▋         | 350/5000 [00:38<07:29, 10.35it/s]\n",
            "  7%|▋         | 350/5000 [00:38<07:28, 10.36it/s]\u001b[A\n",
            "\n",
            "  7%|▋         | 350/5000 [00:38<07:26, 10.42it/s]\u001b[A\u001b[A"
          ],
          "name": "stderr"
        },
        {
          "output_type": "stream",
          "text": [
            "350\n",
            "351\n"
          ],
          "name": "stdout"
        },
        {
          "output_type": "stream",
          "text": [
            "  7%|▋         | 352/5000 [00:38<07:40, 10.10it/s]\n",
            "  7%|▋         | 352/5000 [00:38<07:39, 10.11it/s]\u001b[A\n",
            "\n",
            "  7%|▋         | 354/5000 [00:39<07:11, 10.77it/s]\n",
            "  7%|▋         | 354/5000 [00:39<07:11, 10.77it/s]\u001b[A\n",
            "\n",
            "  7%|▋         | 354/5000 [00:39<07:16, 10.65it/s]\u001b[A\u001b[A"
          ],
          "name": "stderr"
        },
        {
          "output_type": "stream",
          "text": [
            "352\n",
            "353\n",
            "354\n"
          ],
          "name": "stdout"
        },
        {
          "output_type": "stream",
          "text": [
            "  7%|▋         | 357/5000 [00:39<06:07, 12.62it/s]\n",
            "  7%|▋         | 357/5000 [00:39<06:08, 12.60it/s]\u001b[A\n",
            "\n",
            "  7%|▋         | 357/5000 [00:39<06:15, 12.37it/s]\u001b[A\u001b[A"
          ],
          "name": "stderr"
        },
        {
          "output_type": "stream",
          "text": [
            "355\n",
            "356\n",
            "357\n"
          ],
          "name": "stdout"
        },
        {
          "output_type": "stream",
          "text": [
            "  7%|▋         | 359/5000 [00:39<06:46, 11.41it/s]\n",
            "  7%|▋         | 359/5000 [00:39<06:47, 11.40it/s]\u001b[A\n",
            "\n",
            "  7%|▋         | 359/5000 [00:39<06:44, 11.48it/s]\u001b[A\u001b[A"
          ],
          "name": "stderr"
        },
        {
          "output_type": "stream",
          "text": [
            "358\n",
            "359\n",
            "360\n"
          ],
          "name": "stdout"
        },
        {
          "output_type": "stream",
          "text": [
            "  7%|▋         | 361/5000 [00:39<06:41, 11.56it/s]\n",
            "  7%|▋         | 361/5000 [00:39<06:40, 11.57it/s]\u001b[A\n",
            "\n",
            "  7%|▋         | 361/5000 [00:39<06:35, 11.72it/s]\u001b[A\u001b[A"
          ],
          "name": "stderr"
        },
        {
          "output_type": "stream",
          "text": [
            "361\n",
            "362\n"
          ],
          "name": "stdout"
        },
        {
          "output_type": "stream",
          "text": [
            "  7%|▋         | 363/5000 [00:39<07:39, 10.08it/s]\n",
            "  7%|▋         | 363/5000 [00:39<07:39, 10.09it/s]\u001b[A\n",
            "\n",
            "  7%|▋         | 365/5000 [00:40<06:54, 11.17it/s]\n",
            "  7%|▋         | 365/5000 [00:40<06:54, 11.18it/s]\u001b[A\n",
            "\n",
            "  7%|▋         | 365/5000 [00:40<07:04, 10.93it/s]\u001b[A\u001b[A"
          ],
          "name": "stderr"
        },
        {
          "output_type": "stream",
          "text": [
            "363\n",
            "364\n",
            "365\n"
          ],
          "name": "stdout"
        },
        {
          "output_type": "stream",
          "text": [
            "  7%|▋         | 367/5000 [00:40<06:38, 11.63it/s]\n",
            "  7%|▋         | 367/5000 [00:40<06:38, 11.64it/s]\u001b[A\n",
            "\n",
            "  7%|▋         | 367/5000 [00:40<06:38, 11.62it/s]\u001b[A\u001b[A"
          ],
          "name": "stderr"
        },
        {
          "output_type": "stream",
          "text": [
            "366\n",
            "367\n",
            "368\n"
          ],
          "name": "stdout"
        },
        {
          "output_type": "stream",
          "text": [
            "  7%|▋         | 369/5000 [00:40<06:54, 11.16it/s]\n",
            "  7%|▋         | 369/5000 [00:40<06:55, 11.15it/s]\u001b[A\n",
            "\n",
            "  7%|▋         | 371/5000 [00:40<07:04, 10.91it/s]\n",
            "  7%|▋         | 371/5000 [00:40<07:05, 10.89it/s]"
          ],
          "name": "stderr"
        },
        {
          "output_type": "stream",
          "text": [
            "369\n",
            "370\n",
            "371\n"
          ],
          "name": "stdout"
        },
        {
          "output_type": "stream",
          "text": [
            "\u001b[A\n",
            "\n",
            "  7%|▋         | 373/5000 [00:40<06:51, 11.24it/s]\n",
            "  7%|▋         | 373/5000 [00:40<06:51, 11.25it/s]\u001b[A\n",
            "\n",
            "  7%|▋         | 373/5000 [00:40<06:49, 11.29it/s]\u001b[A\u001b[A"
          ],
          "name": "stderr"
        },
        {
          "output_type": "stream",
          "text": [
            "372\n",
            "373\n",
            "374\n"
          ],
          "name": "stdout"
        },
        {
          "output_type": "stream",
          "text": [
            "  8%|▊         | 375/5000 [00:40<06:32, 11.77it/s]\n",
            "  8%|▊         | 375/5000 [00:40<06:33, 11.75it/s]\u001b[A\n",
            "\n",
            "  8%|▊         | 377/5000 [00:41<06:37, 11.64it/s]\n",
            "  8%|▊         | 377/5000 [00:41<06:36, 11.66it/s]\u001b[A\n",
            "\n",
            "  8%|▊         | 377/5000 [00:41<06:33, 11.74it/s]\u001b[A\u001b[A"
          ],
          "name": "stderr"
        },
        {
          "output_type": "stream",
          "text": [
            "375\n",
            "376\n",
            "377\n"
          ],
          "name": "stdout"
        },
        {
          "output_type": "stream",
          "text": [
            "  8%|▊         | 380/5000 [00:41<05:26, 14.14it/s]\n",
            "  8%|▊         | 380/5000 [00:41<05:27, 14.12it/s]\u001b[A\n",
            "\n",
            "  8%|▊         | 380/5000 [00:41<05:22, 14.31it/s]\u001b[A\u001b[A"
          ],
          "name": "stderr"
        },
        {
          "output_type": "stream",
          "text": [
            "378\n",
            "379\n",
            "380\n"
          ],
          "name": "stdout"
        },
        {
          "output_type": "stream",
          "text": [
            "  8%|▊         | 382/5000 [00:41<05:46, 13.31it/s]\n",
            "  8%|▊         | 382/5000 [00:41<05:46, 13.33it/s]\u001b[A\n",
            "\n",
            "  8%|▊         | 382/5000 [00:41<05:42, 13.49it/s]\u001b[A\u001b[A"
          ],
          "name": "stderr"
        },
        {
          "output_type": "stream",
          "text": [
            "381\n",
            "382\n"
          ],
          "name": "stdout"
        },
        {
          "output_type": "stream",
          "text": [
            "  8%|▊         | 384/5000 [00:41<07:36, 10.10it/s]\n",
            "  8%|▊         | 384/5000 [00:41<07:37, 10.09it/s]\u001b[A\n",
            "\n",
            "  8%|▊         | 384/5000 [00:41<07:35, 10.14it/s]\u001b[A\u001b[A"
          ],
          "name": "stderr"
        },
        {
          "output_type": "stream",
          "text": [
            "383\n",
            "384\n"
          ],
          "name": "stdout"
        },
        {
          "output_type": "stream",
          "text": [
            "  8%|▊         | 386/5000 [00:41<07:23, 10.41it/s]\n",
            "  8%|▊         | 386/5000 [00:41<07:23, 10.41it/s]\u001b[A\n",
            "\n",
            "  8%|▊         | 386/5000 [00:41<07:27, 10.32it/s]\u001b[A\u001b[A"
          ],
          "name": "stderr"
        },
        {
          "output_type": "stream",
          "text": [
            "385\n",
            "386\n",
            "387\n"
          ],
          "name": "stdout"
        },
        {
          "output_type": "stream",
          "text": [
            "  8%|▊         | 388/5000 [00:42<07:23, 10.40it/s]\n",
            "  8%|▊         | 388/5000 [00:42<07:23, 10.39it/s]\u001b[A\n",
            "\n",
            "  8%|▊         | 390/5000 [00:42<06:36, 11.63it/s]\n",
            "  8%|▊         | 390/5000 [00:42<06:35, 11.65it/s]\u001b[A\n",
            "\n",
            "  8%|▊         | 390/5000 [00:42<06:32, 11.75it/s]\u001b[A\u001b[A"
          ],
          "name": "stderr"
        },
        {
          "output_type": "stream",
          "text": [
            "388\n",
            "389\n",
            "390\n"
          ],
          "name": "stdout"
        },
        {
          "output_type": "stream",
          "text": [
            "  8%|▊         | 392/5000 [00:42<06:47, 11.31it/s]\n",
            "  8%|▊         | 392/5000 [00:42<06:47, 11.32it/s]\u001b[A\n",
            "\n",
            "  8%|▊         | 392/5000 [00:42<06:50, 11.23it/s]\u001b[A\u001b[A"
          ],
          "name": "stderr"
        },
        {
          "output_type": "stream",
          "text": [
            "391\n",
            "392\n"
          ],
          "name": "stdout"
        },
        {
          "output_type": "stream",
          "text": [
            "  8%|▊         | 394/5000 [00:42<07:03, 10.86it/s]\n",
            "  8%|▊         | 394/5000 [00:42<07:03, 10.87it/s]\u001b[A\n",
            "\n",
            "  8%|▊         | 397/5000 [00:42<05:48, 13.22it/s]\n",
            "  8%|▊         | 397/5000 [00:42<05:48, 13.20it/s]"
          ],
          "name": "stderr"
        },
        {
          "output_type": "stream",
          "text": [
            "393\n",
            "394\n",
            "395\n",
            "396\n",
            "397\n"
          ],
          "name": "stdout"
        },
        {
          "output_type": "stream",
          "text": [
            "\u001b[A\n",
            "\n",
            "  8%|▊         | 399/5000 [00:42<06:01, 12.73it/s]\n",
            "  8%|▊         | 399/5000 [00:42<06:00, 12.75it/s]\u001b[A\n",
            "\n",
            "  8%|▊         | 399/5000 [00:42<05:59, 12.78it/s]\u001b[A\u001b[A"
          ],
          "name": "stderr"
        },
        {
          "output_type": "stream",
          "text": [
            "398\n",
            "399\n",
            "400\n"
          ],
          "name": "stdout"
        },
        {
          "output_type": "stream",
          "text": [
            "  8%|▊         | 401/5000 [00:43<06:18, 12.15it/s]\n",
            "  8%|▊         | 401/5000 [00:43<06:18, 12.15it/s]\u001b[A\n",
            "\n",
            "  8%|▊         | 401/5000 [00:43<06:21, 12.05it/s]\u001b[A\u001b[A"
          ],
          "name": "stderr"
        },
        {
          "output_type": "stream",
          "text": [
            "401\n",
            "402\n"
          ],
          "name": "stdout"
        },
        {
          "output_type": "stream",
          "text": [
            "  8%|▊         | 403/5000 [00:43<06:48, 11.26it/s]\n",
            "  8%|▊         | 403/5000 [00:43<06:47, 11.27it/s]\u001b[A\n",
            "\n",
            "  8%|▊         | 406/5000 [00:43<05:47, 13.22it/s]\n",
            "  8%|▊         | 406/5000 [00:43<05:47, 13.22it/s]\u001b[A\n",
            "\n",
            "  8%|▊         | 406/5000 [00:43<05:46, 13.25it/s]\u001b[A\u001b[A"
          ],
          "name": "stderr"
        },
        {
          "output_type": "stream",
          "text": [
            "403\n",
            "404\n",
            "405\n",
            "406\n"
          ],
          "name": "stdout"
        },
        {
          "output_type": "stream",
          "text": [
            "  8%|▊         | 408/5000 [00:43<05:18, 14.43it/s]\n",
            "  8%|▊         | 408/5000 [00:43<05:18, 14.43it/s]\u001b[A\n",
            "\n",
            "  8%|▊         | 410/5000 [00:43<05:40, 13.48it/s]\n"
          ],
          "name": "stderr"
        },
        {
          "output_type": "stream",
          "text": [
            "407\n",
            "408\n",
            "409\n",
            "410\n"
          ],
          "name": "stdout"
        },
        {
          "output_type": "stream",
          "text": [
            "\r  8%|▊         | 410/5000 [00:43<05:41, 13.45it/s]\u001b[A\n",
            "\n",
            "  8%|▊         | 412/5000 [00:43<06:21, 12.02it/s]\n",
            "  8%|▊         | 412/5000 [00:43<06:22, 12.01it/s]\u001b[A\n",
            "\n",
            "  8%|▊         | 414/5000 [00:44<05:52, 13.02it/s]\n"
          ],
          "name": "stderr"
        },
        {
          "output_type": "stream",
          "text": [
            "411\n",
            "412\n",
            "413\n",
            "414\n"
          ],
          "name": "stdout"
        },
        {
          "output_type": "stream",
          "text": [
            "\r  8%|▊         | 414/5000 [00:44<05:51, 13.03it/s]\u001b[A\n",
            "\n",
            "  8%|▊         | 416/5000 [00:44<06:19, 12.08it/s]\n",
            "  8%|▊         | 416/5000 [00:44<06:20, 12.05it/s]\u001b[A\n",
            "\n",
            "  8%|▊         | 416/5000 [00:44<06:14, 12.23it/s]\u001b[A\u001b[A"
          ],
          "name": "stderr"
        },
        {
          "output_type": "stream",
          "text": [
            "415\n",
            "416\n",
            "417\n"
          ],
          "name": "stdout"
        },
        {
          "output_type": "stream",
          "text": [
            "  8%|▊         | 418/5000 [00:44<06:25, 11.90it/s]\n",
            "  8%|▊         | 418/5000 [00:44<06:24, 11.91it/s]\u001b[A\n",
            "\n",
            "  8%|▊         | 420/5000 [00:44<06:32, 11.66it/s]\n",
            "  8%|▊         | 420/5000 [00:44<06:33, 11.64it/s]\u001b[A\n",
            "\n",
            "  8%|▊         | 420/5000 [00:44<06:31, 11.71it/s]\u001b[A\u001b[A"
          ],
          "name": "stderr"
        },
        {
          "output_type": "stream",
          "text": [
            "418\n",
            "419\n",
            "420\n"
          ],
          "name": "stdout"
        },
        {
          "output_type": "stream",
          "text": [
            "  8%|▊         | 423/5000 [00:44<05:20, 14.30it/s]\n",
            "  8%|▊         | 423/5000 [00:44<05:20, 14.29it/s]\u001b[A\n",
            "\n",
            "  8%|▊         | 423/5000 [00:44<05:18, 14.36it/s]\u001b[A\u001b[A"
          ],
          "name": "stderr"
        },
        {
          "output_type": "stream",
          "text": [
            "421\n",
            "422\n",
            "423\n",
            "424\n"
          ],
          "name": "stdout"
        },
        {
          "output_type": "stream",
          "text": [
            "  8%|▊         | 425/5000 [00:44<05:41, 13.42it/s]\n",
            "  8%|▊         | 425/5000 [00:44<05:41, 13.40it/s]\u001b[A\n",
            "\n",
            "  9%|▊         | 427/5000 [00:45<05:56, 12.81it/s]\n",
            "  9%|▊         | 427/5000 [00:45<05:56, 12.82it/s]\u001b[A\n",
            "\n",
            "  9%|▊         | 427/5000 [00:45<06:01, 12.64it/s]\u001b[A\u001b[A"
          ],
          "name": "stderr"
        },
        {
          "output_type": "stream",
          "text": [
            "425\n",
            "426\n",
            "427\n"
          ],
          "name": "stdout"
        },
        {
          "output_type": "stream",
          "text": [
            "  9%|▊         | 429/5000 [00:45<06:02, 12.60it/s]\n",
            "  9%|▊         | 429/5000 [00:45<06:02, 12.61it/s]\u001b[A\n",
            "\n",
            "  9%|▊         | 429/5000 [00:45<06:04, 12.55it/s]\u001b[A\u001b[A"
          ],
          "name": "stderr"
        },
        {
          "output_type": "stream",
          "text": [
            "428\n",
            "429\n",
            "430\n"
          ],
          "name": "stdout"
        },
        {
          "output_type": "stream",
          "text": [
            "  9%|▊         | 431/5000 [00:45<06:51, 11.11it/s]\n",
            "  9%|▊         | 431/5000 [00:45<06:50, 11.12it/s]\u001b[A\n",
            "\n",
            "  9%|▊         | 431/5000 [00:45<06:52, 11.06it/s]\u001b[A\u001b[A"
          ],
          "name": "stderr"
        },
        {
          "output_type": "stream",
          "text": [
            "431\n",
            "432\n"
          ],
          "name": "stdout"
        },
        {
          "output_type": "stream",
          "text": [
            "  9%|▊         | 433/5000 [00:45<07:29, 10.16it/s]\n",
            "  9%|▊         | 433/5000 [00:45<07:28, 10.17it/s]\u001b[A\n",
            "\n",
            "  9%|▊         | 433/5000 [00:45<07:28, 10.19it/s]\u001b[A\u001b[A"
          ],
          "name": "stderr"
        },
        {
          "output_type": "stream",
          "text": [
            "433\n",
            "434\n"
          ],
          "name": "stdout"
        },
        {
          "output_type": "stream",
          "text": [
            "  9%|▊         | 435/5000 [00:45<07:37,  9.98it/s]\n",
            "  9%|▊         | 435/5000 [00:45<07:37,  9.99it/s]\u001b[A\n",
            "\n",
            "  9%|▊         | 437/5000 [00:46<07:06, 10.70it/s]\n",
            "  9%|▊         | 437/5000 [00:46<07:07, 10.67it/s]\u001b[A\n",
            "\n",
            "  9%|▊         | 437/5000 [00:46<07:03, 10.79it/s]\u001b[A\u001b[A"
          ],
          "name": "stderr"
        },
        {
          "output_type": "stream",
          "text": [
            "435\n",
            "436\n",
            "437\n"
          ],
          "name": "stdout"
        },
        {
          "output_type": "stream",
          "text": [
            "  9%|▉         | 439/5000 [00:46<07:30, 10.12it/s]\n",
            "  9%|▉         | 439/5000 [00:46<07:31, 10.11it/s]\u001b[A\n",
            "\n",
            "  9%|▉         | 439/5000 [00:46<07:26, 10.21it/s]\u001b[A\u001b[A"
          ],
          "name": "stderr"
        },
        {
          "output_type": "stream",
          "text": [
            "438\n",
            "439\n",
            "440\n"
          ],
          "name": "stdout"
        },
        {
          "output_type": "stream",
          "text": [
            "  9%|▉         | 441/5000 [00:46<07:14, 10.50it/s]\n",
            "  9%|▉         | 441/5000 [00:46<07:13, 10.52it/s]\u001b[A\n",
            "\n",
            "  9%|▉         | 443/5000 [00:46<07:03, 10.77it/s]\n",
            "  9%|▉         | 443/5000 [00:46<07:02, 10.78it/s]\u001b[A\n",
            "\n",
            "  9%|▉         | 443/5000 [00:46<07:03, 10.77it/s]\u001b[A\u001b[A"
          ],
          "name": "stderr"
        },
        {
          "output_type": "stream",
          "text": [
            "441\n",
            "442\n",
            "443\n"
          ],
          "name": "stdout"
        },
        {
          "output_type": "stream",
          "text": [
            "  9%|▉         | 445/5000 [00:46<07:19, 10.36it/s]\n",
            "  9%|▉         | 445/5000 [00:46<07:19, 10.37it/s]\u001b[A\n",
            "\n",
            "  9%|▉         | 445/5000 [00:46<07:16, 10.43it/s]\u001b[A\u001b[A"
          ],
          "name": "stderr"
        },
        {
          "output_type": "stream",
          "text": [
            "444\n",
            "445\n"
          ],
          "name": "stdout"
        },
        {
          "output_type": "stream",
          "text": [
            "  9%|▉         | 447/5000 [00:47<06:36, 11.47it/s]\n",
            "  9%|▉         | 447/5000 [00:47<06:37, 11.46it/s]\u001b[A\n",
            "\n",
            "  9%|▉         | 447/5000 [00:47<06:35, 11.51it/s]\u001b[A\u001b[A"
          ],
          "name": "stderr"
        },
        {
          "output_type": "stream",
          "text": [
            "446\n",
            "447\n"
          ],
          "name": "stdout"
        },
        {
          "output_type": "stream",
          "text": [
            "  9%|▉         | 449/5000 [00:47<09:56,  7.63it/s]\n",
            "  9%|▉         | 449/5000 [00:47<09:56,  7.63it/s]\u001b[A\n",
            "\n",
            "  9%|▉         | 449/5000 [00:47<10:02,  7.55it/s]\u001b[A\u001b[A"
          ],
          "name": "stderr"
        },
        {
          "output_type": "stream",
          "text": [
            "448\n",
            "449\n",
            "450\n"
          ],
          "name": "stdout"
        },
        {
          "output_type": "stream",
          "text": [
            "  9%|▉         | 451/5000 [00:47<09:03,  8.38it/s]\n",
            "  9%|▉         | 451/5000 [00:47<09:04,  8.35it/s]\u001b[A\n",
            "\n",
            "  9%|▉         | 453/5000 [00:47<08:18,  9.12it/s]\n",
            "  9%|▉         | 453/5000 [00:47<08:19,  9.11it/s]\u001b[A\n",
            "\n",
            "  9%|▉         | 453/5000 [00:47<08:24,  9.00it/s]\u001b[A\u001b[A"
          ],
          "name": "stderr"
        },
        {
          "output_type": "stream",
          "text": [
            "451\n",
            "452\n",
            "453\n"
          ],
          "name": "stdout"
        },
        {
          "output_type": "stream",
          "text": [
            "  9%|▉         | 455/5000 [00:48<07:58,  9.49it/s]\n",
            "  9%|▉         | 455/5000 [00:48<07:59,  9.49it/s]\u001b[A\n",
            "\n",
            "  9%|▉         | 455/5000 [00:48<07:58,  9.51it/s]\u001b[A\u001b[A"
          ],
          "name": "stderr"
        },
        {
          "output_type": "stream",
          "text": [
            "454\n",
            "455\n",
            "456\n"
          ],
          "name": "stdout"
        },
        {
          "output_type": "stream",
          "text": [
            "  9%|▉         | 457/5000 [00:48<07:07, 10.63it/s]\n",
            "  9%|▉         | 457/5000 [00:48<07:06, 10.64it/s]\u001b[A\n",
            "\n",
            "  9%|▉         | 459/5000 [00:48<06:56, 10.90it/s]\n",
            "  9%|▉         | 459/5000 [00:48<06:56, 10.90it/s]\u001b[A\n",
            "\n",
            "  9%|▉         | 459/5000 [00:48<06:55, 10.92it/s]\u001b[A\u001b[A"
          ],
          "name": "stderr"
        },
        {
          "output_type": "stream",
          "text": [
            "457\n",
            "458\n",
            "459\n"
          ],
          "name": "stdout"
        },
        {
          "output_type": "stream",
          "text": [
            "  9%|▉         | 461/5000 [00:48<07:04, 10.70it/s]\n",
            "  9%|▉         | 461/5000 [00:48<07:03, 10.72it/s]\u001b[A\n",
            "\n",
            "  9%|▉         | 461/5000 [00:48<07:06, 10.64it/s]\u001b[A\u001b[A"
          ],
          "name": "stderr"
        },
        {
          "output_type": "stream",
          "text": [
            "460\n",
            "461\n"
          ],
          "name": "stdout"
        },
        {
          "output_type": "stream",
          "text": [
            "  9%|▉         | 463/5000 [00:48<06:45, 11.18it/s]\n",
            "  9%|▉         | 463/5000 [00:48<06:45, 11.20it/s]\u001b[A\n",
            "\n",
            "  9%|▉         | 465/5000 [00:48<06:52, 11.00it/s]\n",
            "  9%|▉         | 465/5000 [00:48<06:52, 11.00it/s]"
          ],
          "name": "stderr"
        },
        {
          "output_type": "stream",
          "text": [
            "462\n",
            "463\n",
            "464\n",
            "465\n"
          ],
          "name": "stdout"
        },
        {
          "output_type": "stream",
          "text": [
            "\u001b[A\n",
            "\n",
            "  9%|▉         | 467/5000 [00:49<06:12, 12.18it/s]\n",
            "  9%|▉         | 467/5000 [00:49<06:12, 12.17it/s]\u001b[A\n",
            "\n",
            "  9%|▉         | 467/5000 [00:49<06:12, 12.16it/s]\u001b[A\u001b[A"
          ],
          "name": "stderr"
        },
        {
          "output_type": "stream",
          "text": [
            "466\n",
            "467\n",
            "468\n"
          ],
          "name": "stdout"
        },
        {
          "output_type": "stream",
          "text": [
            "  9%|▉         | 469/5000 [00:49<06:15, 12.07it/s]\n",
            "  9%|▉         | 469/5000 [00:49<06:17, 12.01it/s]\u001b[A\n",
            "\n",
            "  9%|▉         | 469/5000 [00:49<06:18, 11.97it/s]\u001b[A\u001b[A"
          ],
          "name": "stderr"
        },
        {
          "output_type": "stream",
          "text": [
            "469\n",
            "470\n"
          ],
          "name": "stdout"
        },
        {
          "output_type": "stream",
          "text": [
            "  9%|▉         | 471/5000 [00:49<06:58, 10.83it/s]\n",
            "  9%|▉         | 471/5000 [00:49<06:56, 10.86it/s]\u001b[A\n",
            "\n",
            "  9%|▉         | 473/5000 [00:49<06:07, 12.32it/s]\n",
            "  9%|▉         | 473/5000 [00:49<06:07, 12.32it/s]\u001b[A\n",
            "\n",
            "  9%|▉         | 473/5000 [00:49<06:05, 12.39it/s]\u001b[A\u001b[A"
          ],
          "name": "stderr"
        },
        {
          "output_type": "stream",
          "text": [
            "471\n",
            "472\n",
            "473\n",
            "474\n"
          ],
          "name": "stdout"
        },
        {
          "output_type": "stream",
          "text": [
            " 10%|▉         | 475/5000 [00:49<05:32, 13.59it/s]\n",
            " 10%|▉         | 475/5000 [00:49<05:32, 13.59it/s]\u001b[A\n",
            "\n",
            " 10%|▉         | 477/5000 [00:49<05:14, 14.38it/s]\n",
            " 10%|▉         | 477/5000 [00:49<05:13, 14.41it/s]\u001b[A\n",
            "\n",
            " 10%|▉         | 477/5000 [00:49<05:19, 14.15it/s]\u001b[A\u001b[A"
          ],
          "name": "stderr"
        },
        {
          "output_type": "stream",
          "text": [
            "475\n",
            "476\n",
            "477\n"
          ],
          "name": "stdout"
        },
        {
          "output_type": "stream",
          "text": [
            " 10%|▉         | 479/5000 [00:50<06:27, 11.66it/s]\n",
            " 10%|▉         | 479/5000 [00:50<06:27, 11.68it/s]\u001b[A\n",
            "\n",
            " 10%|▉         | 479/5000 [00:50<06:25, 11.71it/s]\u001b[A\u001b[A"
          ],
          "name": "stderr"
        },
        {
          "output_type": "stream",
          "text": [
            "478\n",
            "479\n",
            "480\n"
          ],
          "name": "stdout"
        },
        {
          "output_type": "stream",
          "text": [
            " 10%|▉         | 481/5000 [00:50<06:36, 11.39it/s]\n",
            " 10%|▉         | 481/5000 [00:50<06:37, 11.37it/s]\u001b[A\n",
            "\n",
            " 10%|▉         | 483/5000 [00:50<06:07, 12.31it/s]\n",
            " 10%|▉         | 483/5000 [00:50<06:07, 12.30it/s]\u001b[A\n",
            "\n",
            " 10%|▉         | 483/5000 [00:50<06:02, 12.47it/s]\u001b[A\u001b[A"
          ],
          "name": "stderr"
        },
        {
          "output_type": "stream",
          "text": [
            "481\n",
            "482\n",
            "483\n"
          ],
          "name": "stdout"
        },
        {
          "output_type": "stream",
          "text": [
            " 10%|▉         | 485/5000 [00:50<06:09, 12.21it/s]\n",
            " 10%|▉         | 485/5000 [00:50<06:09, 12.23it/s]\u001b[A\n",
            "\n",
            " 10%|▉         | 485/5000 [00:50<06:09, 12.22it/s]\u001b[A\u001b[A"
          ],
          "name": "stderr"
        },
        {
          "output_type": "stream",
          "text": [
            "484\n",
            "485\n",
            "486\n"
          ],
          "name": "stdout"
        },
        {
          "output_type": "stream",
          "text": [
            " 10%|▉         | 487/5000 [00:50<05:58, 12.60it/s]\n",
            " 10%|▉         | 487/5000 [00:50<05:57, 12.61it/s]\u001b[A\n",
            "\n",
            " 10%|▉         | 489/5000 [00:50<06:04, 12.37it/s]\n",
            " 10%|▉         | 489/5000 [00:50<06:05, 12.35it/s]\u001b[A\n",
            "\n",
            " 10%|▉         | 489/5000 [00:50<06:01, 12.48it/s]\u001b[A\u001b[A"
          ],
          "name": "stderr"
        },
        {
          "output_type": "stream",
          "text": [
            "487\n",
            "488\n",
            "489\n"
          ],
          "name": "stdout"
        },
        {
          "output_type": "stream",
          "text": [
            " 10%|▉         | 491/5000 [00:50<05:52, 12.78it/s]\n",
            " 10%|▉         | 491/5000 [00:50<05:52, 12.81it/s]\u001b[A\n",
            "\n",
            " 10%|▉         | 491/5000 [00:50<05:54, 12.72it/s]\u001b[A\u001b[A"
          ],
          "name": "stderr"
        },
        {
          "output_type": "stream",
          "text": [
            "490\n",
            "491\n",
            "492\n"
          ],
          "name": "stdout"
        },
        {
          "output_type": "stream",
          "text": [
            " 10%|▉         | 493/5000 [00:51<06:11, 12.13it/s]\n",
            " 10%|▉         | 493/5000 [00:51<06:12, 12.10it/s]\u001b[A\n",
            "\n",
            " 10%|▉         | 495/5000 [00:51<06:13, 12.08it/s]\n",
            " 10%|▉         | 495/5000 [00:51<06:12, 12.10it/s]\u001b[A\n",
            "\n",
            " 10%|▉         | 495/5000 [00:51<06:09, 12.19it/s]\u001b[A\u001b[A"
          ],
          "name": "stderr"
        },
        {
          "output_type": "stream",
          "text": [
            "493\n",
            "494\n",
            "495\n"
          ],
          "name": "stdout"
        },
        {
          "output_type": "stream",
          "text": [
            " 10%|▉         | 498/5000 [00:51<04:55, 15.24it/s]\n",
            " 10%|▉         | 498/5000 [00:51<04:54, 15.26it/s]\u001b[A\n",
            "\n",
            " 10%|▉         | 498/5000 [00:51<04:54, 15.30it/s]\u001b[A\u001b[A"
          ],
          "name": "stderr"
        },
        {
          "output_type": "stream",
          "text": [
            "496\n",
            "497\n",
            "498\n"
          ],
          "name": "stdout"
        },
        {
          "output_type": "stream",
          "text": [
            " 10%|█         | 500/5000 [00:51<05:47, 12.95it/s]\n",
            " 10%|█         | 500/5000 [00:51<05:47, 12.96it/s]\u001b[A\n",
            "\n",
            " 10%|█         | 500/5000 [00:51<05:55, 12.66it/s]\u001b[A\u001b[A"
          ],
          "name": "stderr"
        },
        {
          "output_type": "stream",
          "text": [
            "499\n",
            "500\n"
          ],
          "name": "stdout"
        },
        {
          "output_type": "stream",
          "text": [
            " 10%|█         | 502/5000 [00:51<06:35, 11.37it/s]\n",
            " 10%|█         | 502/5000 [00:51<06:36, 11.35it/s]\u001b[A\n",
            "\n",
            " 10%|█         | 502/5000 [00:51<06:35, 11.37it/s]\u001b[A\u001b[A"
          ],
          "name": "stderr"
        },
        {
          "output_type": "stream",
          "text": [
            "501\n",
            "502\n",
            "503\n"
          ],
          "name": "stdout"
        },
        {
          "output_type": "stream",
          "text": [
            " 10%|█         | 504/5000 [00:52<06:43, 11.13it/s]\n",
            " 10%|█         | 504/5000 [00:52<06:43, 11.14it/s]\u001b[A\n",
            "\n",
            " 10%|█         | 506/5000 [00:52<06:25, 11.66it/s]\n",
            " 10%|█         | 506/5000 [00:52<06:26, 11.64it/s]\u001b[A\n",
            "\n",
            " 10%|█         | 506/5000 [00:52<06:25, 11.65it/s]\u001b[A\u001b[A"
          ],
          "name": "stderr"
        },
        {
          "output_type": "stream",
          "text": [
            "504\n",
            "505\n",
            "506\n"
          ],
          "name": "stdout"
        },
        {
          "output_type": "stream",
          "text": [
            " 10%|█         | 508/5000 [00:52<06:36, 11.34it/s]\n",
            " 10%|█         | 508/5000 [00:52<06:36, 11.34it/s]\u001b[A\n",
            "\n",
            " 10%|█         | 508/5000 [00:52<06:32, 11.44it/s]\u001b[A\u001b[A"
          ],
          "name": "stderr"
        },
        {
          "output_type": "stream",
          "text": [
            "507\n",
            "508\n",
            "509\n"
          ],
          "name": "stdout"
        },
        {
          "output_type": "stream",
          "text": [
            " 10%|█         | 510/5000 [00:52<06:39, 11.25it/s]\n",
            " 10%|█         | 510/5000 [00:52<06:39, 11.24it/s]\u001b[A\n",
            "\n",
            " 10%|█         | 512/5000 [00:52<06:35, 11.34it/s]\n",
            " 10%|█         | 512/5000 [00:52<06:35, 11.36it/s]\u001b[A\n",
            "\n",
            " 10%|█         | 512/5000 [00:52<06:40, 11.20it/s]\u001b[A\u001b[A"
          ],
          "name": "stderr"
        },
        {
          "output_type": "stream",
          "text": [
            "510\n",
            "511\n",
            "512\n"
          ],
          "name": "stdout"
        },
        {
          "output_type": "stream",
          "text": [
            " 10%|█         | 514/5000 [00:52<07:02, 10.62it/s]\n",
            " 10%|█         | 514/5000 [00:52<07:02, 10.62it/s]\u001b[A\n",
            "\n",
            " 10%|█         | 514/5000 [00:52<07:01, 10.63it/s]\u001b[A\u001b[A"
          ],
          "name": "stderr"
        },
        {
          "output_type": "stream",
          "text": [
            "513\n",
            "514\n",
            "515\n"
          ],
          "name": "stdout"
        },
        {
          "output_type": "stream",
          "text": [
            " 10%|█         | 516/5000 [00:53<06:40, 11.20it/s]\n",
            " 10%|█         | 516/5000 [00:53<06:40, 11.19it/s]\u001b[A\n",
            "\n",
            " 10%|█         | 518/5000 [00:53<06:52, 10.86it/s]\n",
            " 10%|█         | 518/5000 [00:53<06:52, 10.88it/s]"
          ],
          "name": "stderr"
        },
        {
          "output_type": "stream",
          "text": [
            "516\n",
            "517\n",
            "518\n"
          ],
          "name": "stdout"
        },
        {
          "output_type": "stream",
          "text": [
            "\u001b[A\n",
            "\n",
            " 10%|█         | 520/5000 [00:53<06:11, 12.06it/s]\n",
            " 10%|█         | 520/5000 [00:53<06:11, 12.05it/s]\u001b[A\n",
            "\n",
            " 10%|█         | 520/5000 [00:53<06:05, 12.27it/s]\u001b[A\u001b[A"
          ],
          "name": "stderr"
        },
        {
          "output_type": "stream",
          "text": [
            "519\n",
            "520\n"
          ],
          "name": "stdout"
        },
        {
          "output_type": "stream",
          "text": [
            " 10%|█         | 522/5000 [00:53<07:52,  9.48it/s]\n",
            " 10%|█         | 522/5000 [00:53<07:52,  9.47it/s]\u001b[A\n",
            "\n",
            " 10%|█         | 522/5000 [00:53<07:51,  9.51it/s]\u001b[A\u001b[A"
          ],
          "name": "stderr"
        },
        {
          "output_type": "stream",
          "text": [
            "521\n",
            "522\n"
          ],
          "name": "stdout"
        },
        {
          "output_type": "stream",
          "text": [
            " 10%|█         | 524/5000 [00:53<07:06, 10.51it/s]\n",
            " 10%|█         | 524/5000 [00:53<07:05, 10.52it/s]\u001b[A\n",
            "\n",
            " 10%|█         | 524/5000 [00:53<07:00, 10.64it/s]\u001b[A\u001b[A"
          ],
          "name": "stderr"
        },
        {
          "output_type": "stream",
          "text": [
            "523\n",
            "524\n"
          ],
          "name": "stdout"
        },
        {
          "output_type": "stream",
          "text": [
            " 11%|█         | 526/5000 [00:54<08:13,  9.06it/s]\n",
            " 11%|█         | 526/5000 [00:54<08:14,  9.04it/s]\u001b[A\n",
            "\n",
            " 11%|█         | 526/5000 [00:54<08:12,  9.09it/s]\u001b[A\u001b[A"
          ],
          "name": "stderr"
        },
        {
          "output_type": "stream",
          "text": [
            "525\n",
            "526\n"
          ],
          "name": "stdout"
        },
        {
          "output_type": "stream",
          "text": [
            " 11%|█         | 528/5000 [00:54<07:51,  9.49it/s]\n",
            " 11%|█         | 528/5000 [00:54<07:50,  9.50it/s]\u001b[A\n",
            "\n",
            " 11%|█         | 528/5000 [00:54<07:48,  9.55it/s]\u001b[A\u001b[A"
          ],
          "name": "stderr"
        },
        {
          "output_type": "stream",
          "text": [
            "527\n",
            "528\n",
            "529\n"
          ],
          "name": "stdout"
        },
        {
          "output_type": "stream",
          "text": [
            " 11%|█         | 530/5000 [00:54<07:50,  9.49it/s]\n",
            " 11%|█         | 530/5000 [00:54<07:51,  9.49it/s]\u001b[A\n",
            "\n",
            " 11%|█         | 530/5000 [00:54<07:51,  9.48it/s]\u001b[A\u001b[A"
          ],
          "name": "stderr"
        }
      ]
    },
    {
      "cell_type": "code",
      "metadata": {
        "id": "QHzfPNEv4CxZ"
      },
      "source": [
        "\n",
        "bidef = BidirectionalAttentionFlow(400, 250, 20)\n",
        "bidef.load_bidaf('drive/My Drive/app/bidaf250_18.h5')\n",
        "print(\"loaded\")\n",
        "bidef.train_model(context_data, question_data, output_data1, output_data2, 5)"
      ],
      "execution_count": null,
      "outputs": []
    },
    {
      "cell_type": "code",
      "metadata": {
        "id": "0vellTYU_8WD"
      },
      "source": [
        "vectors = MagnitudeVectors().load_vectors()\n",
        "\n",
        "\n",
        "def processForModel(context, question, span):\n",
        "        context = [context]\n",
        "        question = [question]\n",
        "        passage = [pas.strip() for pas in context]\n",
        "        cont = []\n",
        "        for pas in passage:\n",
        "            context_tokens = pas.split(\" \")\n",
        "            cont.append(context_tokens)\n",
        "        original_passage = [pas.lower() for pas in passage]\n",
        "        quest = []\n",
        "        for ques in question:\n",
        "            question_tokens = ques.split(\" \")\n",
        "            quest.append(question_tokens)\n",
        "        context_batch = vectors.query(cont)\n",
        "        question_batch = vectors.query(quest)\n",
        "        pad1 = np.zeros(shape=(1, 250 - len(cont[0]), 400))\n",
        "        context_batch = np.concatenate((context_batch, pad1), 1)\n",
        "\n",
        "        pad2 = np.zeros(shape=(1, 20 - len(quest[0]), 400))\n",
        "        question_batch = np.concatenate((question_batch, pad2), 1)\n",
        "        answer_span = span.split()\n",
        "        output1 = np.zeros(shape=(1, 250), dtype=float)\n",
        "        output2 = np.zeros(shape=(1, 250), dtype=float)\n",
        "        output1[0][int(answer_span[0])] = 1\n",
        "        output2[0][int(answer_span[1])] = 1\n",
        "        # context_batch = tf.convert_to_tensor(context_batch, tf.float32)\n",
        "        # question_batch = tf.convert_to_tensor(question_batch, tf.float32)\n",
        "        # output1 = tf.convert_to_tensor(output1, tf.float32)\n",
        "        # output2 = tf.convert_to_tensor(output2, tf.float32)\n",
        "\n",
        "        return context_batch, question_batch, output1, output2\n"
      ],
      "execution_count": null,
      "outputs": []
    },
    {
      "cell_type": "code",
      "metadata": {
        "id": "nk8AcrwP_Nqn",
        "colab": {
          "base_uri": "https://localhost:8080/"
        },
        "outputId": "fa165277-4e1a-45e3-ca01-d573f50042f3"
      },
      "source": [
        "bidef = BidirectionalAttentionFlow(400, 250, 20)\n",
        "bidef.load_bidaf('drive/My Drive/app/bidaf250_15.h5')\n",
        "context = \"in four months , aonuma 's team managed to present realistic horseback riding , [ l ] which nintendo later revealed to the public with a trailer at electronic entertainment expo 2004 . the game was scheduled to be released the next year , and was no longer a follow-up to the wind waker ; a true sequel to it was released for the nintendo ds in 2007 , in the form of phantom hourglass . miyamoto explained in interviews that the graphical style was chosen to satisfy demand , and that it better fit the theme of an older incarnation of link . the game runs on a modified the wind waker engine .\"\n",
        "question = \"where did nintendo preview the horseback riding feature ?\"\n",
        "context = 'from the beginning of 2014 , madonna began to make multiple media appearances . she appeared at the 56th annual grammy awards in january 2014 , performing \" open your heart \" alongside rappers macklemore & ryan lewis and singer mary lambert , who sang their single \" same love \" , as 33 couples were wed onstage , officiated by queen latifah . days later , she joined singer miley cyrus on her mtv unplugged special , singing a mash-up of \" do n\\'t tell me \" and cyrus \\' single \" we ca n\\'t stop \" ( 2013 ) . she also extended her business ventures and in february 2014 the singer premiered mdna skin , a range of skin care products , in tokyo , japan . after visiting her hometown of detroit during may 2014 , madonna decided to contribute funds to three of the city \\'s organizations , to help eliminate poverty from there . the singer released a statement saying that she was inspired by their work , adding that \" it was obvious to me that i had to get involved and be part of the solution to help detroit recover \" .'\n",
        "question=\"which singer did she join on mtv unplugged to sing ?\"\n",
        "span = \"70 71\"\n",
        "c, q, s1, s2 = processForModel(context, question, span)\n",
        "p1, p2 = bidef.predict(c, q)\n",
        "\n",
        "print(np.amax(p1, axis=1))\n",
        "print(np.amax(p2, axis=1))\n",
        "\n",
        "print(p1, p2)\n",
        "print(s1, s2)\n"
      ],
      "execution_count": null,
      "outputs": [
        {
          "output_type": "stream",
          "text": [
            "Model: \"model_7\"\n",
            "__________________________________________________________________________________________________\n",
            "Layer (type)                    Output Shape         Param #     Connected to                     \n",
            "==================================================================================================\n",
            "passage_input (InputLayer)      [(None, 250, 400)]   0                                            \n",
            "__________________________________________________________________________________________________\n",
            "question_input (InputLayer)     [(None, 20, 400)]    0                                            \n",
            "__________________________________________________________________________________________________\n",
            "highway_layer (Highway)         multiple             320800      question_input[0][0]             \n",
            "                                                                 passage_input[0][0]              \n",
            "__________________________________________________________________________________________________\n",
            "bidirectional_encoder (Bidirect multiple             2563200     highway_layer[0][0]              \n",
            "                                                                 highway_layer[1][0]              \n",
            "__________________________________________________________________________________________________\n",
            "sm (SimilarityMatrix)           (None, 250, 20)      2400        bidirectional_encoder[1][0]      \n",
            "                                                                 bidirectional_encoder[0][0]      \n",
            "__________________________________________________________________________________________________\n",
            "c2q (C2Q_Layer)                 (None, 250, 800)     0           sm[0][0]                         \n",
            "                                                                 bidirectional_encoder[0][0]      \n",
            "__________________________________________________________________________________________________\n",
            "q2c (Q2C_Layer)                 (None, 250, 800)     0           sm[0][0]                         \n",
            "                                                                 bidirectional_encoder[1][0]      \n",
            "__________________________________________________________________________________________________\n",
            "mega (MegaMerge)                (None, 250, 3200)    0           bidirectional_encoder[1][0]      \n",
            "                                                                 c2q[0][0]                        \n",
            "                                                                 q2c[0][0]                        \n",
            "__________________________________________________________________________________________________\n",
            "modelling (ModellingLayer)      ((None, 250, 4000),  15366400    mega[0][0]                       \n",
            "__________________________________________________________________________________________________\n",
            "output (OutputLayer)            ((None, 250), (None, 8000        modelling[0][0]                  \n",
            "                                                                 modelling[0][1]                  \n",
            "==================================================================================================\n",
            "Total params: 18,260,800\n",
            "Trainable params: 18,260,800\n",
            "Non-trainable params: 0\n",
            "__________________________________________________________________________________________________\n",
            "0 highway_layer/dense/kernel:0\n",
            "1 highway_layer/dense/bias:0\n",
            "2 highway_layer/dense_1/kernel:0\n",
            "3 highway_layer/dense_1/bias:0\n",
            "4 bidirectional_encoder/forward_lstm_7/lstm_cell_43/kernel:0\n",
            "5 bidirectional_encoder/forward_lstm_7/lstm_cell_43/recurrent_kernel:0\n",
            "6 bidirectional_encoder/forward_lstm_7/lstm_cell_43/bias:0\n",
            "7 bidirectional_encoder/backward_lstm_7/lstm_cell_44/kernel:0\n",
            "8 bidirectional_encoder/backward_lstm_7/lstm_cell_44/recurrent_kernel:0\n",
            "9 bidirectional_encoder/backward_lstm_7/lstm_cell_44/bias:0\n",
            "10 sm/kernel:0\n",
            "11 modelling/bidirectional/forward_lstm/lstm_cell_1/kernel:0\n",
            "12 modelling/bidirectional/forward_lstm/lstm_cell_1/recurrent_kernel:0\n",
            "13 modelling/bidirectional/forward_lstm/lstm_cell_1/bias:0\n",
            "14 modelling/bidirectional/backward_lstm/lstm_cell_2/kernel:0\n",
            "15 modelling/bidirectional/backward_lstm/lstm_cell_2/recurrent_kernel:0\n",
            "16 modelling/bidirectional/backward_lstm/lstm_cell_2/bias:0\n",
            "17 modelling/bidirectional_1/forward_lstm_1/lstm_cell_4/kernel:0\n",
            "18 modelling/bidirectional_1/forward_lstm_1/lstm_cell_4/recurrent_kernel:0\n",
            "19 modelling/bidirectional_1/forward_lstm_1/lstm_cell_4/bias:0\n",
            "20 modelling/bidirectional_1/backward_lstm_1/lstm_cell_5/kernel:0\n",
            "21 modelling/bidirectional_1/backward_lstm_1/lstm_cell_5/recurrent_kernel:0\n",
            "22 modelling/bidirectional_1/backward_lstm_1/lstm_cell_5/bias:0\n",
            "23 output/w1:0\n",
            "24 output/w2:0\n",
            "WARNING:tensorflow:8 out of the last 8 calls to <function Model.make_predict_function.<locals>.predict_function at 0x7f9470757c20> triggered tf.function retracing. Tracing is expensive and the excessive number of tracings could be due to (1) creating @tf.function repeatedly in a loop, (2) passing tensors with different shapes, (3) passing Python objects instead of tensors. For (1), please define your @tf.function outside of the loop. For (2), @tf.function has experimental_relax_shapes=True option that relaxes argument shapes that can avoid unnecessary retracing. For (3), please refer to https://www.tensorflow.org/guide/function#controlling_retracing and https://www.tensorflow.org/api_docs/python/tf/function for  more details.\n",
            "[0.0631331]\n",
            "[0.0912025]\n",
            "[[5.24969594e-03 4.41770993e-03 4.04510322e-03 7.72981598e-03\n",
            "  4.87375206e-03 6.81793237e-03 1.66639354e-03 2.54868051e-03\n",
            "  8.03650793e-03 1.92285737e-02 1.24455262e-02 8.20558305e-03\n",
            "  1.02402942e-02 1.81105341e-02 7.97433219e-03 1.40524336e-02\n",
            "  2.75463411e-02 2.39644732e-02 5.10343906e-03 2.79793249e-03\n",
            "  1.38376427e-03 1.21503670e-03 1.82651643e-03 6.71694351e-04\n",
            "  6.43924873e-04 1.22358526e-03 2.61774458e-03 3.86665951e-03\n",
            "  9.48792324e-04 3.74756345e-04 3.50610460e-04 1.76881615e-03\n",
            "  4.70556033e-03 9.44482549e-03 7.42825349e-03 9.42988953e-03\n",
            "  5.55812501e-03 2.76205265e-03 1.01124777e-02 1.58837510e-02\n",
            "  1.95344318e-03 3.26440995e-04 6.09568233e-04 1.31090385e-03\n",
            "  1.72885900e-03 2.82331406e-03 2.88873553e-03 9.78707072e-03\n",
            "  3.90692741e-03 2.72789712e-03 3.13856170e-03 3.71286163e-03\n",
            "  6.78810398e-03 8.97194492e-04 6.51712862e-04 1.30080811e-03\n",
            "  1.18301578e-03 1.11718427e-03 2.72214270e-03 5.20433295e-03\n",
            "  1.14822371e-02 4.54443647e-03 1.40128820e-03 2.47820373e-03\n",
            "  2.85631401e-03 3.46313743e-03 1.47001254e-02 1.52946618e-02\n",
            "  3.18827150e-02 6.31330970e-02 2.10098376e-02 7.53348437e-03\n",
            "  3.20156007e-02 3.14062116e-02 1.37182200e-02 8.05111210e-03\n",
            "  3.77587594e-03 7.55071041e-03 4.21150174e-03 1.91608899e-03\n",
            "  5.90380151e-04 8.56429778e-04 9.28053911e-04 7.34410023e-04\n",
            "  4.22713536e-04 4.37307566e-04 4.04646765e-04 7.95174135e-04\n",
            "  1.03240574e-03 3.37104565e-04 6.33244180e-04 1.01619419e-03\n",
            "  5.02744872e-03 4.57501324e-03 3.61157302e-03 2.83405957e-03\n",
            "  7.04003610e-03 1.56038642e-02 2.19797731e-02 1.28524504e-02\n",
            "  1.52550348e-02 2.15789711e-02 6.87604308e-03 6.38496775e-03\n",
            "  5.08745659e-03 2.73283553e-03 9.94716910e-04 1.09578399e-03\n",
            "  1.07642737e-03 1.82852598e-03 1.05198287e-03 1.85392110e-03\n",
            "  2.67331367e-03 5.03078469e-03 1.01298863e-02 2.40313749e-03\n",
            "  9.40730829e-04 2.37039472e-03 2.13638140e-03 1.61108260e-03\n",
            "  4.81840879e-03 2.42484434e-03 1.65305439e-03 5.01150177e-03\n",
            "  1.27345581e-02 2.46947925e-02 5.46363946e-03 8.69545452e-03\n",
            "  3.59126089e-03 6.35277930e-03 7.14449666e-03 4.98409625e-03\n",
            "  2.11083336e-03 2.09031599e-03 3.02864530e-03 5.85947207e-04\n",
            "  1.26157341e-03 1.59605183e-03 1.47120603e-03 2.67679946e-03\n",
            "  6.19373451e-04 8.80286679e-04 1.53752621e-03 1.25046556e-03\n",
            "  1.23030044e-03 2.20345466e-03 5.97658929e-04 1.16210286e-03\n",
            "  1.09557708e-03 1.04117272e-03 1.31492770e-03 1.77406595e-03\n",
            "  3.56444904e-03 3.97428067e-03 2.37404404e-03 1.75752405e-03\n",
            "  1.10325483e-03 1.56836135e-03 1.13688377e-03 1.95885386e-03\n",
            "  9.37517931e-04 8.16323443e-04 1.70712118e-03 8.78259832e-04\n",
            "  9.71334980e-04 1.23300197e-03 8.89224739e-04 2.72080443e-04\n",
            "  3.41380292e-04 4.89539021e-04 9.37354335e-04 5.95288484e-04\n",
            "  7.49804748e-04 2.02952672e-03 1.67983037e-03 3.34298995e-03\n",
            "  5.58707745e-03 3.52851744e-03 5.93131966e-03 3.53803799e-03\n",
            "  3.92619622e-03 1.03565471e-03 5.38923645e-04 7.27407564e-05\n",
            "  8.88819215e-05 1.25930862e-04 9.41199839e-05 1.16521142e-04\n",
            "  1.27187927e-04 1.74882383e-04 2.72448381e-04 1.06845149e-03\n",
            "  1.23582775e-03 2.31975176e-03 5.64545382e-03 5.00465182e-03\n",
            "  1.14446196e-03 1.86223632e-03 3.98852847e-03 4.45593430e-03\n",
            "  1.13872140e-03 5.46264575e-04 4.01094898e-04 3.53067362e-04\n",
            "  3.28029607e-04 3.03186860e-04 2.73606270e-04 2.40538914e-04\n",
            "  2.06198770e-04 1.72393641e-04 1.40632738e-04 1.12207263e-04\n",
            "  8.80056034e-05 6.83502331e-05 5.30353193e-05 4.15147336e-05\n",
            "  3.31132347e-05 2.71811149e-05 2.31775782e-05 2.07015096e-05\n",
            "  1.94937163e-05 1.94279188e-05 2.04978854e-05 2.27970725e-05\n",
            "  2.64741498e-05 3.16356387e-05 3.81704760e-05 4.55196491e-05\n",
            "  5.25193939e-05 5.75346453e-05 5.90049232e-05 5.61913584e-05\n",
            "  4.96196333e-05 4.08521051e-05 3.17454887e-05 2.37259597e-05\n",
            "  1.74849972e-05 1.30979197e-05 1.03230163e-05 8.87224560e-06\n",
            "  8.58968747e-06 9.57492046e-06 1.22944701e-05 1.76169508e-05\n",
            "  2.66611739e-05 4.09760427e-05 6.55818170e-05 1.20372281e-04\n",
            "  2.65971589e-04 6.26720719e-04]] [[6.23014364e-04 5.59645630e-04 3.69298612e-04 2.09737900e-03\n",
            "  7.31975719e-04 2.76246688e-03 1.56055007e-03 1.01703125e-03\n",
            "  1.51012381e-03 2.08690366e-03 3.00644065e-03 6.82901539e-03\n",
            "  4.88810729e-03 6.57820179e-03 4.38003122e-03 5.92040788e-03\n",
            "  9.21512725e-03 1.94958742e-02 1.06597767e-02 9.89155040e-03\n",
            "  1.07188995e-02 2.43018134e-03 3.98528950e-03 2.97336246e-03\n",
            "  1.32463489e-03 1.67330880e-03 1.28137295e-03 8.87815732e-04\n",
            "  7.59805901e-04 1.10464415e-03 6.24400522e-04 5.03140285e-04\n",
            "  8.83584448e-04 1.16167844e-03 1.42010037e-03 3.77634063e-03\n",
            "  1.76603293e-02 1.51620350e-02 3.01065970e-02 1.93481836e-02\n",
            "  4.62133209e-02 1.90815596e-02 5.75619210e-03 1.88351140e-03\n",
            "  1.23095319e-03 3.13477272e-03 1.63399613e-03 3.09597859e-03\n",
            "  3.78651180e-03 5.85119726e-03 3.63712708e-03 2.32141064e-03\n",
            "  6.48593871e-03 6.51264848e-03 2.68118582e-03 7.07868514e-03\n",
            "  4.65713934e-03 2.12342864e-03 2.69449341e-03 1.11742412e-03\n",
            "  2.66976143e-03 5.23937529e-03 2.96194870e-03 2.40587866e-03\n",
            "  1.67660662e-03 9.07698837e-04 3.63857210e-03 4.47833174e-03\n",
            "  1.95626944e-02 2.71972296e-02 9.12025039e-02 3.04758377e-02\n",
            "  2.64685777e-02 4.11385912e-02 3.06576452e-02 4.40460675e-02\n",
            "  1.62019702e-02 1.27644476e-02 5.18068070e-03 6.25319897e-03\n",
            "  2.18942669e-03 1.66943379e-03 5.81578743e-04 4.91561286e-04\n",
            "  2.87226236e-04 5.28746837e-04 5.63133325e-04 3.69153691e-04\n",
            "  2.05000890e-03 1.69964606e-03 2.79714646e-03 9.37689461e-04\n",
            "  9.89263118e-04 1.85387243e-03 2.98751259e-03 4.65502360e-03\n",
            "  4.80965100e-03 2.86513662e-03 8.03484485e-03 4.72689208e-03\n",
            "  6.35899757e-03 6.86733297e-03 5.97520434e-03 6.69876985e-03\n",
            "  9.98059170e-03 1.79878772e-02 1.34588936e-02 3.79581798e-03\n",
            "  2.20200541e-03 2.04827901e-03 1.18005313e-03 5.86086181e-04\n",
            "  1.32733151e-03 1.12941512e-03 3.67149001e-03 5.66495474e-03\n",
            "  1.73415612e-03 1.39984365e-03 1.61335759e-03 6.08088581e-04\n",
            "  1.82880380e-03 2.66426250e-03 3.35053835e-03 2.49293622e-03\n",
            "  2.50262768e-03 9.66414204e-03 4.97942071e-03 1.53209743e-02\n",
            "  8.29944472e-03 5.03754001e-03 2.64309956e-03 4.48620713e-03\n",
            "  3.82313168e-03 1.58996360e-03 5.73148884e-03 2.88710704e-03\n",
            "  1.42678353e-03 3.92242101e-03 1.15481405e-03 3.26729987e-03\n",
            "  1.70874458e-03 6.79355765e-04 1.12864630e-03 1.24039240e-03\n",
            "  3.20784735e-04 7.98960640e-04 2.41216774e-04 3.90669967e-04\n",
            "  5.76679600e-04 4.70418394e-04 1.40554317e-03 9.12376261e-04\n",
            "  7.98870827e-04 1.30555975e-03 1.36171521e-03 1.66792261e-03\n",
            "  7.22060151e-04 1.96789983e-03 1.12988658e-03 6.60805192e-04\n",
            "  9.72418987e-04 5.02778967e-04 5.92062917e-04 1.32014855e-03\n",
            "  9.49920837e-04 6.14201838e-04 5.56952670e-04 2.48840723e-04\n",
            "  4.51433589e-04 1.75178046e-04 1.62197085e-04 1.87842079e-04\n",
            "  1.02274919e-04 1.95637744e-04 2.57738460e-04 1.59985262e-04\n",
            "  2.74414933e-04 1.81455373e-04 1.10165307e-03 5.41003869e-04\n",
            "  1.94270434e-03 6.23434611e-04 8.27502427e-04 2.80338797e-04\n",
            "  2.76852800e-04 3.53981351e-04 2.68116599e-04 8.48338007e-05\n",
            "  1.00367700e-04 1.25572967e-04 6.06276185e-05 1.58735871e-04\n",
            "  3.46805540e-04 1.84646804e-04 4.92400584e-04 1.58285768e-03\n",
            "  3.10517419e-03 2.93961505e-03 2.74857840e-03 2.31837009e-03\n",
            "  1.42414636e-03 1.15798579e-03 9.54816847e-04 8.01402748e-04\n",
            "  6.73011980e-04 5.51149185e-04 4.33913640e-04 3.29038077e-04\n",
            "  2.43353854e-04 1.78167845e-04 1.30603556e-04 9.64317284e-05\n",
            "  7.18251345e-05 5.39075435e-05 4.06927587e-05 3.08505176e-05\n",
            "  2.34856558e-05 1.79788778e-05 1.38853555e-05 1.08745667e-05\n",
            "  8.69585142e-06 7.15865892e-06 6.12068608e-06 5.48003894e-06\n",
            "  5.16919305e-06 5.14912802e-06 5.40173644e-06 5.91777777e-06\n",
            "  6.67736734e-06 7.62258024e-06 8.62954190e-06 9.49863873e-06\n",
            "  9.98614706e-06 9.88432328e-06 9.11897733e-06 7.80253891e-06\n",
            "  6.19681783e-06 4.60278479e-06 3.24777609e-06 2.23288159e-06\n",
            "  1.55030780e-06 1.13673379e-06 9.24806081e-07 8.76855374e-07\n",
            "  1.00777266e-06 1.44351084e-06 2.72538374e-06 7.50639846e-06\n",
            "  3.20256096e-05 1.98300795e-04]]\n",
            "[[0. 0. 0. 0. 0. 0. 0. 0. 0. 0. 0. 0. 0. 0. 0. 0. 0. 0. 0. 0. 0. 0. 0. 0.\n",
            "  0. 0. 0. 0. 0. 0. 0. 0. 0. 0. 0. 0. 0. 0. 0. 0. 0. 0. 0. 0. 0. 0. 0. 0.\n",
            "  0. 0. 0. 0. 0. 0. 0. 0. 0. 0. 0. 0. 0. 0. 0. 0. 0. 0. 0. 0. 0. 0. 1. 0.\n",
            "  0. 0. 0. 0. 0. 0. 0. 0. 0. 0. 0. 0. 0. 0. 0. 0. 0. 0. 0. 0. 0. 0. 0. 0.\n",
            "  0. 0. 0. 0. 0. 0. 0. 0. 0. 0. 0. 0. 0. 0. 0. 0. 0. 0. 0. 0. 0. 0. 0. 0.\n",
            "  0. 0. 0. 0. 0. 0. 0. 0. 0. 0. 0. 0. 0. 0. 0. 0. 0. 0. 0. 0. 0. 0. 0. 0.\n",
            "  0. 0. 0. 0. 0. 0. 0. 0. 0. 0. 0. 0. 0. 0. 0. 0. 0. 0. 0. 0. 0. 0. 0. 0.\n",
            "  0. 0. 0. 0. 0. 0. 0. 0. 0. 0. 0. 0. 0. 0. 0. 0. 0. 0. 0. 0. 0. 0. 0. 0.\n",
            "  0. 0. 0. 0. 0. 0. 0. 0. 0. 0. 0. 0. 0. 0. 0. 0. 0. 0. 0. 0. 0. 0. 0. 0.\n",
            "  0. 0. 0. 0. 0. 0. 0. 0. 0. 0. 0. 0. 0. 0. 0. 0. 0. 0. 0. 0. 0. 0. 0. 0.\n",
            "  0. 0. 0. 0. 0. 0. 0. 0. 0. 0.]] [[0. 0. 0. 0. 0. 0. 0. 0. 0. 0. 0. 0. 0. 0. 0. 0. 0. 0. 0. 0. 0. 0. 0. 0.\n",
            "  0. 0. 0. 0. 0. 0. 0. 0. 0. 0. 0. 0. 0. 0. 0. 0. 0. 0. 0. 0. 0. 0. 0. 0.\n",
            "  0. 0. 0. 0. 0. 0. 0. 0. 0. 0. 0. 0. 0. 0. 0. 0. 0. 0. 0. 0. 0. 0. 0. 1.\n",
            "  0. 0. 0. 0. 0. 0. 0. 0. 0. 0. 0. 0. 0. 0. 0. 0. 0. 0. 0. 0. 0. 0. 0. 0.\n",
            "  0. 0. 0. 0. 0. 0. 0. 0. 0. 0. 0. 0. 0. 0. 0. 0. 0. 0. 0. 0. 0. 0. 0. 0.\n",
            "  0. 0. 0. 0. 0. 0. 0. 0. 0. 0. 0. 0. 0. 0. 0. 0. 0. 0. 0. 0. 0. 0. 0. 0.\n",
            "  0. 0. 0. 0. 0. 0. 0. 0. 0. 0. 0. 0. 0. 0. 0. 0. 0. 0. 0. 0. 0. 0. 0. 0.\n",
            "  0. 0. 0. 0. 0. 0. 0. 0. 0. 0. 0. 0. 0. 0. 0. 0. 0. 0. 0. 0. 0. 0. 0. 0.\n",
            "  0. 0. 0. 0. 0. 0. 0. 0. 0. 0. 0. 0. 0. 0. 0. 0. 0. 0. 0. 0. 0. 0. 0. 0.\n",
            "  0. 0. 0. 0. 0. 0. 0. 0. 0. 0. 0. 0. 0. 0. 0. 0. 0. 0. 0. 0. 0. 0. 0. 0.\n",
            "  0. 0. 0. 0. 0. 0. 0. 0. 0. 0.]]\n"
          ],
          "name": "stdout"
        }
      ]
    }
  ]
}