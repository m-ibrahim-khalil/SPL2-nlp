{
  "nbformat": 4,
  "nbformat_minor": 0,
  "metadata": {
    "colab": {
      "name": "SPL2.ipynb",
      "provenance": [],
      "collapsed_sections": [],
      "authorship_tag": "ABX9TyNrQk8cgygPUb0u4CPiDZS2",
      "include_colab_link": true
    },
    "kernelspec": {
      "name": "python3",
      "display_name": "Python 3"
    },
    "accelerator": "GPU"
  },
  "cells": [
    {
      "cell_type": "markdown",
      "metadata": {
        "id": "view-in-github",
        "colab_type": "text"
      },
      "source": [
        "<a href=\"https://colab.research.google.com/github/bsse1009/SPL2-nlp/blob/master/full_model/SPL2.ipynb\" target=\"_parent\"><img src=\"https://colab.research.google.com/assets/colab-badge.svg\" alt=\"Open In Colab\"/></a>"
      ]
    },
    {
      "cell_type": "code",
      "metadata": {
        "colab": {
          "base_uri": "https://localhost:8080/"
        },
        "id": "GIZQNYP40Lrj",
        "outputId": "666afa7a-53dd-4a37-c395-84d764078fca"
      },
      "source": [
        "from google.colab import drive\r\n",
        "drive.mount('/content/drive')"
      ],
      "execution_count": 1,
      "outputs": [
        {
          "output_type": "stream",
          "text": [
            "Mounted at /content/drive\n"
          ],
          "name": "stdout"
        }
      ]
    },
    {
      "cell_type": "code",
      "metadata": {
        "id": "kJQWsu8d0rXv"
      },
      "source": [
        "import tensorflow as tf\r\n",
        "with tf.device('/device:GPU:0'):\r\n",
        "  !cp \"drive/My Drive/app/models/bidaf.py\" .\r\n",
        "  !cp \"drive/My Drive/app/data/magnitude/wiki-news-300d-1M.magnitude\" .\r\n",
        "  !cp \"drive/My Drive/app/data/magnitude/glove_medium_glove.6B.50d.magnitude.tmp\" .\r\n",
        "  !cp \"drive/My Drive/app/data/preproccess_squad/dev.answer\" .\r\n",
        "  !cp \"drive/My Drive/app/data/preproccess_squad/dev.context\" .\r\n",
        "  !cp \"drive/My Drive/app/data/preproccess_squad/dev.question\" .\r\n",
        "  !cp \"drive/My Drive/app/data/preproccess_squad/dev.span\" .\r\n",
        "  !cp \"drive/My Drive/app/data/preproccess_squad/train.answer\" .\r\n",
        "  !cp \"drive/My Drive/app/data/preproccess_squad/train.context\" .\r\n",
        "  !cp \"drive/My Drive/app/data/preproccess_squad/train.question\" .\r\n",
        "  !cp \"drive/My Drive/app/data/preproccess_squad/train.span\" .\r\n",
        "  !cp \"drive/My Drive/app/data/preproccess_squad/squad_preproccess.py\" .\r\n",
        "  !cp \"drive/My Drive/app/data/preproccess_squad/download_glove.py\" .\r\n",
        "  !cp \"drive/My Drive/app/layers/BiDAF.py\" .\r\n",
        "  !cp \"drive/My Drive/app/layers/Modelling.py\" .\r\n",
        "  !cp \"drive/My Drive/app/layers/contexual_embedding.py\" .\r\n",
        "  !cp \"drive/My Drive/app/layers/highway_layer.py\" .\r\n",
        "  !cp \"drive/My Drive/app/layers/output.py\" .\r\n",
        "  !cp \"drive/My Drive/app/scripts/magnitude.py\" .\r\n",
        "  !cp \"drive/My Drive/app/data/magnitude/glove-lemmatized.6B.100d.magnitude\" ."
      ],
      "execution_count": 2,
      "outputs": []
    },
    {
      "cell_type": "code",
      "metadata": {
        "colab": {
          "base_uri": "https://localhost:8080/"
        },
        "id": "8MOcfRyp0unn",
        "outputId": "d45084de-4730-4281-8d80-73b12824b8ac"
      },
      "source": [
        "!pip install --upgrade pip\r\n",
        "!pip install --upgrade wheel\r\n",
        "!pip install --upgrade build\r\n",
        "!pip install pymagnitude"
      ],
      "execution_count": 3,
      "outputs": [
        {
          "output_type": "stream",
          "text": [
            "Collecting pip\n",
            "\u001b[?25l  Downloading https://files.pythonhosted.org/packages/fe/ef/60d7ba03b5c442309ef42e7d69959f73aacccd0d86008362a681c4698e83/pip-21.0.1-py3-none-any.whl (1.5MB)\n",
            "\u001b[K     |████████████████████████████████| 1.5MB 9.5MB/s \n",
            "\u001b[?25hInstalling collected packages: pip\n",
            "  Found existing installation: pip 19.3.1\n",
            "    Uninstalling pip-19.3.1:\n",
            "      Successfully uninstalled pip-19.3.1\n",
            "Successfully installed pip-21.0.1\n",
            "Requirement already satisfied: wheel in /usr/local/lib/python3.6/dist-packages (0.36.2)\n",
            "Collecting build\n",
            "  Downloading build-0.2.1-py2.py3-none-any.whl (12 kB)\n",
            "Requirement already satisfied: importlib-metadata in /usr/local/lib/python3.6/dist-packages (from build) (3.4.0)\n",
            "Collecting pep517>=0.9\n",
            "  Downloading pep517-0.9.1-py2.py3-none-any.whl (18 kB)\n",
            "Requirement already satisfied: packaging in /usr/local/lib/python3.6/dist-packages (from build) (20.9)\n",
            "Requirement already satisfied: toml in /usr/local/lib/python3.6/dist-packages (from build) (0.10.2)\n",
            "Requirement already satisfied: zipp in /usr/local/lib/python3.6/dist-packages (from pep517>=0.9->build) (3.4.0)\n",
            "Requirement already satisfied: typing-extensions>=3.6.4 in /usr/local/lib/python3.6/dist-packages (from importlib-metadata->build) (3.7.4.3)\n",
            "Requirement already satisfied: pyparsing>=2.0.2 in /usr/local/lib/python3.6/dist-packages (from packaging->build) (2.4.7)\n",
            "Installing collected packages: pep517, build\n",
            "Successfully installed build-0.2.1 pep517-0.9.1\n",
            "Collecting pymagnitude\n",
            "  Downloading pymagnitude-0.1.143.tar.gz (5.4 MB)\n",
            "\u001b[K     |████████████████████████████████| 5.4 MB 7.9 MB/s \n",
            "\u001b[?25hBuilding wheels for collected packages: pymagnitude\n",
            "  Building wheel for pymagnitude (setup.py) ... \u001b[?25l\u001b[?25hdone\n",
            "  Created wheel for pymagnitude: filename=pymagnitude-0.1.143-cp36-cp36m-linux_x86_64.whl size=146075195 sha256=9aeb296de0d3fe6c47c8e1bc12bf0501d5f00d5871317033628250fc5db016a9\n",
            "  Stored in directory: /root/.cache/pip/wheels/23/f0/a9/b59223193b11411a03ec1234d6232f63626683af8dddeff46e\n",
            "Successfully built pymagnitude\n",
            "Installing collected packages: pymagnitude\n",
            "Successfully installed pymagnitude-0.1.143\n"
          ],
          "name": "stdout"
        }
      ]
    },
    {
      "cell_type": "code",
      "metadata": {
        "id": "Jmv2Iq-k1ANs"
      },
      "source": [
        "from tensorflow.keras.layers import Input, TimeDistributed, LSTM, Bidirectional, Concatenate, Lambda, Reshape, Add, Activation, Multiply, Dense\r\n",
        "from tensorflow.keras.models import Model, load_model\r\n",
        "import tensorflow.keras.backend as K\r\n",
        "import tensorflow.keras as keras\r\n",
        "import numpy as np\r\n",
        "from tqdm import tqdm\r\n",
        "from highway_layer import Highway\r\n",
        "from contexual_embedding import C2VecLayer\r\n",
        "import os\r\n",
        "from pymagnitude import Magnitude, MagnitudeUtils\r\n"
      ],
      "execution_count": 4,
      "outputs": []
    },
    {
      "cell_type": "code",
      "metadata": {
        "id": "0p1QlGvqEEzW"
      },
      "source": [
        "from keras.layers import Layer\r\n",
        "import tensorflow as tf\r\n",
        "from keras import backend as K\r\n",
        "from keras.layers.advanced_activations import Softmax\r\n",
        "\r\n",
        "class SimilarityMatrix(Layer):\r\n",
        "  def __init__(self, **kwargs):\r\n",
        "    super(SimilarityMatrix, self).__init__(**kwargs)\r\n",
        "  \r\n",
        "  def build(self, input_shape):\r\n",
        "    self.context_shape = input_shape[0]\r\n",
        "    self.question_shape = input_shape[1]\r\n",
        "\r\n",
        "    self.kernel = self.add_weight(name=\"kernel\",\r\n",
        "                                  shape=(3 * input_shape[0][2], 1),\r\n",
        "                                  initializer='uniform',\r\n",
        "                                  trainable=True)\r\n",
        "\r\n",
        "    super(SimilarityMatrix, self).build(input_shape)\r\n",
        "\r\n",
        "  def compute_similarity(self, repeated_context_vectors, repeated_query_vectors):\r\n",
        "\r\n",
        "    element_wise_multiply = repeated_context_vectors * repeated_query_vectors\r\n",
        "    concatenated_tensor = tf.concat(\r\n",
        "    [repeated_context_vectors, repeated_query_vectors, element_wise_multiply], axis=-1)\r\n",
        "    dot_product = K.squeeze(K.dot(concatenated_tensor, self.kernel), axis=-1)\r\n",
        "\r\n",
        "    return dot_product\r\n",
        "\r\n",
        "  def build_similarity_matrix(self, context, question):\r\n",
        "\r\n",
        "    num_context_words = K.shape(context)[1]\r\n",
        "    num_query_words = K.shape(question)[1]\r\n",
        "\r\n",
        "    context_dim_repeat = K.concatenate([[1, 1], [num_query_words], [1]], 0)\r\n",
        "    query_dim_repeat = K.concatenate([[1], [num_context_words], [1, 1]], 0)\r\n",
        "    repeated_context_vectors = K.tile(K.expand_dims(context, axis=2), context_dim_repeat)\r\n",
        "    repeated_query_vectors = K.tile(K.expand_dims(question, axis=1), query_dim_repeat)\r\n",
        "    similarity_matrix = self.compute_similarity(repeated_context_vectors, repeated_query_vectors)\r\n",
        "    # similarity_matrix = tf.reshape(similarity_matrix, [self.context_shape[0],self.context_shape[1],self.question_shape[1]])\r\n",
        "\r\n",
        "    return similarity_matrix\r\n",
        "\r\n",
        "  def call(self, x):\r\n",
        "    context, question = x\r\n",
        "    self.similarity_matrix = self.build_similarity_matrix(context, question)\r\n",
        "    return self.similarity_matrix\r\n",
        "  \r\n",
        "  def compute_output_shape(self, input_shape):\r\n",
        "    return (input_shape[0][0],input_shape[0][1],input_shape[1][1])"
      ],
      "execution_count": 5,
      "outputs": []
    },
    {
      "cell_type": "code",
      "metadata": {
        "id": "GP3-D3_YERn-"
      },
      "source": [
        "from keras.layers import Layer\r\n",
        "import tensorflow as tf\r\n",
        "from keras import backend as K\r\n",
        "from keras.layers.advanced_activations import Softmax\r\n",
        "\r\n",
        "class C2Q_Layer(Layer):\r\n",
        "  def __init__(self, **kwargs):\r\n",
        "    super(C2Q_Layer, self).__init__(**kwargs)\r\n",
        "\r\n",
        "  def build(self, input_shape):\r\n",
        "    super(C2Q_Layer, self).build(input_shape)\r\n",
        "\r\n",
        "  def call(self,x):\r\n",
        "    similarity_matrix, question=x\r\n",
        "    attention = tf.nn.softmax(similarity_matrix)\r\n",
        "\r\n",
        "    self.U_A=K.sum(K.dot(attention,question),-2)\r\n",
        "\r\n",
        "    return self.U_A\r\n",
        "\r\n",
        "  def compute_output_shape(self, input_shape):\r\n",
        "    return self.U_A.shape;"
      ],
      "execution_count": 6,
      "outputs": []
    },
    {
      "cell_type": "code",
      "metadata": {
        "id": "-6fMd07sETMi"
      },
      "source": [
        "from keras.layers import Layer\r\n",
        "import tensorflow as tf\r\n",
        "from keras import backend as K\r\n",
        "from keras.layers.advanced_activations import Softmax\r\n",
        "\r\n",
        "class Q2C_Layer(Layer):\r\n",
        "  def __init__(self, **kwargs):\r\n",
        "    super(Q2C_Layer, self).__init__(**kwargs)\r\n",
        "\r\n",
        "  def build(self, input_shape):\r\n",
        "    super(Q2C_Layer, self).build(input_shape)\r\n",
        "\r\n",
        "  def call(self,x):\r\n",
        "    similarity_matrix, context=x\r\n",
        "    attention = tf.nn.softmax(K.max(similarity_matrix,axis=-1))\r\n",
        "\r\n",
        "    temp=K.expand_dims(K.sum(K.dot(attention,context),-2),1)\r\n",
        "\r\n",
        "    H_A=K.tile(temp,[1,similarity_matrix.shape[1],1])\r\n",
        "\r\n",
        "    return H_A\r\n",
        "  \r\n",
        "  def compute_output_shape(self, input_shape):\r\n",
        "    return self.H_A.shape;"
      ],
      "execution_count": 7,
      "outputs": []
    },
    {
      "cell_type": "code",
      "metadata": {
        "id": "egh_3e8LEWuS"
      },
      "source": [
        "from keras.layers import Layer\r\n",
        "import tensorflow as tf\r\n",
        "from keras import backend as K\r\n",
        "from keras.layers.advanced_activations import Softmax\r\n",
        "\r\n",
        "class MegaMerge(Layer):\r\n",
        "  def __init__(self, **kwargs):\r\n",
        "    super(MegaMerge, self).__init__(**kwargs)\r\n",
        "\r\n",
        "  def build(self, input_shape):\r\n",
        "    super(MegaMerge, self).build(input_shape)\r\n",
        "\r\n",
        "  def call(self,x):\r\n",
        "    context,c2q,q2c=x\r\n",
        "    self.G=K.concatenate([context,c2q,context*c2q,context*q2c],axis=-1)\r\n",
        "\r\n",
        "    return self.G;\r\n",
        "\r\n",
        "  def compute_output_shape(self, input_shape):\r\n",
        "    return self.G.shape;"
      ],
      "execution_count": 8,
      "outputs": []
    },
    {
      "cell_type": "code",
      "metadata": {
        "id": "IYrYcVlQEsiz"
      },
      "source": [
        "from keras.layers import Layer,LSTM,Bidirectional\r\n",
        "import numpy as np\r\n",
        "import tensorflow as tf\r\n",
        "\r\n",
        "class ModellingLayer(Layer):\r\n",
        "    def __init__(self,**kwargs):\r\n",
        "        super(ModellingLayer, self).__init__(**kwargs)\r\n",
        "\r\n",
        "    def build(self, input_shape):\r\n",
        "        self.shape=input_shape\r\n",
        "  \r\n",
        "        self.lstm1 = Bidirectional(LSTM(int(input_shape[2]//8),\r\n",
        "                                   activation='sigmoid',\r\n",
        "                                   input_shape=(input_shape[1],input_shape[2]),\r\n",
        "                                   return_sequences=True, trainable=True))\r\n",
        "        self.lstm2 = Bidirectional(LSTM(int(input_shape[2]//8),\r\n",
        "                                   activation='sigmoid',\r\n",
        "                                   input_shape=(input_shape[1], int(input_shape[2]//4)),\r\n",
        "                                   return_sequences=True, trainable=True))\r\n",
        "        super(ModellingLayer, self).build(input_shape)\r\n",
        "\r\n",
        "    def call(self, x):\r\n",
        "        \r\n",
        "        self.M1=self.lstm1(x)\r\n",
        "        \r\n",
        "        self.M2=self.lstm2(self.M1)\r\n",
        "        \r\n",
        "        self.temp1=tf.concat([x, self.M1], -1)\r\n",
        "        self.temp2=tf.concat([x, self.M2], -1)\r\n",
        "        \r\n",
        "        return self.temp1,self.temp2\r\n",
        "\r\n",
        "    def compute_output_shape(self, input_shape):\r\n",
        "        return self.temp1.shape,self.temp2.shape"
      ],
      "execution_count": 9,
      "outputs": []
    },
    {
      "cell_type": "code",
      "metadata": {
        "id": "5tCb_vpQEtow"
      },
      "source": [
        "from keras.layers import Layer\r\n",
        "import tensorflow as tf\r\n",
        "from keras import backend as K\r\n",
        "\r\n",
        "class OutputLayer(Layer):\r\n",
        "    def __init__(self,**kwargs):\r\n",
        "        super(OutputLayer, self).__init__(**kwargs)\r\n",
        "\r\n",
        "    def build(self,input_shape):\r\n",
        "  \r\n",
        "        self.w1=self.add_weight(name=\"w1\",\r\n",
        "                                shape=(input_shape[0][2],),\r\n",
        "                                initializer='uniform',\r\n",
        "                                trainable=True)\r\n",
        "        self.w2=self.add_weight(name=\"w2\",\r\n",
        "                                shape=(input_shape[0][2],),\r\n",
        "                                initializer='uniform',\r\n",
        "                                trainable=True)\r\n",
        "\r\n",
        "        super(OutputLayer, self).build(input_shape)\r\n",
        "\r\n",
        "    def call(self, x):\r\n",
        "\r\n",
        "        answer_span1=tf.tensordot(x[0],tf.transpose(self.w1),1)\r\n",
        "        answer_span2=tf.tensordot(x[1], tf.transpose(self.w2), 1)\r\n",
        "        \r\n",
        "        self.p1=tf.nn.softmax(answer_span1)\r\n",
        "        self.p2=tf.nn.softmax(answer_span2)\r\n",
        "        \r\n",
        "        \r\n",
        "        return self.p1,self.p2\r\n",
        "\r\n",
        "    def compute_output_shape(self, input_shape):\r\n",
        "        return self.p1.shape,self.p2.shape\r\n"
      ],
      "execution_count": 10,
      "outputs": []
    },
    {
      "cell_type": "code",
      "metadata": {
        "id": "FWrKQs-h1-5-"
      },
      "source": [
        "class MagnitudeVectors:\r\n",
        "\r\n",
        "    def __init__(self):\r\n",
        "        # print(\"heloo\")\r\n",
        "        # base_dir = \"F://Pycharm Projects//bidaf-keras-master//data//magnitude\"\r\n",
        "        glove = Magnitude(\"glove-lemmatized.6B.100d.magnitude\")\r\n",
        "        fasttext = Magnitude(\"wiki-news-300d-1M.magnitude\")\r\n",
        "        self.vectors = Magnitude(glove,fasttext)\r\n",
        "\r\n",
        "    def load_vectors(self):\r\n",
        "        return self.vectors\r\n"
      ],
      "execution_count": 11,
      "outputs": []
    },
    {
      "cell_type": "code",
      "metadata": {
        "id": "CVUTxmAA2ChA"
      },
      "source": [
        "class BidirectionalAttentionFlow():\r\n",
        "\r\n",
        "    def __init__(self, em_dim, max_passage_length=None, max_query_length=None, num_highway_layers=1):\r\n",
        "        self.em_dim = em_dim\r\n",
        "        self.max_passage_length = max_passage_length\r\n",
        "        self.max_query_length = max_query_length\r\n",
        "        with tf.device('/device:GPU:0'):\r\n",
        "          passage_input = Input(shape=(self.max_passage_length, em_dim), dtype='float32', name=\"passage_input\")\r\n",
        "          question_input = Input(shape=(self.max_query_length, em_dim), dtype='float32', name=\"question_input\")\r\n",
        "          question_embedding = question_input\r\n",
        "          passage_embedding = passage_input\r\n",
        "\r\n",
        "          highway_layers = Highway(name='highway_layer')\r\n",
        "          question_embedding = highway_layers(question_embedding)\r\n",
        "          passage_embedding = highway_layers(passage_embedding)\r\n",
        "\r\n",
        "          encoder_layer1 = Bidirectional(LSTM(em_dim,\r\n",
        "                                            return_sequences=True), name='bidirectional_encoder')\r\n",
        "          encoded_question = encoder_layer1(question_embedding)\r\n",
        "          # encoder_layer2 = Bidirectional(LSTM(em_dim,\r\n",
        "          #                                   return_sequences=True), name='bidirectional_encoder1')\r\n",
        "          encoded_passage = encoder_layer1(passage_embedding)\r\n",
        "\r\n",
        "          sim=SimilarityMatrix(name=\"sm\")([encoded_passage, encoded_question])\r\n",
        "          c2q=C2Q_Layer(name=\"c2q\")([sim, encoded_question])\r\n",
        "          q2c=Q2C_Layer(name=\"q2c\")([sim, encoded_passage])\r\n",
        "          megamerge=MegaMerge(name=\"mega\")([encoded_passage, c2q, q2c])\r\n",
        "          t1, t2=ModellingLayer(name=\"modelling\")(megamerge)\r\n",
        "          p1, p2=OutputLayer(name=\"output\")([t1, t2])\r\n",
        "          \r\n",
        "          model = Model(inputs=[passage_input, question_input], outputs=[p1, p2])\r\n",
        "          model.summary()\r\n",
        "          model.compile(loss='categorical_crossentropy', optimizer='sgd', metrics=['accuracy'])\r\n",
        "          for i, w in enumerate(model.weights): print(i, w.name)\r\n",
        "          self.model = model\r\n",
        "\r\n",
        "    def load_bidaf(self, path):\r\n",
        "        custom_objects = {\r\n",
        "            \"Highway\": Highway,\r\n",
        "            \"BiAttentionLayer\": BiAttentionLayer,\r\n",
        "            \"ModellingLayer\": ModellingLayer,\r\n",
        "            \"OutputLayer\": OutputLayer\r\n",
        "        }\r\n",
        "\r\n",
        "        self. model = load_model(path,custom_objects = custom_objects)\r\n",
        "\r\n",
        "    def train_model(self, x1,x2, y1, y2, epochs=1):\r\n",
        "        with tf.device('/device:GPU:0'): \r\n",
        "          history = self.model.fit(x={\"passage_input\": x1, \"question_input\": x2}, y={\"output\": y1, \"output_1\": y2}, batch_size = 2, steps_per_epoch=1,\r\n",
        "                                  epochs=epochs, verbose = 2)\r\n",
        "          self.model.save('drive/My Drive/app/bidaf1009.h5')\r\n",
        "          return history, self.model\r\n"
      ],
      "execution_count": 13,
      "outputs": []
    },
    {
      "cell_type": "code",
      "metadata": {
        "colab": {
          "base_uri": "https://localhost:8080/"
        },
        "id": "QHzfPNEv4CxZ",
        "outputId": "4cc2e14b-0c11-4796-df35-cf0bb7dc6508"
      },
      "source": [
        "with tf.device('/device:GPU:0'):\r\n",
        "    bidef = BidirectionalAttentionFlow(400, 766, 60, 1)\r\n",
        "    context_data = []\r\n",
        "    question_data = []\r\n",
        "    output_data1 = []\r\n",
        "    output_data2 = []\r\n",
        "    i = 0\r\n",
        "    vectors = MagnitudeVectors().load_vectors()\r\n",
        "    with open(\"train.context\", 'r', encoding='utf8') as context_file, \\\r\n",
        "            open(\"train.question\", 'r', encoding='utf8') as question_file, \\\r\n",
        "            open(\"train.span\", 'r', encoding='utf8') as span_file:\r\n",
        "        \r\n",
        "        for context, question, span in zip(tqdm(context_file, total=1005), tqdm(question_file, total=1005),\r\n",
        "                                          tqdm(span_file, total=1005)):\r\n",
        "\r\n",
        "            context = [context]\r\n",
        "            question = [question]\r\n",
        "            passage = [pas.strip() for pas in context]\r\n",
        "            cont = []\r\n",
        "            for pas in passage:\r\n",
        "                context_tokens = pas.split(\" \")\r\n",
        "                cont.append(context_tokens)\r\n",
        "            original_passage = [pas.lower() for pas in passage]\r\n",
        "            quest = []\r\n",
        "            for ques in question:\r\n",
        "                question_tokens = ques.split(\" \")\r\n",
        "                quest.append(question_tokens)\r\n",
        "            context_batch = vectors.query(cont)\r\n",
        "            question_batch = vectors.query(quest)\r\n",
        "            pad1 = np.zeros(shape=(1, 766-len(cont[0]), 400))\r\n",
        "            context_batch = np.concatenate((context_batch,pad1),1)\r\n",
        "\r\n",
        "            pad2 = np.zeros(shape=(1, 60 - len(quest[0]), 400))\r\n",
        "            question_batch = np.concatenate((question_batch, pad2), 1)\r\n",
        "            answer_span = span.split()\r\n",
        "            output1 = np.zeros(shape=(1,766), dtype=float)\r\n",
        "            output2 = np.zeros(shape=(1,766), dtype=float)\r\n",
        "            output1[0][int(answer_span[0])] = 1\r\n",
        "            output2[0][int(answer_span[1])] = 1\r\n",
        "            context_batch = tf.convert_to_tensor(context_batch, tf.float32)\r\n",
        "            question_batch = tf.convert_to_tensor(question_batch, tf.float32)\r\n",
        "            output1 = tf.convert_to_tensor(output1, tf.float32)\r\n",
        "            output2 = tf.convert_to_tensor(output2, tf.float32)\r\n",
        "\r\n",
        "            context_data.append(context_batch)\r\n",
        "            question_data.append(question_batch)\r\n",
        "            output_data1.append(output1)\r\n",
        "            output_data2.append(output2)\r\n",
        "            # bidef.train_model(context_batch, question_batch, output, 5)\r\n",
        "            i = i+1\r\n",
        "            if i == 100:\r\n",
        "              break\r\n",
        "            print(i)\r\n",
        "\r\n",
        "    context_data = np.array(context_data)\r\n",
        "    context_data = np.reshape(context_data, (100,766,400))\r\n",
        "    question_data = np.array(question_data)\r\n",
        "    question_data = np.reshape(question_data, (100,60,400))\r\n",
        "    output_data1 = np.array(output_data1)\r\n",
        "    output_data1 = np.reshape(output_data1, (100,766))\r\n",
        "    output_data2 = np.array(output_data2)\r\n",
        "    output_data2 = np.reshape(output_data2, (100,766))\r\n",
        "    # bidef.load_bidaf('drive/My Drive/app/bidaf1009.h5')\r\n",
        "    bidef.train_model(context_data, question_data, output_data1, output_data2, 5)"
      ],
      "execution_count": 14,
      "outputs": [
        {
          "output_type": "stream",
          "text": [
            "Highway Layer input_shape and dim: (None, 60, 400) 400\n",
            "Highway layer input: Tensor(\"Cast:0\", shape=(None, 60, 400), dtype=float64)\n",
            "Highway dim: 400\n",
            "Highway layer input: Tensor(\"Cast:0\", shape=(None, 766, 400), dtype=float64)\n",
            "Highway dim: 400\n",
            "WARNING:tensorflow:Layer lstm will not use cuDNN kernel since it doesn't meet the cuDNN kernel criteria. It will use generic GPU kernel as fallback when running on GPU\n",
            "WARNING:tensorflow:Layer lstm will not use cuDNN kernel since it doesn't meet the cuDNN kernel criteria. It will use generic GPU kernel as fallback when running on GPU\n",
            "WARNING:tensorflow:Layer lstm will not use cuDNN kernel since it doesn't meet the cuDNN kernel criteria. It will use generic GPU kernel as fallback when running on GPU\n",
            "WARNING:tensorflow:Layer lstm_1 will not use cuDNN kernel since it doesn't meet the cuDNN kernel criteria. It will use generic GPU kernel as fallback when running on GPU\n",
            "WARNING:tensorflow:Layer lstm_1 will not use cuDNN kernel since it doesn't meet the cuDNN kernel criteria. It will use generic GPU kernel as fallback when running on GPU\n",
            "WARNING:tensorflow:Layer lstm_1 will not use cuDNN kernel since it doesn't meet the cuDNN kernel criteria. It will use generic GPU kernel as fallback when running on GPU\n"
          ],
          "name": "stdout"
        },
        {
          "output_type": "stream",
          "text": [
            "  0%|          | 0/1005 [00:00<?, ?it/s]\n",
            "  0%|          | 0/1005 [00:00<?, ?it/s]\u001b[A\n",
            "\n",
            "  0%|          | 0/1005 [00:00<?, ?it/s]\u001b[A\u001b[A"
          ],
          "name": "stderr"
        },
        {
          "output_type": "stream",
          "text": [
            "Model: \"model\"\n",
            "__________________________________________________________________________________________________\n",
            "Layer (type)                    Output Shape         Param #     Connected to                     \n",
            "==================================================================================================\n",
            "passage_input (InputLayer)      [(None, 766, 400)]   0                                            \n",
            "__________________________________________________________________________________________________\n",
            "question_input (InputLayer)     [(None, 60, 400)]    0                                            \n",
            "__________________________________________________________________________________________________\n",
            "highway_layer (Highway)         multiple             320800      question_input[0][0]             \n",
            "                                                                 passage_input[0][0]              \n",
            "__________________________________________________________________________________________________\n",
            "bidirectional_encoder (Bidirect multiple             2563200     highway_layer[0][0]              \n",
            "                                                                 highway_layer[1][0]              \n",
            "__________________________________________________________________________________________________\n",
            "sm (SimilarityMatrix)           (None, 766, 60)      2400        bidirectional_encoder[1][0]      \n",
            "                                                                 bidirectional_encoder[0][0]      \n",
            "__________________________________________________________________________________________________\n",
            "c2q (C2Q_Layer)                 (None, 766, 800)     0           sm[0][0]                         \n",
            "                                                                 bidirectional_encoder[0][0]      \n",
            "__________________________________________________________________________________________________\n",
            "q2c (Q2C_Layer)                 (None, 766, 800)     0           sm[0][0]                         \n",
            "                                                                 bidirectional_encoder[1][0]      \n",
            "__________________________________________________________________________________________________\n",
            "mega (MegaMerge)                (None, 766, 3200)    0           bidirectional_encoder[1][0]      \n",
            "                                                                 c2q[0][0]                        \n",
            "                                                                 q2c[0][0]                        \n",
            "__________________________________________________________________________________________________\n",
            "modelling (ModellingLayer)      ((None, 766, 4000),  15366400    mega[0][0]                       \n",
            "__________________________________________________________________________________________________\n",
            "output (OutputLayer)            ((None, 766), (None, 8000        modelling[0][0]                  \n",
            "                                                                 modelling[0][1]                  \n",
            "==================================================================================================\n",
            "Total params: 18,260,800\n",
            "Trainable params: 18,260,800\n",
            "Non-trainable params: 0\n",
            "__________________________________________________________________________________________________\n",
            "0 highway_layer/dense/kernel:0\n",
            "1 highway_layer/dense/bias:0\n",
            "2 highway_layer/dense_1/kernel:0\n",
            "3 highway_layer/dense_1/bias:0\n",
            "4 bidirectional_encoder/forward_lstm/lstm_cell_1/kernel:0\n",
            "5 bidirectional_encoder/forward_lstm/lstm_cell_1/recurrent_kernel:0\n",
            "6 bidirectional_encoder/forward_lstm/lstm_cell_1/bias:0\n",
            "7 bidirectional_encoder/backward_lstm/lstm_cell_2/kernel:0\n",
            "8 bidirectional_encoder/backward_lstm/lstm_cell_2/recurrent_kernel:0\n",
            "9 bidirectional_encoder/backward_lstm/lstm_cell_2/bias:0\n",
            "10 sm/kernel:0\n",
            "11 modelling/bidirectional/forward_lstm/lstm_cell_1/kernel:0\n",
            "12 modelling/bidirectional/forward_lstm/lstm_cell_1/recurrent_kernel:0\n",
            "13 modelling/bidirectional/forward_lstm/lstm_cell_1/bias:0\n",
            "14 modelling/bidirectional/backward_lstm/lstm_cell_2/kernel:0\n",
            "15 modelling/bidirectional/backward_lstm/lstm_cell_2/recurrent_kernel:0\n",
            "16 modelling/bidirectional/backward_lstm/lstm_cell_2/bias:0\n",
            "17 modelling/bidirectional_1/forward_lstm_1/lstm_cell_4/kernel:0\n",
            "18 modelling/bidirectional_1/forward_lstm_1/lstm_cell_4/recurrent_kernel:0\n",
            "19 modelling/bidirectional_1/forward_lstm_1/lstm_cell_4/bias:0\n",
            "20 modelling/bidirectional_1/backward_lstm_1/lstm_cell_5/kernel:0\n",
            "21 modelling/bidirectional_1/backward_lstm_1/lstm_cell_5/recurrent_kernel:0\n",
            "22 modelling/bidirectional_1/backward_lstm_1/lstm_cell_5/bias:0\n",
            "23 output/w1:0\n",
            "24 output/w2:0\n"
          ],
          "name": "stdout"
        },
        {
          "output_type": "stream",
          "text": [
            "  0%|          | 1/1005 [00:03<50:37,  3.03s/it]\n",
            "  0%|          | 1/1005 [00:03<50:35,  3.02s/it]\u001b[A\n",
            "\n",
            "  0%|          | 1/1005 [00:03<50:42,  3.03s/it]\u001b[A\u001b[A"
          ],
          "name": "stderr"
        },
        {
          "output_type": "stream",
          "text": [
            "1\n"
          ],
          "name": "stdout"
        },
        {
          "output_type": "stream",
          "text": [
            "  0%|          | 2/1005 [00:03<38:29,  2.30s/it]\n",
            "  0%|          | 2/1005 [00:03<38:27,  2.30s/it]\u001b[A\n",
            "\n",
            "  0%|          | 2/1005 [00:03<38:33,  2.31s/it]\u001b[A\u001b[A"
          ],
          "name": "stderr"
        },
        {
          "output_type": "stream",
          "text": [
            "2\n"
          ],
          "name": "stdout"
        },
        {
          "output_type": "stream",
          "text": [
            "  0%|          | 3/1005 [00:04<31:58,  1.91s/it]\n",
            "  0%|          | 3/1005 [00:04<31:57,  1.91s/it]\u001b[A\n",
            "\n",
            "  0%|          | 3/1005 [00:04<32:02,  1.92s/it]\u001b[A\u001b[A"
          ],
          "name": "stderr"
        },
        {
          "output_type": "stream",
          "text": [
            "3\n"
          ],
          "name": "stdout"
        },
        {
          "output_type": "stream",
          "text": [
            "  0%|          | 4/1005 [00:05<26:35,  1.59s/it]\n",
            "  0%|          | 4/1005 [00:05<26:34,  1.59s/it]\u001b[A\n",
            "\n",
            "  0%|          | 4/1005 [00:05<26:36,  1.60s/it]\u001b[A\u001b[A"
          ],
          "name": "stderr"
        },
        {
          "output_type": "stream",
          "text": [
            "4\n"
          ],
          "name": "stdout"
        },
        {
          "output_type": "stream",
          "text": [
            "  0%|          | 5/1005 [00:06<22:57,  1.38s/it]\n",
            "  0%|          | 5/1005 [00:06<22:56,  1.38s/it]\u001b[A\n",
            "\n",
            "  0%|          | 5/1005 [00:06<22:59,  1.38s/it]\u001b[A\u001b[A"
          ],
          "name": "stderr"
        },
        {
          "output_type": "stream",
          "text": [
            "5\n"
          ],
          "name": "stdout"
        },
        {
          "output_type": "stream",
          "text": [
            "  1%|          | 6/1005 [00:07<22:00,  1.32s/it]\n",
            "  1%|          | 6/1005 [00:07<21:59,  1.32s/it]\u001b[A\n",
            "\n",
            "  1%|          | 6/1005 [00:07<21:58,  1.32s/it]\u001b[A\u001b[A"
          ],
          "name": "stderr"
        },
        {
          "output_type": "stream",
          "text": [
            "6\n"
          ],
          "name": "stdout"
        },
        {
          "output_type": "stream",
          "text": [
            "  1%|          | 7/1005 [00:08<18:46,  1.13s/it]\n",
            "  1%|          | 7/1005 [00:08<18:47,  1.13s/it]\u001b[A\n",
            "\n",
            "  1%|          | 7/1005 [00:08<18:47,  1.13s/it]\u001b[A\u001b[A"
          ],
          "name": "stderr"
        },
        {
          "output_type": "stream",
          "text": [
            "7\n"
          ],
          "name": "stdout"
        },
        {
          "output_type": "stream",
          "text": [
            "  1%|          | 8/1005 [00:09<18:24,  1.11s/it]\n",
            "  1%|          | 8/1005 [00:09<18:25,  1.11s/it]\u001b[A\n",
            "\n",
            "  1%|          | 8/1005 [00:09<18:25,  1.11s/it]\u001b[A\u001b[A"
          ],
          "name": "stderr"
        },
        {
          "output_type": "stream",
          "text": [
            "8\n"
          ],
          "name": "stdout"
        },
        {
          "output_type": "stream",
          "text": [
            "  1%|          | 9/1005 [00:10<18:18,  1.10s/it]\n",
            "  1%|          | 9/1005 [00:10<18:19,  1.10s/it]\u001b[A\n",
            "\n",
            "  1%|          | 9/1005 [00:10<18:19,  1.10s/it]\u001b[A\u001b[A"
          ],
          "name": "stderr"
        },
        {
          "output_type": "stream",
          "text": [
            "9\n"
          ],
          "name": "stdout"
        },
        {
          "output_type": "stream",
          "text": [
            "  1%|          | 10/1005 [00:11<18:17,  1.10s/it]\n",
            "  1%|          | 10/1005 [00:11<18:18,  1.10s/it]\u001b[A\n",
            "\n",
            "  1%|          | 10/1005 [00:11<18:16,  1.10s/it]\u001b[A\u001b[A"
          ],
          "name": "stderr"
        },
        {
          "output_type": "stream",
          "text": [
            "10\n"
          ],
          "name": "stdout"
        },
        {
          "output_type": "stream",
          "text": [
            "  1%|          | 11/1005 [00:12<16:48,  1.01s/it]\n",
            "  1%|          | 11/1005 [00:12<16:48,  1.01s/it]\u001b[A\n",
            "\n",
            "  1%|          | 11/1005 [00:12<16:48,  1.01s/it]\u001b[A\u001b[A"
          ],
          "name": "stderr"
        },
        {
          "output_type": "stream",
          "text": [
            "11\n"
          ],
          "name": "stdout"
        },
        {
          "output_type": "stream",
          "text": [
            "  1%|          | 12/1005 [00:13<16:45,  1.01s/it]\n",
            "  1%|          | 12/1005 [00:13<16:44,  1.01s/it]\u001b[A\n",
            "\n",
            "  1%|          | 12/1005 [00:13<16:43,  1.01s/it]\u001b[A\u001b[A"
          ],
          "name": "stderr"
        },
        {
          "output_type": "stream",
          "text": [
            "12\n"
          ],
          "name": "stdout"
        },
        {
          "output_type": "stream",
          "text": [
            "  1%|▏         | 13/1005 [00:16<25:29,  1.54s/it]\n",
            "  1%|▏         | 13/1005 [00:16<25:28,  1.54s/it]\u001b[A\n",
            "\n",
            "  1%|▏         | 13/1005 [00:16<25:29,  1.54s/it]\u001b[A\u001b[A"
          ],
          "name": "stderr"
        },
        {
          "output_type": "stream",
          "text": [
            "13\n"
          ],
          "name": "stdout"
        },
        {
          "output_type": "stream",
          "text": [
            "  1%|▏         | 14/1005 [00:16<22:10,  1.34s/it]\n",
            "  1%|▏         | 14/1005 [00:16<22:10,  1.34s/it]\u001b[A\n",
            "\n",
            "  1%|▏         | 14/1005 [00:16<22:11,  1.34s/it]\u001b[A\u001b[A"
          ],
          "name": "stderr"
        },
        {
          "output_type": "stream",
          "text": [
            "14\n"
          ],
          "name": "stdout"
        },
        {
          "output_type": "stream",
          "text": [
            "  1%|▏         | 15/1005 [00:18<21:54,  1.33s/it]\n",
            "  1%|▏         | 15/1005 [00:18<21:55,  1.33s/it]\u001b[A\n",
            "\n",
            "  1%|▏         | 15/1005 [00:18<21:54,  1.33s/it]\u001b[A\u001b[A"
          ],
          "name": "stderr"
        },
        {
          "output_type": "stream",
          "text": [
            "15\n"
          ],
          "name": "stdout"
        },
        {
          "output_type": "stream",
          "text": [
            "  2%|▏         | 16/1005 [00:18<16:50,  1.02s/it]\n",
            "  2%|▏         | 16/1005 [00:18<16:50,  1.02s/it]\u001b[A\n",
            "\n",
            "  2%|▏         | 16/1005 [00:18<16:50,  1.02s/it]\u001b[A\u001b[A"
          ],
          "name": "stderr"
        },
        {
          "output_type": "stream",
          "text": [
            "16\n"
          ],
          "name": "stdout"
        },
        {
          "output_type": "stream",
          "text": [
            "  2%|▏         | 17/1005 [00:19<17:42,  1.08s/it]\n",
            "  2%|▏         | 17/1005 [00:19<17:42,  1.08s/it]\u001b[A\n",
            "\n",
            "  2%|▏         | 17/1005 [00:19<17:42,  1.08s/it]\u001b[A\u001b[A"
          ],
          "name": "stderr"
        },
        {
          "output_type": "stream",
          "text": [
            "17\n"
          ],
          "name": "stdout"
        },
        {
          "output_type": "stream",
          "text": [
            "  2%|▏         | 18/1005 [00:20<17:24,  1.06s/it]\n",
            "  2%|▏         | 18/1005 [00:20<17:23,  1.06s/it]\u001b[A\n",
            "\n",
            "  2%|▏         | 18/1005 [00:20<17:24,  1.06s/it]\u001b[A\u001b[A"
          ],
          "name": "stderr"
        },
        {
          "output_type": "stream",
          "text": [
            "18\n"
          ],
          "name": "stdout"
        },
        {
          "output_type": "stream",
          "text": [
            "  2%|▏         | 19/1005 [00:21<16:46,  1.02s/it]\n",
            "  2%|▏         | 19/1005 [00:21<16:47,  1.02s/it]\u001b[A\n",
            "\n",
            "  2%|▏         | 19/1005 [00:21<16:47,  1.02s/it]\u001b[A\u001b[A"
          ],
          "name": "stderr"
        },
        {
          "output_type": "stream",
          "text": [
            "19\n"
          ],
          "name": "stdout"
        },
        {
          "output_type": "stream",
          "text": [
            "  2%|▏         | 20/1005 [00:22<17:29,  1.07s/it]\n",
            "  2%|▏         | 20/1005 [00:22<17:27,  1.06s/it]\u001b[A\n",
            "\n",
            "  2%|▏         | 20/1005 [00:22<17:28,  1.06s/it]\u001b[A\u001b[A"
          ],
          "name": "stderr"
        },
        {
          "output_type": "stream",
          "text": [
            "20\n"
          ],
          "name": "stdout"
        },
        {
          "output_type": "stream",
          "text": [
            "  2%|▏         | 21/1005 [00:23<14:44,  1.11it/s]\n",
            "  2%|▏         | 21/1005 [00:23<14:44,  1.11it/s]\u001b[A\n",
            "\n",
            "  2%|▏         | 21/1005 [00:23<14:46,  1.11it/s]\u001b[A\u001b[A"
          ],
          "name": "stderr"
        },
        {
          "output_type": "stream",
          "text": [
            "21\n"
          ],
          "name": "stdout"
        },
        {
          "output_type": "stream",
          "text": [
            "  2%|▏         | 22/1005 [00:24<13:45,  1.19it/s]\n",
            "  2%|▏         | 22/1005 [00:24<13:45,  1.19it/s]\u001b[A\n",
            "\n",
            "  2%|▏         | 22/1005 [00:24<13:46,  1.19it/s]\u001b[A\u001b[A"
          ],
          "name": "stderr"
        },
        {
          "output_type": "stream",
          "text": [
            "22\n"
          ],
          "name": "stdout"
        },
        {
          "output_type": "stream",
          "text": [
            "  2%|▏         | 23/1005 [00:26<20:44,  1.27s/it]\n",
            "  2%|▏         | 23/1005 [00:26<20:44,  1.27s/it]\u001b[A\n",
            "\n",
            "  2%|▏         | 23/1005 [00:26<20:45,  1.27s/it]\u001b[A\u001b[A"
          ],
          "name": "stderr"
        },
        {
          "output_type": "stream",
          "text": [
            "23\n"
          ],
          "name": "stdout"
        },
        {
          "output_type": "stream",
          "text": [
            "  2%|▏         | 24/1005 [00:27<18:18,  1.12s/it]\n",
            "  2%|▏         | 24/1005 [00:27<18:19,  1.12s/it]\u001b[A\n",
            "\n",
            "  2%|▏         | 24/1005 [00:27<18:19,  1.12s/it]\u001b[A\u001b[A"
          ],
          "name": "stderr"
        },
        {
          "output_type": "stream",
          "text": [
            "24\n"
          ],
          "name": "stdout"
        },
        {
          "output_type": "stream",
          "text": [
            "  2%|▏         | 25/1005 [00:27<14:59,  1.09it/s]\n",
            "  2%|▏         | 25/1005 [00:27<14:58,  1.09it/s]\u001b[A\n",
            "\n",
            "  2%|▏         | 25/1005 [00:27<14:58,  1.09it/s]\u001b[A\u001b[A"
          ],
          "name": "stderr"
        },
        {
          "output_type": "stream",
          "text": [
            "25\n"
          ],
          "name": "stdout"
        },
        {
          "output_type": "stream",
          "text": [
            "  3%|▎         | 26/1005 [00:28<13:48,  1.18it/s]\n",
            "  3%|▎         | 26/1005 [00:28<13:47,  1.18it/s]\u001b[A\n",
            "\n",
            "  3%|▎         | 26/1005 [00:28<13:48,  1.18it/s]\u001b[A\u001b[A"
          ],
          "name": "stderr"
        },
        {
          "output_type": "stream",
          "text": [
            "26\n"
          ],
          "name": "stdout"
        },
        {
          "output_type": "stream",
          "text": [
            "  3%|▎         | 27/1005 [00:29<14:26,  1.13it/s]\n",
            "  3%|▎         | 27/1005 [00:29<14:26,  1.13it/s]\u001b[A\n",
            "\n",
            "  3%|▎         | 27/1005 [00:29<14:27,  1.13it/s]\u001b[A\u001b[A"
          ],
          "name": "stderr"
        },
        {
          "output_type": "stream",
          "text": [
            "27\n"
          ],
          "name": "stdout"
        },
        {
          "output_type": "stream",
          "text": [
            "  3%|▎         | 28/1005 [00:29<13:34,  1.20it/s]\n",
            "  3%|▎         | 28/1005 [00:29<13:33,  1.20it/s]\u001b[A\n",
            "\n",
            "  3%|▎         | 28/1005 [00:29<13:32,  1.20it/s]\u001b[A\u001b[A"
          ],
          "name": "stderr"
        },
        {
          "output_type": "stream",
          "text": [
            "28\n"
          ],
          "name": "stdout"
        },
        {
          "output_type": "stream",
          "text": [
            "  3%|▎         | 29/1005 [00:30<12:12,  1.33it/s]\n",
            "  3%|▎         | 29/1005 [00:30<12:12,  1.33it/s]\u001b[A\n",
            "\n",
            "  3%|▎         | 29/1005 [00:30<12:11,  1.33it/s]\u001b[A\u001b[A"
          ],
          "name": "stderr"
        },
        {
          "output_type": "stream",
          "text": [
            "29\n"
          ],
          "name": "stdout"
        },
        {
          "output_type": "stream",
          "text": [
            "  3%|▎         | 30/1005 [00:31<14:28,  1.12it/s]\n",
            "  3%|▎         | 30/1005 [00:31<14:28,  1.12it/s]\u001b[A\n",
            "\n",
            "  3%|▎         | 30/1005 [00:31<14:29,  1.12it/s]\u001b[A\u001b[A"
          ],
          "name": "stderr"
        },
        {
          "output_type": "stream",
          "text": [
            "30\n"
          ],
          "name": "stdout"
        },
        {
          "output_type": "stream",
          "text": [
            "  3%|▎         | 31/1005 [00:32<14:48,  1.10it/s]\n",
            "  3%|▎         | 31/1005 [00:32<14:48,  1.10it/s]\u001b[A\n",
            "\n",
            "  3%|▎         | 31/1005 [00:32<14:49,  1.10it/s]\u001b[A\u001b[A"
          ],
          "name": "stderr"
        },
        {
          "output_type": "stream",
          "text": [
            "31\n"
          ],
          "name": "stdout"
        },
        {
          "output_type": "stream",
          "text": [
            "  3%|▎         | 32/1005 [00:33<14:25,  1.12it/s]\n",
            "  3%|▎         | 32/1005 [00:33<14:25,  1.12it/s]\u001b[A\n",
            "\n",
            "  3%|▎         | 32/1005 [00:33<14:25,  1.12it/s]\u001b[A\u001b[A"
          ],
          "name": "stderr"
        },
        {
          "output_type": "stream",
          "text": [
            "32\n"
          ],
          "name": "stdout"
        },
        {
          "output_type": "stream",
          "text": [
            "  3%|▎         | 33/1005 [00:34<13:42,  1.18it/s]\n",
            "  3%|▎         | 33/1005 [00:34<13:42,  1.18it/s]\u001b[A\n",
            "\n",
            "  3%|▎         | 33/1005 [00:34<13:44,  1.18it/s]\u001b[A\u001b[A"
          ],
          "name": "stderr"
        },
        {
          "output_type": "stream",
          "text": [
            "33\n"
          ],
          "name": "stdout"
        },
        {
          "output_type": "stream",
          "text": [
            "  3%|▎         | 34/1005 [00:35<14:20,  1.13it/s]\n",
            "  3%|▎         | 34/1005 [00:35<14:21,  1.13it/s]\u001b[A\n",
            "\n",
            "  3%|▎         | 34/1005 [00:35<14:20,  1.13it/s]\u001b[A\u001b[A"
          ],
          "name": "stderr"
        },
        {
          "output_type": "stream",
          "text": [
            "34\n"
          ],
          "name": "stdout"
        },
        {
          "output_type": "stream",
          "text": [
            "  3%|▎         | 35/1005 [00:36<13:55,  1.16it/s]\n",
            "  3%|▎         | 35/1005 [00:36<13:55,  1.16it/s]\u001b[A\n",
            "\n",
            "  3%|▎         | 35/1005 [00:36<13:55,  1.16it/s]\u001b[A\u001b[A"
          ],
          "name": "stderr"
        },
        {
          "output_type": "stream",
          "text": [
            "35\n"
          ],
          "name": "stdout"
        },
        {
          "output_type": "stream",
          "text": [
            "  4%|▎         | 36/1005 [00:36<13:24,  1.21it/s]\n",
            "  4%|▎         | 36/1005 [00:36<13:23,  1.21it/s]\u001b[A\n",
            "\n",
            "  4%|▎         | 36/1005 [00:36<13:23,  1.21it/s]\u001b[A\u001b[A"
          ],
          "name": "stderr"
        },
        {
          "output_type": "stream",
          "text": [
            "36\n"
          ],
          "name": "stdout"
        },
        {
          "output_type": "stream",
          "text": [
            "  4%|▎         | 37/1005 [00:38<16:25,  1.02s/it]\n",
            "  4%|▎         | 37/1005 [00:38<16:25,  1.02s/it]\u001b[A\n",
            "\n",
            "  4%|▎         | 37/1005 [00:38<16:24,  1.02s/it]\u001b[A\u001b[A"
          ],
          "name": "stderr"
        },
        {
          "output_type": "stream",
          "text": [
            "37\n"
          ],
          "name": "stdout"
        },
        {
          "output_type": "stream",
          "text": [
            "  4%|▍         | 38/1005 [00:38<14:42,  1.10it/s]\n",
            "  4%|▍         | 38/1005 [00:38<14:42,  1.10it/s]\u001b[A\n",
            "\n",
            "  4%|▍         | 38/1005 [00:38<14:41,  1.10it/s]\u001b[A\u001b[A"
          ],
          "name": "stderr"
        },
        {
          "output_type": "stream",
          "text": [
            "38\n"
          ],
          "name": "stdout"
        },
        {
          "output_type": "stream",
          "text": [
            "  4%|▍         | 39/1005 [00:40<16:11,  1.01s/it]\n",
            "  4%|▍         | 39/1005 [00:40<16:11,  1.01s/it]\u001b[A\n",
            "\n",
            "  4%|▍         | 39/1005 [00:40<16:11,  1.01s/it]\u001b[A\u001b[A"
          ],
          "name": "stderr"
        },
        {
          "output_type": "stream",
          "text": [
            "39\n"
          ],
          "name": "stdout"
        },
        {
          "output_type": "stream",
          "text": [
            "  4%|▍         | 40/1005 [00:40<14:09,  1.14it/s]\n",
            "  4%|▍         | 40/1005 [00:40<14:09,  1.14it/s]\u001b[A\n",
            "\n",
            "  4%|▍         | 40/1005 [00:40<14:08,  1.14it/s]\u001b[A\u001b[A"
          ],
          "name": "stderr"
        },
        {
          "output_type": "stream",
          "text": [
            "40\n"
          ],
          "name": "stdout"
        },
        {
          "output_type": "stream",
          "text": [
            "  4%|▍         | 41/1005 [00:43<24:52,  1.55s/it]\n",
            "  4%|▍         | 41/1005 [00:43<24:54,  1.55s/it]\u001b[A\n",
            "\n",
            "  4%|▍         | 41/1005 [00:43<24:54,  1.55s/it]\u001b[A\u001b[A"
          ],
          "name": "stderr"
        },
        {
          "output_type": "stream",
          "text": [
            "41\n"
          ],
          "name": "stdout"
        },
        {
          "output_type": "stream",
          "text": [
            "  4%|▍         | 42/1005 [00:44<22:32,  1.40s/it]\n",
            "  4%|▍         | 42/1005 [00:44<22:33,  1.41s/it]\u001b[A\n",
            "\n",
            "  4%|▍         | 42/1005 [00:44<22:33,  1.41s/it]\u001b[A\u001b[A"
          ],
          "name": "stderr"
        },
        {
          "output_type": "stream",
          "text": [
            "42\n"
          ],
          "name": "stdout"
        },
        {
          "output_type": "stream",
          "text": [
            "  4%|▍         | 43/1005 [00:45<19:11,  1.20s/it]\n",
            "  4%|▍         | 43/1005 [00:45<19:12,  1.20s/it]\u001b[A\n",
            "\n",
            "  4%|▍         | 43/1005 [00:45<19:14,  1.20s/it]\u001b[A\u001b[A"
          ],
          "name": "stderr"
        },
        {
          "output_type": "stream",
          "text": [
            "43\n"
          ],
          "name": "stdout"
        },
        {
          "output_type": "stream",
          "text": [
            "  4%|▍         | 44/1005 [00:46<17:32,  1.10s/it]\n",
            "  4%|▍         | 44/1005 [00:46<17:33,  1.10s/it]\u001b[A\n",
            "\n",
            "  4%|▍         | 44/1005 [00:46<17:32,  1.10s/it]\u001b[A\u001b[A"
          ],
          "name": "stderr"
        },
        {
          "output_type": "stream",
          "text": [
            "44\n"
          ],
          "name": "stdout"
        },
        {
          "output_type": "stream",
          "text": [
            "  4%|▍         | 45/1005 [00:47<15:04,  1.06it/s]\n",
            "  4%|▍         | 45/1005 [00:47<15:05,  1.06it/s]\u001b[A\n",
            "\n",
            "  4%|▍         | 45/1005 [00:47<15:05,  1.06it/s]\u001b[A\u001b[A"
          ],
          "name": "stderr"
        },
        {
          "output_type": "stream",
          "text": [
            "45\n"
          ],
          "name": "stdout"
        },
        {
          "output_type": "stream",
          "text": [
            "  5%|▍         | 46/1005 [00:48<15:44,  1.02it/s]\n",
            "  5%|▍         | 46/1005 [00:48<15:44,  1.02it/s]\u001b[A\n",
            "\n",
            "  5%|▍         | 46/1005 [00:48<15:43,  1.02it/s]\u001b[A\u001b[A"
          ],
          "name": "stderr"
        },
        {
          "output_type": "stream",
          "text": [
            "46\n"
          ],
          "name": "stdout"
        },
        {
          "output_type": "stream",
          "text": [
            "  5%|▍         | 47/1005 [00:49<15:31,  1.03it/s]\n",
            "  5%|▍         | 47/1005 [00:49<15:30,  1.03it/s]\u001b[A\n",
            "\n",
            "  5%|▍         | 47/1005 [00:49<15:30,  1.03it/s]\u001b[A\u001b[A"
          ],
          "name": "stderr"
        },
        {
          "output_type": "stream",
          "text": [
            "47\n"
          ],
          "name": "stdout"
        },
        {
          "output_type": "stream",
          "text": [
            "  5%|▍         | 48/1005 [00:49<14:06,  1.13it/s]\n",
            "  5%|▍         | 48/1005 [00:49<14:05,  1.13it/s]\u001b[A\n",
            "\n",
            "  5%|▍         | 48/1005 [00:49<14:06,  1.13it/s]\u001b[A\u001b[A"
          ],
          "name": "stderr"
        },
        {
          "output_type": "stream",
          "text": [
            "48\n"
          ],
          "name": "stdout"
        },
        {
          "output_type": "stream",
          "text": [
            "  5%|▍         | 49/1005 [00:50<11:44,  1.36it/s]\n",
            "  5%|▍         | 49/1005 [00:50<11:45,  1.35it/s]\u001b[A\n",
            "\n",
            "  5%|▍         | 49/1005 [00:50<11:44,  1.36it/s]\u001b[A\u001b[A"
          ],
          "name": "stderr"
        },
        {
          "output_type": "stream",
          "text": [
            "49\n"
          ],
          "name": "stdout"
        },
        {
          "output_type": "stream",
          "text": [
            "  5%|▍         | 50/1005 [00:50<11:22,  1.40it/s]\n",
            "  5%|▍         | 50/1005 [00:50<11:21,  1.40it/s]\u001b[A\n",
            "\n",
            "  5%|▍         | 50/1005 [00:50<11:21,  1.40it/s]\u001b[A\u001b[A"
          ],
          "name": "stderr"
        },
        {
          "output_type": "stream",
          "text": [
            "50\n"
          ],
          "name": "stdout"
        },
        {
          "output_type": "stream",
          "text": [
            "  5%|▌         | 51/1005 [00:51<10:58,  1.45it/s]\n",
            "  5%|▌         | 51/1005 [00:51<10:57,  1.45it/s]\u001b[A\n",
            "\n",
            "  5%|▌         | 51/1005 [00:51<10:54,  1.46it/s]\u001b[A\u001b[A"
          ],
          "name": "stderr"
        },
        {
          "output_type": "stream",
          "text": [
            "51\n"
          ],
          "name": "stdout"
        },
        {
          "output_type": "stream",
          "text": [
            "  5%|▌         | 52/1005 [00:51<09:27,  1.68it/s]\n",
            "  5%|▌         | 52/1005 [00:51<09:26,  1.68it/s]\u001b[A\n",
            "\n",
            "  5%|▌         | 52/1005 [00:51<09:28,  1.68it/s]\u001b[A\u001b[A"
          ],
          "name": "stderr"
        },
        {
          "output_type": "stream",
          "text": [
            "52\n"
          ],
          "name": "stdout"
        },
        {
          "output_type": "stream",
          "text": [
            "  5%|▌         | 53/1005 [00:52<08:18,  1.91it/s]\n",
            "  5%|▌         | 53/1005 [00:52<08:19,  1.91it/s]\u001b[A\n",
            "\n",
            "  5%|▌         | 53/1005 [00:52<08:21,  1.90it/s]\u001b[A\u001b[A"
          ],
          "name": "stderr"
        },
        {
          "output_type": "stream",
          "text": [
            "53\n"
          ],
          "name": "stdout"
        },
        {
          "output_type": "stream",
          "text": [
            "  5%|▌         | 54/1005 [00:53<10:22,  1.53it/s]\n",
            "  5%|▌         | 54/1005 [00:53<10:23,  1.52it/s]\u001b[A\n",
            "\n",
            "  5%|▌         | 54/1005 [00:53<10:21,  1.53it/s]\u001b[A\u001b[A"
          ],
          "name": "stderr"
        },
        {
          "output_type": "stream",
          "text": [
            "54\n"
          ],
          "name": "stdout"
        },
        {
          "output_type": "stream",
          "text": [
            "  5%|▌         | 55/1005 [00:53<09:49,  1.61it/s]\n",
            "  5%|▌         | 55/1005 [00:53<09:48,  1.61it/s]\u001b[A\n",
            "\n",
            "  5%|▌         | 55/1005 [00:53<09:49,  1.61it/s]\u001b[A\u001b[A"
          ],
          "name": "stderr"
        },
        {
          "output_type": "stream",
          "text": [
            "55\n"
          ],
          "name": "stdout"
        },
        {
          "output_type": "stream",
          "text": [
            "  6%|▌         | 56/1005 [00:54<09:40,  1.64it/s]\n",
            "  6%|▌         | 56/1005 [00:54<09:39,  1.64it/s]\u001b[A\n",
            "\n",
            "  6%|▌         | 56/1005 [00:54<09:41,  1.63it/s]\u001b[A\u001b[A"
          ],
          "name": "stderr"
        },
        {
          "output_type": "stream",
          "text": [
            "56\n"
          ],
          "name": "stdout"
        },
        {
          "output_type": "stream",
          "text": [
            "  6%|▌         | 57/1005 [00:54<09:24,  1.68it/s]\n",
            "  6%|▌         | 57/1005 [00:54<09:23,  1.68it/s]\u001b[A\n",
            "\n",
            "  6%|▌         | 57/1005 [00:54<09:22,  1.69it/s]\u001b[A\u001b[A"
          ],
          "name": "stderr"
        },
        {
          "output_type": "stream",
          "text": [
            "57\n"
          ],
          "name": "stdout"
        },
        {
          "output_type": "stream",
          "text": [
            "  6%|▌         | 58/1005 [00:55<08:52,  1.78it/s]\n",
            "  6%|▌         | 58/1005 [00:55<08:51,  1.78it/s]\u001b[A\n",
            "\n",
            "  6%|▌         | 58/1005 [00:55<08:51,  1.78it/s]\u001b[A\u001b[A"
          ],
          "name": "stderr"
        },
        {
          "output_type": "stream",
          "text": [
            "58\n"
          ],
          "name": "stdout"
        },
        {
          "output_type": "stream",
          "text": [
            "  6%|▌         | 59/1005 [00:56<13:10,  1.20it/s]\n",
            "  6%|▌         | 59/1005 [00:56<13:11,  1.19it/s]\u001b[A\n",
            "\n",
            "  6%|▌         | 59/1005 [00:56<13:12,  1.19it/s]\u001b[A\u001b[A"
          ],
          "name": "stderr"
        },
        {
          "output_type": "stream",
          "text": [
            "59\n"
          ],
          "name": "stdout"
        },
        {
          "output_type": "stream",
          "text": [
            "  6%|▌         | 60/1005 [00:57<12:18,  1.28it/s]\n",
            "  6%|▌         | 60/1005 [00:57<12:17,  1.28it/s]\u001b[A\n",
            "\n",
            "  6%|▌         | 60/1005 [00:57<12:19,  1.28it/s]\u001b[A\u001b[A"
          ],
          "name": "stderr"
        },
        {
          "output_type": "stream",
          "text": [
            "60\n"
          ],
          "name": "stdout"
        },
        {
          "output_type": "stream",
          "text": [
            "  6%|▌         | 61/1005 [00:59<18:32,  1.18s/it]\n",
            "  6%|▌         | 61/1005 [00:59<18:32,  1.18s/it]\u001b[A\n",
            "\n",
            "  6%|▌         | 61/1005 [00:59<18:31,  1.18s/it]\u001b[A\u001b[A"
          ],
          "name": "stderr"
        },
        {
          "output_type": "stream",
          "text": [
            "61\n"
          ],
          "name": "stdout"
        },
        {
          "output_type": "stream",
          "text": [
            "  6%|▌         | 62/1005 [01:00<15:16,  1.03it/s]\n",
            "  6%|▌         | 62/1005 [01:00<15:16,  1.03it/s]\u001b[A\n",
            "\n",
            "  6%|▌         | 62/1005 [01:00<15:14,  1.03it/s]\u001b[A\u001b[A"
          ],
          "name": "stderr"
        },
        {
          "output_type": "stream",
          "text": [
            "62\n"
          ],
          "name": "stdout"
        },
        {
          "output_type": "stream",
          "text": [
            "  6%|▋         | 63/1005 [01:00<12:58,  1.21it/s]\n",
            "  6%|▋         | 63/1005 [01:00<12:59,  1.21it/s]\u001b[A\n",
            "\n",
            "  6%|▋         | 63/1005 [01:00<12:56,  1.21it/s]\u001b[A\u001b[A"
          ],
          "name": "stderr"
        },
        {
          "output_type": "stream",
          "text": [
            "63\n"
          ],
          "name": "stdout"
        },
        {
          "output_type": "stream",
          "text": [
            "  6%|▋         | 64/1005 [01:01<15:11,  1.03it/s]\n",
            "  6%|▋         | 64/1005 [01:01<15:12,  1.03it/s]\u001b[A\n",
            "\n",
            "  6%|▋         | 64/1005 [01:01<15:13,  1.03it/s]\u001b[A\u001b[A"
          ],
          "name": "stderr"
        },
        {
          "output_type": "stream",
          "text": [
            "64\n"
          ],
          "name": "stdout"
        },
        {
          "output_type": "stream",
          "text": [
            "  6%|▋         | 65/1005 [01:02<14:56,  1.05it/s]\n",
            "  6%|▋         | 65/1005 [01:02<14:55,  1.05it/s]\u001b[A\n",
            "\n",
            "  6%|▋         | 65/1005 [01:02<14:56,  1.05it/s]\u001b[A\u001b[A"
          ],
          "name": "stderr"
        },
        {
          "output_type": "stream",
          "text": [
            "65\n"
          ],
          "name": "stdout"
        },
        {
          "output_type": "stream",
          "text": [
            "  7%|▋         | 66/1005 [01:03<16:14,  1.04s/it]\n",
            "  7%|▋         | 66/1005 [01:04<16:13,  1.04s/it]\u001b[A\n",
            "\n",
            "  7%|▋         | 66/1005 [01:04<16:15,  1.04s/it]\u001b[A\u001b[A"
          ],
          "name": "stderr"
        },
        {
          "output_type": "stream",
          "text": [
            "66\n"
          ],
          "name": "stdout"
        },
        {
          "output_type": "stream",
          "text": [
            "  7%|▋         | 67/1005 [01:04<15:09,  1.03it/s]\n",
            "  7%|▋         | 67/1005 [01:04<15:09,  1.03it/s]\u001b[A\n",
            "\n",
            "  7%|▋         | 67/1005 [01:04<15:10,  1.03it/s]\u001b[A\u001b[A"
          ],
          "name": "stderr"
        },
        {
          "output_type": "stream",
          "text": [
            "67\n"
          ],
          "name": "stdout"
        },
        {
          "output_type": "stream",
          "text": [
            "  7%|▋         | 68/1005 [01:05<13:45,  1.14it/s]\n",
            "  7%|▋         | 68/1005 [01:05<13:46,  1.13it/s]\u001b[A\n",
            "\n",
            "  7%|▋         | 68/1005 [01:05<13:43,  1.14it/s]\u001b[A\u001b[A"
          ],
          "name": "stderr"
        },
        {
          "output_type": "stream",
          "text": [
            "68\n"
          ],
          "name": "stdout"
        },
        {
          "output_type": "stream",
          "text": [
            "  7%|▋         | 69/1005 [01:06<12:55,  1.21it/s]\n",
            "  7%|▋         | 69/1005 [01:06<12:56,  1.21it/s]\u001b[A\n",
            "\n",
            "  7%|▋         | 69/1005 [01:06<12:56,  1.21it/s]\u001b[A\u001b[A"
          ],
          "name": "stderr"
        },
        {
          "output_type": "stream",
          "text": [
            "69\n"
          ],
          "name": "stdout"
        },
        {
          "output_type": "stream",
          "text": [
            "  7%|▋         | 70/1005 [01:07<13:35,  1.15it/s]\n",
            "  7%|▋         | 70/1005 [01:07<13:36,  1.15it/s]\u001b[A\n",
            "\n",
            "  7%|▋         | 70/1005 [01:07<13:36,  1.15it/s]\u001b[A\u001b[A"
          ],
          "name": "stderr"
        },
        {
          "output_type": "stream",
          "text": [
            "70\n"
          ],
          "name": "stdout"
        },
        {
          "output_type": "stream",
          "text": [
            "  7%|▋         | 71/1005 [01:07<12:44,  1.22it/s]\n",
            "  7%|▋         | 71/1005 [01:07<12:44,  1.22it/s]\u001b[A\n",
            "\n",
            "  7%|▋         | 71/1005 [01:07<12:44,  1.22it/s]\u001b[A\u001b[A"
          ],
          "name": "stderr"
        },
        {
          "output_type": "stream",
          "text": [
            "71\n"
          ],
          "name": "stdout"
        },
        {
          "output_type": "stream",
          "text": [
            "  7%|▋         | 72/1005 [01:08<11:41,  1.33it/s]\n",
            "  7%|▋         | 72/1005 [01:08<11:40,  1.33it/s]\u001b[A\n",
            "\n",
            "  7%|▋         | 72/1005 [01:08<11:42,  1.33it/s]\u001b[A\u001b[A"
          ],
          "name": "stderr"
        },
        {
          "output_type": "stream",
          "text": [
            "72\n"
          ],
          "name": "stdout"
        },
        {
          "output_type": "stream",
          "text": [
            "  7%|▋         | 73/1005 [01:08<09:40,  1.61it/s]\n",
            "  7%|▋         | 73/1005 [01:08<09:38,  1.61it/s]\u001b[A\n",
            "\n",
            "  7%|▋         | 73/1005 [01:08<09:37,  1.61it/s]\u001b[A\u001b[A"
          ],
          "name": "stderr"
        },
        {
          "output_type": "stream",
          "text": [
            "73\n"
          ],
          "name": "stdout"
        },
        {
          "output_type": "stream",
          "text": [
            "  7%|▋         | 74/1005 [01:09<09:35,  1.62it/s]\n",
            "  7%|▋         | 74/1005 [01:09<09:36,  1.61it/s]\u001b[A\n",
            "\n",
            "  7%|▋         | 74/1005 [01:09<09:35,  1.62it/s]\u001b[A\u001b[A"
          ],
          "name": "stderr"
        },
        {
          "output_type": "stream",
          "text": [
            "74\n"
          ],
          "name": "stdout"
        },
        {
          "output_type": "stream",
          "text": [
            "  7%|▋         | 75/1005 [01:10<10:37,  1.46it/s]\n",
            "  7%|▋         | 75/1005 [01:10<10:36,  1.46it/s]\u001b[A\n",
            "\n",
            "  7%|▋         | 75/1005 [01:10<10:38,  1.46it/s]\u001b[A\u001b[A"
          ],
          "name": "stderr"
        },
        {
          "output_type": "stream",
          "text": [
            "75\n"
          ],
          "name": "stdout"
        },
        {
          "output_type": "stream",
          "text": [
            "  8%|▊         | 76/1005 [01:10<10:49,  1.43it/s]\n",
            "  8%|▊         | 76/1005 [01:10<10:48,  1.43it/s]\u001b[A\n",
            "\n",
            "  8%|▊         | 76/1005 [01:10<10:46,  1.44it/s]\u001b[A\u001b[A"
          ],
          "name": "stderr"
        },
        {
          "output_type": "stream",
          "text": [
            "76\n"
          ],
          "name": "stdout"
        },
        {
          "output_type": "stream",
          "text": [
            "  8%|▊         | 77/1005 [01:12<14:53,  1.04it/s]\n",
            "  8%|▊         | 77/1005 [01:12<14:53,  1.04it/s]\u001b[A\n",
            "\n",
            "  8%|▊         | 77/1005 [01:12<14:50,  1.04it/s]\u001b[A\u001b[A"
          ],
          "name": "stderr"
        },
        {
          "output_type": "stream",
          "text": [
            "77\n"
          ],
          "name": "stdout"
        },
        {
          "output_type": "stream",
          "text": [
            "  8%|▊         | 78/1005 [01:13<14:25,  1.07it/s]\n",
            "  8%|▊         | 78/1005 [01:13<14:25,  1.07it/s]\u001b[A\n",
            "\n",
            "  8%|▊         | 78/1005 [01:13<14:23,  1.07it/s]\u001b[A\u001b[A"
          ],
          "name": "stderr"
        },
        {
          "output_type": "stream",
          "text": [
            "78\n"
          ],
          "name": "stdout"
        },
        {
          "output_type": "stream",
          "text": [
            "  8%|▊         | 79/1005 [01:14<14:16,  1.08it/s]\n",
            "  8%|▊         | 79/1005 [01:14<14:15,  1.08it/s]\u001b[A\n",
            "\n",
            "  8%|▊         | 79/1005 [01:14<14:18,  1.08it/s]\u001b[A\u001b[A"
          ],
          "name": "stderr"
        },
        {
          "output_type": "stream",
          "text": [
            "79\n"
          ],
          "name": "stdout"
        },
        {
          "output_type": "stream",
          "text": [
            "  8%|▊         | 80/1005 [01:14<11:56,  1.29it/s]\n",
            "  8%|▊         | 80/1005 [01:14<11:55,  1.29it/s]\u001b[A\n",
            "\n",
            "  8%|▊         | 80/1005 [01:14<11:58,  1.29it/s]\u001b[A\u001b[A"
          ],
          "name": "stderr"
        },
        {
          "output_type": "stream",
          "text": [
            "80\n"
          ],
          "name": "stdout"
        },
        {
          "output_type": "stream",
          "text": [
            "  8%|▊         | 81/1005 [01:15<11:26,  1.35it/s]\n",
            "  8%|▊         | 81/1005 [01:15<11:27,  1.34it/s]\u001b[A\n",
            "\n",
            "  8%|▊         | 81/1005 [01:15<11:25,  1.35it/s]\u001b[A\u001b[A"
          ],
          "name": "stderr"
        },
        {
          "output_type": "stream",
          "text": [
            "81\n"
          ],
          "name": "stdout"
        },
        {
          "output_type": "stream",
          "text": [
            "  8%|▊         | 82/1005 [01:15<09:40,  1.59it/s]\n",
            "  8%|▊         | 82/1005 [01:15<09:41,  1.59it/s]\u001b[A\n",
            "\n",
            "  8%|▊         | 82/1005 [01:15<09:42,  1.59it/s]\u001b[A\u001b[A"
          ],
          "name": "stderr"
        },
        {
          "output_type": "stream",
          "text": [
            "82\n"
          ],
          "name": "stdout"
        },
        {
          "output_type": "stream",
          "text": [
            "  8%|▊         | 83/1005 [01:16<09:55,  1.55it/s]\n",
            "  8%|▊         | 83/1005 [01:16<09:56,  1.55it/s]\u001b[A\n",
            "\n",
            "  8%|▊         | 83/1005 [01:16<09:57,  1.54it/s]\u001b[A\u001b[A"
          ],
          "name": "stderr"
        },
        {
          "output_type": "stream",
          "text": [
            "83\n"
          ],
          "name": "stdout"
        },
        {
          "output_type": "stream",
          "text": [
            "  8%|▊         | 84/1005 [01:17<09:42,  1.58it/s]\n",
            "  8%|▊         | 84/1005 [01:17<09:41,  1.58it/s]\u001b[A\n",
            "\n",
            "  8%|▊         | 84/1005 [01:17<09:41,  1.58it/s]\u001b[A\u001b[A"
          ],
          "name": "stderr"
        },
        {
          "output_type": "stream",
          "text": [
            "84\n"
          ],
          "name": "stdout"
        },
        {
          "output_type": "stream",
          "text": [
            "  8%|▊         | 85/1005 [01:17<09:14,  1.66it/s]\n",
            "  8%|▊         | 85/1005 [01:17<09:13,  1.66it/s]\u001b[A\n",
            "\n",
            "  8%|▊         | 85/1005 [01:17<09:15,  1.66it/s]\u001b[A\u001b[A"
          ],
          "name": "stderr"
        },
        {
          "output_type": "stream",
          "text": [
            "85\n"
          ],
          "name": "stdout"
        },
        {
          "output_type": "stream",
          "text": [
            "  9%|▊         | 86/1005 [01:18<08:43,  1.76it/s]\n",
            "  9%|▊         | 86/1005 [01:18<08:43,  1.76it/s]\u001b[A\n",
            "\n",
            "  9%|▊         | 86/1005 [01:18<08:43,  1.76it/s]\u001b[A\u001b[A"
          ],
          "name": "stderr"
        },
        {
          "output_type": "stream",
          "text": [
            "86\n"
          ],
          "name": "stdout"
        },
        {
          "output_type": "stream",
          "text": [
            "  9%|▊         | 87/1005 [01:19<12:33,  1.22it/s]\n",
            "  9%|▊         | 87/1005 [01:19<12:32,  1.22it/s]\u001b[A\n",
            "\n",
            "  9%|▊         | 87/1005 [01:19<12:32,  1.22it/s]\u001b[A\u001b[A"
          ],
          "name": "stderr"
        },
        {
          "output_type": "stream",
          "text": [
            "87\n"
          ],
          "name": "stdout"
        },
        {
          "output_type": "stream",
          "text": [
            "  9%|▉         | 88/1005 [01:20<13:20,  1.14it/s]\n",
            "  9%|▉         | 88/1005 [01:20<13:22,  1.14it/s]\u001b[A\n",
            "\n",
            "  9%|▉         | 88/1005 [01:20<13:22,  1.14it/s]\u001b[A\u001b[A"
          ],
          "name": "stderr"
        },
        {
          "output_type": "stream",
          "text": [
            "88\n"
          ],
          "name": "stdout"
        },
        {
          "output_type": "stream",
          "text": [
            "  9%|▉         | 89/1005 [01:21<12:40,  1.20it/s]\n",
            "  9%|▉         | 89/1005 [01:21<12:41,  1.20it/s]\u001b[A\n",
            "\n",
            "  9%|▉         | 89/1005 [01:21<12:41,  1.20it/s]\u001b[A\u001b[A"
          ],
          "name": "stderr"
        },
        {
          "output_type": "stream",
          "text": [
            "89\n"
          ],
          "name": "stdout"
        },
        {
          "output_type": "stream",
          "text": [
            "  9%|▉         | 90/1005 [01:22<13:01,  1.17it/s]\n",
            "  9%|▉         | 90/1005 [01:22<12:59,  1.17it/s]\u001b[A\n",
            "\n",
            "  9%|▉         | 90/1005 [01:22<12:59,  1.17it/s]\u001b[A\u001b[A"
          ],
          "name": "stderr"
        },
        {
          "output_type": "stream",
          "text": [
            "90\n"
          ],
          "name": "stdout"
        },
        {
          "output_type": "stream",
          "text": [
            "  9%|▉         | 91/1005 [01:22<12:34,  1.21it/s]\n",
            "  9%|▉         | 91/1005 [01:22<12:34,  1.21it/s]\u001b[A\n",
            "\n",
            "  9%|▉         | 91/1005 [01:22<12:34,  1.21it/s]\u001b[A\u001b[A"
          ],
          "name": "stderr"
        },
        {
          "output_type": "stream",
          "text": [
            "91\n"
          ],
          "name": "stdout"
        },
        {
          "output_type": "stream",
          "text": [
            "  9%|▉         | 92/1005 [01:23<12:01,  1.26it/s]\n",
            "  9%|▉         | 92/1005 [01:23<12:01,  1.27it/s]\u001b[A\n",
            "\n",
            "  9%|▉         | 92/1005 [01:23<12:01,  1.27it/s]\u001b[A\u001b[A"
          ],
          "name": "stderr"
        },
        {
          "output_type": "stream",
          "text": [
            "92\n"
          ],
          "name": "stdout"
        },
        {
          "output_type": "stream",
          "text": [
            "  9%|▉         | 93/1005 [01:24<11:04,  1.37it/s]\n",
            "  9%|▉         | 93/1005 [01:24<11:03,  1.37it/s]\u001b[A\n",
            "\n",
            "  9%|▉         | 93/1005 [01:24<11:02,  1.38it/s]\u001b[A\u001b[A"
          ],
          "name": "stderr"
        },
        {
          "output_type": "stream",
          "text": [
            "93\n"
          ],
          "name": "stdout"
        },
        {
          "output_type": "stream",
          "text": [
            "  9%|▉         | 94/1005 [01:24<10:13,  1.49it/s]\n",
            "  9%|▉         | 94/1005 [01:24<10:13,  1.49it/s]\u001b[A\n",
            "\n",
            "  9%|▉         | 94/1005 [01:24<10:14,  1.48it/s]\u001b[A\u001b[A"
          ],
          "name": "stderr"
        },
        {
          "output_type": "stream",
          "text": [
            "94\n"
          ],
          "name": "stdout"
        },
        {
          "output_type": "stream",
          "text": [
            "  9%|▉         | 95/1005 [01:25<09:19,  1.63it/s]\n",
            "  9%|▉         | 95/1005 [01:25<09:20,  1.62it/s]\u001b[A\n",
            "\n",
            "  9%|▉         | 95/1005 [01:25<09:18,  1.63it/s]\u001b[A\u001b[A"
          ],
          "name": "stderr"
        },
        {
          "output_type": "stream",
          "text": [
            "95\n"
          ],
          "name": "stdout"
        },
        {
          "output_type": "stream",
          "text": [
            " 10%|▉         | 96/1005 [01:25<08:56,  1.69it/s]\n",
            " 10%|▉         | 96/1005 [01:25<08:55,  1.70it/s]\u001b[A\n",
            "\n",
            " 10%|▉         | 96/1005 [01:25<08:57,  1.69it/s]\u001b[A\u001b[A"
          ],
          "name": "stderr"
        },
        {
          "output_type": "stream",
          "text": [
            "96\n"
          ],
          "name": "stdout"
        },
        {
          "output_type": "stream",
          "text": [
            " 10%|▉         | 97/1005 [01:26<08:15,  1.83it/s]\n",
            " 10%|▉         | 97/1005 [01:26<08:17,  1.83it/s]\u001b[A\n",
            "\n",
            " 10%|▉         | 97/1005 [01:26<08:17,  1.82it/s]\u001b[A\u001b[A"
          ],
          "name": "stderr"
        },
        {
          "output_type": "stream",
          "text": [
            "97\n"
          ],
          "name": "stdout"
        },
        {
          "output_type": "stream",
          "text": [
            " 10%|▉         | 98/1005 [01:26<08:50,  1.71it/s]\n",
            " 10%|▉         | 98/1005 [01:26<08:49,  1.71it/s]\u001b[A\n",
            "\n",
            " 10%|▉         | 98/1005 [01:26<08:51,  1.71it/s]\u001b[A\u001b[A"
          ],
          "name": "stderr"
        },
        {
          "output_type": "stream",
          "text": [
            "98\n"
          ],
          "name": "stdout"
        },
        {
          "output_type": "stream",
          "text": [
            " 10%|▉         | 99/1005 [01:27<09:08,  1.65it/s]\n",
            " 10%|▉         | 99/1005 [01:27<09:07,  1.66it/s]\u001b[A\n",
            "\n",
            " 10%|▉         | 99/1005 [01:27<09:09,  1.65it/s]\u001b[A\u001b[A"
          ],
          "name": "stderr"
        },
        {
          "output_type": "stream",
          "text": [
            "99\n"
          ],
          "name": "stdout"
        },
        {
          "output_type": "stream",
          "text": [
            " 10%|▉         | 99/1005 [01:27<13:24,  1.13it/s]\n",
            " 10%|▉         | 99/1005 [01:27<13:24,  1.13it/s]\n",
            " 10%|▉         | 99/1005 [01:27<13:24,  1.13it/s]\n"
          ],
          "name": "stderr"
        },
        {
          "output_type": "stream",
          "text": [
            "Epoch 1/5\n",
            "Highway layer input: Tensor(\"model/Cast_2:0\", shape=(2, 60, 400), dtype=float64)\n",
            "Highway dim: 400\n",
            "Highway layer input: Tensor(\"model/Cast_3:0\", shape=(2, 766, 400), dtype=float64)\n",
            "Highway dim: 400\n",
            "Highway layer input: Tensor(\"model/Cast_2:0\", shape=(2, 60, 400), dtype=float64)\n",
            "Highway dim: 400\n",
            "Highway layer input: Tensor(\"model/Cast_3:0\", shape=(2, 766, 400), dtype=float64)\n",
            "Highway dim: 400\n",
            "1/1 - 27s - loss: 13.2896 - output_loss: 6.6559 - output_1_loss: 6.6337 - output_accuracy: 0.0000e+00 - output_1_accuracy: 0.0000e+00\n",
            "Epoch 2/5\n",
            "1/1 - 5s - loss: 13.2390 - output_loss: 6.6333 - output_1_loss: 6.6057 - output_accuracy: 0.0000e+00 - output_1_accuracy: 0.0000e+00\n",
            "Epoch 3/5\n",
            "1/1 - 5s - loss: 13.2466 - output_loss: 6.6335 - output_1_loss: 6.6131 - output_accuracy: 0.0000e+00 - output_1_accuracy: 0.0000e+00\n",
            "Epoch 4/5\n",
            "1/1 - 5s - loss: 13.2245 - output_loss: 6.6309 - output_1_loss: 6.5937 - output_accuracy: 0.0000e+00 - output_1_accuracy: 0.0000e+00\n",
            "Epoch 5/5\n",
            "1/1 - 5s - loss: 13.1961 - output_loss: 6.6171 - output_1_loss: 6.5791 - output_accuracy: 0.0000e+00 - output_1_accuracy: 0.0000e+00\n"
          ],
          "name": "stdout"
        }
      ]
    }
  ]
}